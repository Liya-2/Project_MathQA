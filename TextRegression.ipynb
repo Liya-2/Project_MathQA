{
 "cells": [
  {
   "cell_type": "markdown",
   "metadata": {},
   "source": [
    "## 1. Get the dataset ##"
   ]
  },
  {
   "cell_type": "code",
   "execution_count": 1,
   "metadata": {},
   "outputs": [
    {
     "name": "stdout",
     "output_type": "stream",
     "text": [
      "training problems number:  29837\n",
      "category\n",
      "gain            5120\n",
      "general        13273\n",
      "geometry        2117\n",
      "other           1814\n",
      "physics         7063\n",
      "probability      450\n",
      "Name: Problem, dtype: int64\n"
     ]
    },
    {
     "data": {
      "text/html": [
       "<div>\n",
       "<style scoped>\n",
       "    .dataframe tbody tr th:only-of-type {\n",
       "        vertical-align: middle;\n",
       "    }\n",
       "\n",
       "    .dataframe tbody tr th {\n",
       "        vertical-align: top;\n",
       "    }\n",
       "\n",
       "    .dataframe thead th {\n",
       "        text-align: right;\n",
       "    }\n",
       "</style>\n",
       "<table border=\"1\" class=\"dataframe\">\n",
       "  <thead>\n",
       "    <tr style=\"text-align: right;\">\n",
       "      <th></th>\n",
       "      <th>Problem</th>\n",
       "      <th>Rationale</th>\n",
       "      <th>options</th>\n",
       "      <th>correct</th>\n",
       "      <th>annotated_formula</th>\n",
       "      <th>linear_formula</th>\n",
       "      <th>category</th>\n",
       "    </tr>\n",
       "  </thead>\n",
       "  <tbody>\n",
       "    <tr>\n",
       "      <th>0</th>\n",
       "      <td>the banker ' s gain of a certain sum due 3 yea...</td>\n",
       "      <td>\"explanation : t = 3 years r = 10 % td = ( bg ...</td>\n",
       "      <td>a ) rs . 400 , b ) rs . 300 , c ) rs . 500 , d...</td>\n",
       "      <td>a</td>\n",
       "      <td>divide(multiply(const_100, divide(multiply(36,...</td>\n",
       "      <td>multiply(n2,const_100)|multiply(n0,n1)|divide(...</td>\n",
       "      <td>gain</td>\n",
       "    </tr>\n",
       "    <tr>\n",
       "      <th>1</th>\n",
       "      <td>average age of students of an adult school is ...</td>\n",
       "      <td>\"explanation : let the original no . of studen...</td>\n",
       "      <td>a ) 1200 , b ) 120 , c ) 360 , d ) 240 , e ) n...</td>\n",
       "      <td>d</td>\n",
       "      <td>multiply(divide(subtract(multiply(add(32, 4), ...</td>\n",
       "      <td>add(n2,n3)|multiply(n1,n2)|multiply(n1,#0)|sub...</td>\n",
       "      <td>general</td>\n",
       "    </tr>\n",
       "    <tr>\n",
       "      <th>2</th>\n",
       "      <td>sophia finished 2 / 3 of a book . she calculat...</td>\n",
       "      <td>let xx be the total number of pages in the boo...</td>\n",
       "      <td>a ) 229 , b ) 270 , c ) 877 , d ) 266 , e ) 281</td>\n",
       "      <td>b</td>\n",
       "      <td>divide(90, subtract(const_1, divide(2, 3)))</td>\n",
       "      <td>divide(n0,n1)|subtract(const_1,#0)|divide(n2,#1)</td>\n",
       "      <td>general</td>\n",
       "    </tr>\n",
       "    <tr>\n",
       "      <th>3</th>\n",
       "      <td>120 is what percent of 50 ?</td>\n",
       "      <td>\"50 * x = 120 - - &gt; x = 2.4 - - &gt; 2.4 expresse...</td>\n",
       "      <td>a ) 5 % , b ) 240 % , c ) 50 % , d ) 2 % , e )...</td>\n",
       "      <td>b</td>\n",
       "      <td>multiply(divide(120, 50), const_100)</td>\n",
       "      <td>divide(n0,n1)|multiply(#0,const_100)|</td>\n",
       "      <td>gain</td>\n",
       "    </tr>\n",
       "    <tr>\n",
       "      <th>4</th>\n",
       "      <td>there are 10 girls and 20 boys in a classroom ...</td>\n",
       "      <td>if girls is 10 and boys is 20 , then 10 / 20 ....</td>\n",
       "      <td>a ) 1 / 2 , b ) 1 / 3 , c ) 1 / 5 , d ) 10 / 3...</td>\n",
       "      <td>a</td>\n",
       "      <td>divide(10, 20)</td>\n",
       "      <td>divide(n0,n1)</td>\n",
       "      <td>other</td>\n",
       "    </tr>\n",
       "  </tbody>\n",
       "</table>\n",
       "</div>"
      ],
      "text/plain": [
       "                                             Problem  \\\n",
       "0  the banker ' s gain of a certain sum due 3 yea...   \n",
       "1  average age of students of an adult school is ...   \n",
       "2  sophia finished 2 / 3 of a book . she calculat...   \n",
       "3                        120 is what percent of 50 ?   \n",
       "4  there are 10 girls and 20 boys in a classroom ...   \n",
       "\n",
       "                                           Rationale  \\\n",
       "0  \"explanation : t = 3 years r = 10 % td = ( bg ...   \n",
       "1  \"explanation : let the original no . of studen...   \n",
       "2  let xx be the total number of pages in the boo...   \n",
       "3  \"50 * x = 120 - - > x = 2.4 - - > 2.4 expresse...   \n",
       "4  if girls is 10 and boys is 20 , then 10 / 20 ....   \n",
       "\n",
       "                                             options correct  \\\n",
       "0  a ) rs . 400 , b ) rs . 300 , c ) rs . 500 , d...       a   \n",
       "1  a ) 1200 , b ) 120 , c ) 360 , d ) 240 , e ) n...       d   \n",
       "2    a ) 229 , b ) 270 , c ) 877 , d ) 266 , e ) 281       b   \n",
       "3  a ) 5 % , b ) 240 % , c ) 50 % , d ) 2 % , e )...       b   \n",
       "4  a ) 1 / 2 , b ) 1 / 3 , c ) 1 / 5 , d ) 10 / 3...       a   \n",
       "\n",
       "                                   annotated_formula  \\\n",
       "0  divide(multiply(const_100, divide(multiply(36,...   \n",
       "1  multiply(divide(subtract(multiply(add(32, 4), ...   \n",
       "2        divide(90, subtract(const_1, divide(2, 3)))   \n",
       "3               multiply(divide(120, 50), const_100)   \n",
       "4                                     divide(10, 20)   \n",
       "\n",
       "                                      linear_formula category  \n",
       "0  multiply(n2,const_100)|multiply(n0,n1)|divide(...     gain  \n",
       "1  add(n2,n3)|multiply(n1,n2)|multiply(n1,#0)|sub...  general  \n",
       "2   divide(n0,n1)|subtract(const_1,#0)|divide(n2,#1)  general  \n",
       "3              divide(n0,n1)|multiply(#0,const_100)|     gain  \n",
       "4                                      divide(n0,n1)    other  "
      ]
     },
     "execution_count": 1,
     "metadata": {},
     "output_type": "execute_result"
    }
   ],
   "source": [
    "import pandas as pd\n",
    "import numpy as np\n",
    "import json\n",
    "\n",
    "\n",
    "# training data\n",
    "\n",
    "with open('dataset/MathQA/train.json') as f:\n",
    "    data = json.loads(f.read())\n",
    "    \n",
    "train_df = pd.DataFrame(data)\n",
    "\n",
    "print('training problems number: ', train_df['Problem'].count())\n",
    "print(train_df.groupby(['category'])['Problem'].count())\n",
    "\n",
    "train_df.head(5)"
   ]
  },
  {
   "cell_type": "markdown",
   "metadata": {},
   "source": [
    "## 2. Get the content of correct answers from the options "
   ]
  },
  {
   "cell_type": "code",
   "execution_count": 2,
   "metadata": {},
   "outputs": [],
   "source": [
    "def get_correct_ans(train_df):\n",
    "    # get the correct answer from the options in the dataset\n",
    "    \n",
    "    answers = list()\n",
    "    for i in range(len(train_df)):\n",
    "        options = train_df.iloc[i]['options']+\" ,\"\n",
    "        tab = train_df.iloc[i]['correct']\n",
    "        index_s = options.find(tab+\" ) \")+3\n",
    "        index_len = options[index_s:].find(',')\n",
    "        ans = options[index_s:index_s+index_len]\n",
    "        answers.append(ans)\n",
    "\n",
    "    answers = pd.Series(answers)\n",
    "    return answers"
   ]
  },
  {
   "cell_type": "code",
   "execution_count": 3,
   "metadata": {},
   "outputs": [
    {
     "name": "stdout",
     "output_type": "stream",
     "text": [
      "0         rs . 400 \n",
      "1              240 \n",
      "2              270 \n",
      "3            240 % \n",
      "4            1 / 2 \n",
      "            ...    \n",
      "29832        1 : 2 \n",
      "29833       d ) 98 \n",
      "29834         - 12 \n",
      "29835          242 \n",
      "29836       twelve \n",
      "Length: 29837, dtype: object\n"
     ]
    }
   ],
   "source": [
    "cor_answers = get_correct_ans(train_df)\n",
    "print(cor_answers)"
   ]
  },
  {
   "cell_type": "code",
   "execution_count": 4,
   "metadata": {},
   "outputs": [
    {
     "data": {
      "text/plain": [
       "3865      one \n",
       "10527     one \n",
       "dtype: object"
      ]
     },
     "execution_count": 4,
     "metadata": {},
     "output_type": "execute_result"
    }
   ],
   "source": [
    "cor_answers[cor_answers.str.contains(' one ')]"
   ]
  },
  {
   "cell_type": "markdown",
   "metadata": {},
   "source": [
    "## 3. Normalization"
   ]
  },
  {
   "cell_type": "markdown",
   "metadata": {},
   "source": [
    "#### normalizing function 30^10 2/3 10% 5:8\n",
    "#### that can be used in the answers and problems"
   ]
  },
  {
   "cell_type": "code",
   "execution_count": 5,
   "metadata": {},
   "outputs": [],
   "source": [
    "import re\n",
    "\n",
    "def add_space(sen):\n",
    "    return \" \"+sen+\" \"\n",
    "\n",
    "def replace_fraction(sen):\n",
    "    # replace all string like \"2 / 3 \"\n",
    "    pattern = re.compile(r'[0-9]+\\s\\/\\s[0-9]+\\s')    \n",
    "    results = pattern.findall(sen)\n",
    "    \n",
    "    if results != None:\n",
    "        new_results = []\n",
    "        for i in results:\n",
    "            nums = i.split(' / ')\n",
    "            new_results.append(str(int(nums[0])/int(nums[1]))[:8]+' ')\n",
    "        for i in range(len(results)):\n",
    "            sen = sen.replace(results[i], new_results[i])\n",
    "    return sen\n",
    "\n",
    "def replace_percentage(sen):\n",
    "    # replace all string like \"20 %\"\n",
    "    pattern = re.compile(r'[0-9]+\\.?[0-9]*\\s%')   \n",
    "    results = pattern.findall(sen)\n",
    "    \n",
    "    if results != None:\n",
    "        new_results = []\n",
    "        for i in results:\n",
    "            nums = i.split(' ')\n",
    "            new_results.append(str(round(float(nums[0])/100, 4)))\n",
    "        for i in range(len(results)):\n",
    "            sen = sen.replace(results[i], new_results[i])\n",
    "    return sen\n",
    "\n",
    "def replace_ratio(sen):\n",
    "    # replace all string like \" 2 : 3\" \"0.5 : 0.33 : 0.25\"\n",
    "    pattern = re.compile(r'[0-9]+\\.?[0-9]*\\s\\:\\s[0-9]+\\.?[0-9]*')\n",
    "    results = pattern.findall(sen)\n",
    "    \n",
    "    if results != None:\n",
    "        new_results = []\n",
    "        for i in results:\n",
    "            nums = i.split(' : ')\n",
    "            new_results.append(str(round(float(nums[0])/(float(nums[0])+float(nums[1])), 4)))\n",
    "        for i in range(len(results)):\n",
    "            sen = sen.replace(results[i], new_results[i])\n",
    "    return sen\n",
    "\n",
    "def replace_power(sen):\n",
    "    # replace all string like \"  30 ^ 10 \"\n",
    "    pass\n",
    "    return sen\n",
    "\n",
    "def replace_numword(sen):\n",
    "    sen = sen.replace(' one ', ' 1 ')\n",
    "    sen = sen.replace(' two ', ' 2 ')\n",
    "    sen = sen.replace(' three ', ' 3 ')\n",
    "    sen = sen.replace(' four ', ' 4 ')\n",
    "    sen = sen.replace(' five ', ' 5 ')\n",
    "    sen = sen.replace(' six ', ' 6 ')\n",
    "    sen = sen.replace(' seven ', ' 7 ')\n",
    "    sen = sen.replace(' eight ', ' 8 ')\n",
    "    sen = sen.replace(' nine ', ' 9 ')\n",
    "    sen = sen.replace(' ten ', ' 10 ')\n",
    "    sen = sen.replace(' eleven ', ' 11 ')\n",
    "    sen = sen.replace(' twelve ', ' 12 ')\n",
    "    sen = sen.replace(' thirteen ', ' 13 ')\n",
    "    sen = sen.replace(' fourteen ', ' 14 ')\n",
    "    return sen\n",
    "\n",
    "def replace_minus(sen):\n",
    "    # replace all string like \"- 20.5\"\n",
    "    pattern = re.compile(r'\\-\\s[0-9]+\\.?[0-9]*')   \n",
    "    results = pattern.findall(sen)\n",
    "    \n",
    "    if results != None:\n",
    "        for i in results:\n",
    "            sen = sen.replace(i, i.replace(\" \", \"\", 1))\n",
    "    return sen\n",
    "    \n",
    "def replace_punc(sen):\n",
    "    # replace punctuation like \"'\" \".\" \"|\"\n",
    "    sen = re.sub(r'\\s[^\\w\\s]\\s', ' ', sen)\n",
    "    return sen\n"
   ]
  },
  {
   "cell_type": "code",
   "execution_count": 6,
   "metadata": {},
   "outputs": [],
   "source": [
    "def answers_processing(answers):    \n",
    "    # normalizing the correct answers\n",
    "    # get the correct answers array that may contain NaN\n",
    "    \n",
    "    answers = answers.apply(replace_power)\n",
    "    answers = answers.apply(replace_fraction)\n",
    "    answers = answers.apply(replace_percentage)\n",
    "    answers = answers.apply(replace_ratio)\n",
    "    answers = answers.apply(replace_numword)\n",
    "    answers = answers.apply(replace_minus)\n",
    "\n",
    "    def separate_ans_numbers(sen):\n",
    "        numbers = re.search(r'\\-?[0-9]+\\.?[0-9]*', sen)\n",
    "        if numbers:\n",
    "            numbers = numbers.group()\n",
    "            return round(float(numbers), 4)\n",
    "        else:\n",
    "            return \n",
    "    answers = answers.apply(separate_ans_numbers)\n",
    "    return answers\n",
    "\n",
    "num_answers = answers_processing(cor_answers)"
   ]
  },
  {
   "cell_type": "code",
   "execution_count": 7,
   "metadata": {},
   "outputs": [
    {
     "name": "stdout",
     "output_type": "stream",
     "text": [
      "425      -8.00\n",
      "426        NaN\n",
      "427    3960.00\n",
      "428       4.00\n",
      "429     600.00\n",
      "430        NaN\n",
      "431      50.00\n",
      "432      66.00\n",
      "433       0.25\n",
      "434     625.00\n",
      "dtype: float64\n"
     ]
    }
   ],
   "source": [
    "print(num_answers[425:435])"
   ]
  },
  {
   "cell_type": "code",
   "execution_count": 8,
   "metadata": {},
   "outputs": [
    {
     "data": {
      "text/plain": [
       "145     NaN\n",
       "322     NaN\n",
       "426     NaN\n",
       "430     NaN\n",
       "498     NaN\n",
       "         ..\n",
       "28960   NaN\n",
       "29073   NaN\n",
       "29413   NaN\n",
       "29504   NaN\n",
       "29626   NaN\n",
       "Length: 156, dtype: float64"
      ]
     },
     "execution_count": 8,
     "metadata": {},
     "output_type": "execute_result"
    }
   ],
   "source": [
    "num_answers[num_answers.isna()]"
   ]
  },
  {
   "cell_type": "markdown",
   "metadata": {},
   "source": [
    "## 4. Get the subset according to the correct answers"
   ]
  },
  {
   "cell_type": "code",
   "execution_count": 9,
   "metadata": {},
   "outputs": [
    {
     "name": "stdout",
     "output_type": "stream",
     "text": [
      "Int64Index([    0,     1,     2,     3,     4,     5,     6,     7,     8,\n",
      "                9,\n",
      "            ...\n",
      "            29827, 29828, 29829, 29830, 29831, 29832, 29833, 29834, 29835,\n",
      "            29836],\n",
      "           dtype='int64', length=29681)\n"
     ]
    }
   ],
   "source": [
    "def get_subset_index(answers):\n",
    "    # get the subset index\n",
    "    return answers[~answers.isna()].index\n",
    "\n",
    "subset_index = get_subset_index(num_answers)\n",
    "print(subset_index)"
   ]
  },
  {
   "cell_type": "code",
   "execution_count": 10,
   "metadata": {},
   "outputs": [
    {
     "name": "stdout",
     "output_type": "stream",
     "text": [
      "0        the banker ' s gain of a certain sum due 3 yea...\n",
      "1        average age of students of an adult school is ...\n",
      "2        sophia finished 2 / 3 of a book . she calculat...\n",
      "3                              120 is what percent of 50 ?\n",
      "4        there are 10 girls and 20 boys in a classroom ...\n",
      "                               ...                        \n",
      "29676    a man invests some money partly in 10 % stock ...\n",
      "29677    average of 10 matches is 32 , how many runs on...\n",
      "29678                  solve below question 2 x + 1 = - 23\n",
      "29679                            calculate 85184 ÷ ? = 352\n",
      "29680    7.51 8.22 7.86 8.36 8.09 7.83 8.30 8.01 7.73 8...\n",
      "Name: Problem, Length: 29681, dtype: object\n",
      "0        400.0000\n",
      "1        240.0000\n",
      "2        270.0000\n",
      "3          2.4000\n",
      "4          0.5000\n",
      "           ...   \n",
      "29676      0.3333\n",
      "29677     98.0000\n",
      "29678    -12.0000\n",
      "29679    242.0000\n",
      "29680     12.0000\n",
      "Length: 29681, dtype: float64\n"
     ]
    }
   ],
   "source": [
    "pre_train_problems = train_df['Problem'].iloc[subset_index].reset_index(drop=True)\n",
    "print(pre_train_problems)\n",
    "\n",
    "train_ans = num_answers.iloc[subset_index].reset_index(drop=True)\n",
    "print(train_ans)"
   ]
  },
  {
   "cell_type": "markdown",
   "metadata": {},
   "source": [
    "## 5. Processing the problems and separate the text and numbers"
   ]
  },
  {
   "cell_type": "markdown",
   "metadata": {},
   "source": [
    "#### 1) normalize the numbers and remove the punctuations"
   ]
  },
  {
   "cell_type": "code",
   "execution_count": 11,
   "metadata": {},
   "outputs": [],
   "source": [
    "def problem_processing(problem):\n",
    "    # processing the problems and normalize the numbers in the problem\n",
    "    problem = problem.apply(add_space)\n",
    "    problem = problem.apply(replace_power)\n",
    "    problem = problem.apply(replace_fraction)\n",
    "    problem = problem.apply(replace_percentage)\n",
    "    problem = problem.apply(replace_ratio)\n",
    "    problem = problem.apply(replace_numword)\n",
    "    problem = problem.apply(replace_minus)\n",
    "    problem = problem.apply(replace_punc)\n",
    "    return problem\n",
    "\n",
    "train_problems = problem_processing(pre_train_problems)"
   ]
  },
  {
   "cell_type": "code",
   "execution_count": 12,
   "metadata": {},
   "outputs": [
    {
     "name": "stdout",
     "output_type": "stream",
     "text": [
      "0     the banker s gain of a certain sum due 3 year...\n",
      "1     average age of students of an adult school is...\n",
      "2     sophia finished 0.666666 of a book she calcul...\n",
      "3                           120 is what percent of 50 \n",
      "4     there are 10 girls and 20 boys in a classroom...\n",
      "Name: Problem, dtype: object\n"
     ]
    }
   ],
   "source": [
    "print(train_problems[:5])"
   ]
  },
  {
   "cell_type": "markdown",
   "metadata": {},
   "source": [
    "#### 2) separate text and numbers in problems"
   ]
  },
  {
   "cell_type": "code",
   "execution_count": 13,
   "metadata": {},
   "outputs": [
    {
     "name": "stdout",
     "output_type": "stream",
     "text": [
      "0         the banker s gain of a certain sum due years ...\n",
      "1         average age of students of an adult school is...\n",
      "2         sophia finished of a book she calculated that...\n",
      "3                                      is what percent of \n",
      "4         there are girls and boys in a classroom what ...\n",
      "                               ...                        \n",
      "29676     a man invests some money partly in stock at a...\n",
      "29677     average of matches is how many runs should sh...\n",
      "29678                              solve below question x \n",
      "29679                                         calculate ? \n",
      "29680     a vending machine is designed to dispense oun...\n",
      "Name: Problem, Length: 29681, dtype: object\n",
      "0                                         [3.0, 0.1, 36.0]\n",
      "1                                 [40.0, 120.0, 32.0, 4.0]\n",
      "2                                           [0.6667, 90.0]\n",
      "3                                            [120.0, 50.0]\n",
      "4                                             [10.0, 20.0]\n",
      "                               ...                        \n",
      "29676                              [0.1, 90.0, 0.05, 90.0]\n",
      "29677                               [10.0, 32.0, 1.0, 6.0]\n",
      "29678                                    [2.0, 1.0, -23.0]\n",
      "29679                                     [85184.0, 352.0]\n",
      "29680    [7.51, 8.22, 7.86, 8.36, 8.09, 7.83, 8.3, 8.01...\n",
      "Name: Problem, Length: 29681, dtype: object\n"
     ]
    }
   ],
   "source": [
    "def separate_numbers(sen):    \n",
    "    pattarn = re.compile(r'\\-?[0-9]+\\.?[0-9]*')\n",
    "    numbers = pattarn.findall(sen)\n",
    "    numbers = [round(float(i), 4) for i in numbers]\n",
    "    return numbers\n",
    "    \n",
    "def separate_text(sen):\n",
    "    pattarn = re.compile(r'\\-?[0-9]+\\.?[0-9]*')\n",
    "    numbers = pattarn.findall(sen)\n",
    "    for i in numbers:\n",
    "        sen = sen.replace(\" \"+i+\" \", \" \")\n",
    "    return sen    \n",
    "\n",
    "text = train_problems.apply(separate_text)\n",
    "print(text)\n",
    "\n",
    "numbers = train_problems.apply(separate_numbers)\n",
    "print(numbers)"
   ]
  },
  {
   "cell_type": "code",
   "execution_count": 14,
   "metadata": {},
   "outputs": [
    {
     "name": "stdout",
     "output_type": "stream",
     "text": [
      "solve below question 2 x + 1 = - 23\n",
      " solve below question 2 x 1 -23 \n",
      "[2.0, 1.0, -23.0]\n",
      " solve below question x \n"
     ]
    }
   ],
   "source": [
    "# example sentence\n",
    "sen = \"3.6 the banker ' s 3 : 8 : 7 gain of a - 0.66 certain 3.2549 sum due 3 years 21.5 % hence 5 : 8 at 10 % per annum is rs . 36 . what is the present worth ? = - 996\"\n",
    "sen = \"solve below question 2 x + 1 = - 23\"\n",
    "print(sen)\n",
    "sen = add_space(sen)\n",
    "sen = replace_power(sen)\n",
    "sen = replace_fraction(sen)\n",
    "sen = replace_percentage(sen)\n",
    "sen = replace_ratio(sen)\n",
    "sen = replace_minus(sen)\n",
    "sen = replace_punc(sen)\n",
    "print(sen)\n",
    "print(separate_numbers(sen))\n",
    "print(separate_text(sen))\n"
   ]
  },
  {
   "cell_type": "markdown",
   "metadata": {},
   "source": [
    "## 4. Processing"
   ]
  },
  {
   "cell_type": "markdown",
   "metadata": {},
   "source": [
    "### processing text ###"
   ]
  },
  {
   "cell_type": "code",
   "execution_count": 15,
   "metadata": {},
   "outputs": [
    {
     "name": "stdout",
     "output_type": "stream",
     "text": [
      "the max tokens in the texts:  745\n"
     ]
    }
   ],
   "source": [
    "max_token = 0\n",
    "for t in text:\n",
    "    if len(t) > max_token:\n",
    "        max_token = len(t)\n",
    "print(\"the max tokens in the texts: \", max_token)"
   ]
  },
  {
   "cell_type": "code",
   "execution_count": 16,
   "metadata": {},
   "outputs": [
    {
     "name": "stdout",
     "output_type": "stream",
     "text": [
      "token vocab length: 8096\n",
      "max sequence length:  136\n"
     ]
    }
   ],
   "source": [
    "import tensorflow as tf\n",
    "from tensorflow.keras.preprocessing.text import Tokenizer\n",
    "from tensorflow.keras.preprocessing import sequence\n",
    "\n",
    "max_features = 5000\n",
    "\n",
    "# build a word vocab that contains top 5000 most frequent words\n",
    "tok = Tokenizer(num_words=max_features)\n",
    "tok.fit_on_texts(text)\n",
    "\n",
    "print(\"token vocab length:\", len(tok.word_index))\n",
    "# print(tok.word_index)\n",
    "\n",
    "x_train_seq = tok.texts_to_sequences(text)\n",
    "\n",
    "# get the length and max length of text sequence in each sentence\n",
    "seq_length = list()\n",
    "max_seq = 0\n",
    "for i in x_train_seq:\n",
    "    seq_length.append(len(i))\n",
    "max_seq = max(seq_length)\n",
    "print(\"max sequence length: \", max_seq)\n"
   ]
  },
  {
   "cell_type": "code",
   "execution_count": 17,
   "metadata": {},
   "outputs": [
    {
     "data": {
      "image/png": "[encoded data removed]",
      "text/plain": [
       "<Figure size 432x288 with 1 Axes>"
      ]
     },
     "metadata": {
      "needs_background": "light"
     },
     "output_type": "display_data"
    }
   ],
   "source": [
    "# get the distribution of the length of sequence in each sentence text\n",
    "import matplotlib.pyplot as plt\n",
    "\n",
    "plt.title(\"The distribution of the length of sequences in each sentence text\")\n",
    "plt.hist(seq_length, bins=20)\n",
    "plt.xticks(np.arange(0, 150, 20))\n",
    "plt.show()"
   ]
  },
  {
   "cell_type": "code",
   "execution_count": 18,
   "metadata": {},
   "outputs": [
    {
     "name": "stdout",
     "output_type": "stream",
     "text": [
      "[[   1 1351   40 ...    0    0    0]\n",
      " [  27  102    2 ...    0    0    0]\n",
      " [ 741    2    3 ...    0    0    0]\n",
      " ...\n",
      " [1108  704  621 ...    0    0    0]\n",
      " [ 602    0    0 ...    0    0    0]\n",
      " [   3  201    4 ...    2    1 1360]]\n",
      "(29681, 60)\n",
      "int32\n"
     ]
    }
   ],
   "source": [
    "# pad sequence (get the first 60/80 text sequence)\n",
    "sequence_length = 60\n",
    "x_train= sequence.pad_sequences(x_train_seq, maxlen=sequence_length, truncating='post', padding='post')\n",
    "x_train= x_train[:, :sequence_length]\n",
    "\n",
    "print(x_train)\n",
    "print(x_train.shape)\n",
    "print(x_train.dtype)"
   ]
  },
  {
   "cell_type": "code",
   "execution_count": 19,
   "metadata": {},
   "outputs": [
    {
     "data": {
      "text/plain": [
       "False"
      ]
     },
     "execution_count": 19,
     "metadata": {},
     "output_type": "execute_result"
    }
   ],
   "source": [
    "x1 = np.array(x_train)\n",
    "np.any(np.isnan(x1))"
   ]
  },
  {
   "cell_type": "markdown",
   "metadata": {},
   "source": [
    "### processing numbers ###"
   ]
  },
  {
   "cell_type": "code",
   "execution_count": 20,
   "metadata": {},
   "outputs": [
    {
     "name": "stdout",
     "output_type": "stream",
     "text": [
      "max number sequence length:  23\n"
     ]
    }
   ],
   "source": [
    "# the counts of the numbers in each sentence, get the distribution\n",
    "\n",
    "max_number_seq = 0\n",
    "num_seq_length = list()\n",
    "for i in numbers:\n",
    "    num_seq_length.append(len(i))\n",
    "max_number_seq = max(num_seq_length)\n",
    "print(\"max number sequence length: \", max_number_seq)\n"
   ]
  },
  {
   "cell_type": "code",
   "execution_count": 21,
   "metadata": {},
   "outputs": [
    {
     "data": {
      "image/png": "[encoded data removed]",
      "text/plain": [
       "<Figure size 432x288 with 1 Axes>"
      ]
     },
     "metadata": {
      "needs_background": "light"
     },
     "output_type": "display_data"
    }
   ],
   "source": [
    "# get the distribution of the count of the nubmers\n",
    "import matplotlib.pyplot as plt\n",
    "\n",
    "plt.title(\"The distribution of the count of nubmers in each sentence\")\n",
    "plt.hist(num_seq_length, bins=max_number_seq)\n",
    "plt.xticks(np.arange(max_number_seq))\n",
    "plt.show()"
   ]
  },
  {
   "cell_type": "code",
   "execution_count": 22,
   "metadata": {},
   "outputs": [],
   "source": [
    "# print(numbers)\n",
    "\n",
    "for i in numbers:\n",
    "    a = np.array(i)\n",
    "    if np.any(np.isnan(a)):\n",
    "        print(\"y\")\n",
    "    if np.any(np.isinf(a)):\n",
    "        print(\"n\")"
   ]
  },
  {
   "cell_type": "code",
   "execution_count": 23,
   "metadata": {},
   "outputs": [
    {
     "name": "stdout",
     "output_type": "stream",
     "text": [
      "[[ 3.0000e+00  1.0000e-01  3.6000e+01  0.0000e+00  0.0000e+00]\n",
      " [ 4.0000e+01  1.2000e+02  3.2000e+01  4.0000e+00  0.0000e+00]\n",
      " [ 6.6670e-01  9.0000e+01  0.0000e+00  0.0000e+00  0.0000e+00]\n",
      " ...\n",
      " [ 2.0000e+00  1.0000e+00 -2.3000e+01  0.0000e+00  0.0000e+00]\n",
      " [ 8.5184e+04  3.5200e+02  0.0000e+00  0.0000e+00  0.0000e+00]\n",
      " [ 7.5100e+00  8.2200e+00  7.8600e+00  8.3600e+00  8.0900e+00]]\n",
      "(29681, 5)\n",
      "float32\n"
     ]
    }
   ],
   "source": [
    "# pad sequence (get the first 5 nubmers)\n",
    "max_number_seq = 5\n",
    "x_train_num = sequence.pad_sequences(numbers, dtype='float32', truncating='post', padding='post')\n",
    "x_train_num = x_train_num[:, :max_number_seq]\n",
    "\n",
    "print(x_train_num)\n",
    "print(x_train_num.shape)\n",
    "print(x_train_num.dtype)"
   ]
  },
  {
   "cell_type": "code",
   "execution_count": 24,
   "metadata": {},
   "outputs": [
    {
     "name": "stdout",
     "output_type": "stream",
     "text": [
      "0        400.0000\n",
      "1        240.0000\n",
      "2        270.0000\n",
      "3          2.4000\n",
      "4          0.5000\n",
      "           ...   \n",
      "29676      0.3333\n",
      "29677     98.0000\n",
      "29678    -12.0000\n",
      "29679    242.0000\n",
      "29680     12.0000\n",
      "Length: 29681, dtype: float64\n"
     ]
    }
   ],
   "source": [
    "y_train = train_ans\n",
    "print(y_train)"
   ]
  },
  {
   "cell_type": "markdown",
   "metadata": {},
   "source": [
    "## 5. Model"
   ]
  },
  {
   "cell_type": "code",
   "execution_count": 25,
   "metadata": {},
   "outputs": [],
   "source": [
    "# Load Glove vectors\n",
    "\n",
    "import numpy as np\n",
    "\n",
    "def create_embedding_matrix(filepath, word_index, embedding_dim):\n",
    "    vocab_size = len(word_index) + 1  # Adding again 1 because of reserved 0 index\n",
    "    embedding_matrix = np.zeros((vocab_size, embedding_dim))\n",
    "\n",
    "    with open(filepath, errors='ignore') as f:\n",
    "        for line in f:\n",
    "            word, *vector = line.split()\n",
    "            if word in word_index:\n",
    "                idx = word_index[word] \n",
    "                embedding_matrix[idx] = np.array(\n",
    "                    vector, dtype=np.float32)[:embedding_dim]\n",
    "\n",
    "    return embedding_matrix\n",
    "\n",
    "embedding_dim = 300\n",
    "glove_vec_file = 'dataset/glove.6B.300d.txt'\n",
    "embedding_matrix = create_embedding_matrix(glove_vec_file, tok.word_index, embedding_dim)"
   ]
  },
  {
   "cell_type": "code",
   "execution_count": 26,
   "metadata": {},
   "outputs": [
    {
     "name": "stdout",
     "output_type": "stream",
     "text": [
      "8097\n",
      "7572\n",
      "0.9351611708040015\n"
     ]
    }
   ],
   "source": [
    "vocab_size = len(tok.word_index) + 1\n",
    "print(vocab_size)\n",
    "nonzero_elements = np.count_nonzero(np.count_nonzero(embedding_matrix, axis=1))\n",
    "print(nonzero_elements)\n",
    "print(nonzero_elements / vocab_size)"
   ]
  },
  {
   "cell_type": "code",
   "execution_count": 27,
   "metadata": {},
   "outputs": [
    {
     "data": {
      "text/plain": [
       "(8097, 300)"
      ]
     },
     "execution_count": 27,
     "metadata": {},
     "output_type": "execute_result"
    }
   ],
   "source": [
    "embedding_matrix.shape"
   ]
  },
  {
   "cell_type": "markdown",
   "metadata": {},
   "source": [
    "### building model ###"
   ]
  },
  {
   "cell_type": "code",
   "execution_count": 28,
   "metadata": {},
   "outputs": [
    {
     "name": "stdout",
     "output_type": "stream",
     "text": [
      "Model: \"model\"\n",
      "__________________________________________________________________________________________________\n",
      "Layer (type)                    Output Shape         Param #     Connected to                     \n",
      "==================================================================================================\n",
      "input_1 (InputLayer)            [(None, 60)]         0                                            \n",
      "__________________________________________________________________________________________________\n",
      "embedding (Embedding)           (None, 60, 300)      2429100     input_1[0][0]                    \n",
      "__________________________________________________________________________________________________\n",
      "lstm (LSTM)                     (None, 16)           20288       embedding[0][0]                  \n",
      "__________________________________________________________________________________________________\n",
      "dropout (Dropout)               (None, 16)           0           lstm[0][0]                       \n",
      "__________________________________________________________________________________________________\n",
      "dense (Dense)                   (None, 8)            136         dropout[0][0]                    \n",
      "__________________________________________________________________________________________________\n",
      "input_3 (InputLayer)            [(None, 5)]          0                                            \n",
      "__________________________________________________________________________________________________\n",
      "concatenate (Concatenate)       (None, 13)           0           dense[0][0]                      \n",
      "                                                                 input_3[0][0]                    \n",
      "__________________________________________________________________________________________________\n",
      "dense_1 (Dense)                 (None, 1)            14          concatenate[0][0]                \n",
      "==================================================================================================\n",
      "Total params: 2,449,538\n",
      "Trainable params: 20,438\n",
      "Non-trainable params: 2,429,100\n",
      "__________________________________________________________________________________________________\n"
     ]
    }
   ],
   "source": [
    "LSTM_DIM = 16\n",
    "DROPOUT = 0.1\n",
    "ACTIVATION = 'relu'\n",
    "OPTIMIZER = 'adam'\n",
    "LOSS = 'mean_squared_error'\n",
    "HIDDEN_DIM = 8\n",
    "\n",
    "from keras import layers\n",
    "from keras.models import Sequential, Model\n",
    "from keras.layers import Dense, Dropout, Flatten, Embedding, LSTM, Bidirectional, Input\n",
    "from keras.layers.merge import concatenate\n",
    "\n",
    "def buildModel(vsize, input_dim, maxlen, emb_matrix, maxnumbers):\n",
    "\n",
    "    text_input = Input(shape=(maxlen, ))     \n",
    "    numerical_input = Input(shape=(maxnumbers, ))\n",
    "    \n",
    "    emb = Embedding(input_dim=vsize, \n",
    "                   output_dim=input_dim, \n",
    "                   weights=[emb_matrix],\n",
    "                   trainable=False)(text_input)\n",
    "    \n",
    "    z = LSTM(LSTM_DIM)(emb)\n",
    "    z = Dropout(DROPOUT)(z)\n",
    "    z = Dense(HIDDEN_DIM, activation=ACTIVATION)(z)\n",
    "    \n",
    "    numerical_input = Input(shape=(maxnumbers, ))\n",
    "    \n",
    "    merged = concatenate([z, numerical_input])    \n",
    "    predictions = Dense(1, activation='linear')(merged)\n",
    "    \n",
    "    model = Model([text_input, numerical_input], outputs=predictions)\n",
    "    \n",
    "    model.compile(optimizer=OPTIMIZER,\n",
    "                  loss = LOSS,\n",
    "                  metrics=[tf.keras.metrics.RootMeanSquaredError(name='rmse')])\n",
    "    \n",
    "    return model\n",
    "\n",
    "model = buildModel(vocab_size, embedding_dim, sequence_length, embedding_matrix, max_number_seq)\n",
    "model.summary()"
   ]
  },
  {
   "cell_type": "code",
   "execution_count": 29,
   "metadata": {},
   "outputs": [
    {
     "name": "stdout",
     "output_type": "stream",
     "text": [
      "(29681, 60)\n",
      "(29681, 5)\n",
      "(29681,)\n"
     ]
    }
   ],
   "source": [
    "print(x_train.shape)\n",
    "print(x_train_num.shape)\n",
    "print(y_train.shape)"
   ]
  },
  {
   "cell_type": "code",
   "execution_count": 30,
   "metadata": {},
   "outputs": [
    {
     "name": "stdout",
     "output_type": "stream",
     "text": [
      "535/535 [==============================] - 12s 21ms/step - loss: nan - rmse: nan - val_loss: nan - val_rmse: nan\n"
     ]
    },
    {
     "data": {
      "text/plain": [
       "<keras.callbacks.History at 0x2179cc79358>"
      ]
     },
     "execution_count": 30,
     "metadata": {},
     "output_type": "execute_result"
    }
   ],
   "source": [
    "EPOCHS = 1\n",
    "\n",
    "model.fit(\n",
    "    x=[x_train, x_train_num],\n",
    "    y=y_train,\n",
    "    batch_size=50,\n",
    "    validation_split=0.1,\n",
    "    epochs=EPOCHS,\n",
    ")"
   ]
  },
  {
   "cell_type": "code",
   "execution_count": 31,
   "metadata": {},
   "outputs": [],
   "source": [
    "# del model"
   ]
  },
  {
   "cell_type": "markdown",
   "metadata": {},
   "source": [
    "## 6. Evaluate the model"
   ]
  },
  {
   "cell_type": "code",
   "execution_count": 32,
   "metadata": {},
   "outputs": [],
   "source": [
    "# model.evaluate(test_ds)"
   ]
  },
  {
   "cell_type": "markdown",
   "metadata": {},
   "source": [
    "## 7. Make predictions"
   ]
  },
  {
   "cell_type": "markdown",
   "metadata": {},
   "source": [
    "#### 1) processing test problems"
   ]
  },
  {
   "cell_type": "code",
   "execution_count": 33,
   "metadata": {},
   "outputs": [],
   "source": [
    "def get_test_problems(test_df):\n",
    "    # processing the test problem and separate the text and numbers\n",
    "    \n",
    "    test_problems = problem_processing(test_df['Problem'])\n",
    "    print(test_problems)\n",
    "    \n",
    "    text = test_problems.apply(separate_text)\n",
    "    numbers = test_problems.apply(separate_numbers)\n",
    "    print(text)\n",
    "    print(numbers)\n",
    "    \n",
    "    return text, numbers"
   ]
  },
  {
   "cell_type": "markdown",
   "metadata": {},
   "source": [
    "#### 2) predicttion"
   ]
  },
  {
   "cell_type": "code",
   "execution_count": 34,
   "metadata": {},
   "outputs": [],
   "source": [
    "# model.predict()\n",
    "\n",
    "def prediction(model, tok, test_df, sequence_length, max_number_seq):\n",
    "    \n",
    "    # get the sequence of the text and numbers\n",
    "    text, numbers = get_test_problems(test_df)\n",
    "    \n",
    "    x_test_seq = tok.texts_to_sequences(text)\n",
    "    x_test_seq = sequence.pad_sequences(x_test_seq, maxlen=sequence_length, truncating='post', padding='post')\n",
    "#     print(x_seq)\n",
    "    print(x_test_seq.shape)\n",
    "    \n",
    "    x_test_num_seq = sequence.pad_sequences(numbers, maxlen=max_number_seq, dtype='float32', truncating='post', padding='post')\n",
    "    x_tset_num_seq = x_test_num_seq[:, :max_number_seq]\n",
    "    print(x_test_num_seq)\n",
    "    \n",
    "    output = model.predict([x_test_seq, x_test_num_seq]) \n",
    "    return output\n"
   ]
  },
  {
   "cell_type": "code",
   "execution_count": 35,
   "metadata": {},
   "outputs": [],
   "source": [
    "# dummy test dataset\n",
    "test_df = pd.DataFrame([\n",
    "    {\n",
    "        \"Problem\": \"a shopkeeper sold an article offering a discount of 5 % and earned a profit of 31.1 % . what would have been the percentage of profit earned if no discount had been offered ?\",\n",
    "        \"Rationale\": \"\\\"giving no discount to customer implies selling the product on printed price . suppose the cost price of the article is 100 . then printed price = 100 \\u00e3 \\u2014 ( 100 + 31.1 ) / ( 100 \\u00e2 \\u02c6 \\u2019 5 ) = 138 hence , required % profit = 138 \\u00e2 \\u20ac \\u201c 100 = 38 % answer a\\\"\",\n",
    "        \"options\": \"a ) 38 , b ) 27.675 , c ) 30 , d ) data inadequate , e ) none of these\",\n",
    "        \"correct\": \"a\",\n",
    "        \"annotated_formula\": \"subtract(divide(multiply(add(const_100, 31.1), const_100), subtract(const_100, 5)), const_100)\",\n",
    "        \"linear_formula\": \"add(n1,const_100)|subtract(const_100,n0)|multiply(#0,const_100)|divide(#2,#1)|subtract(#3,const_100)|\",\n",
    "        \"category\": \"gain\"\n",
    "    },\n",
    "    {\n",
    "        \"Problem\": \"what will be the difference between simple and compound interest at 14 % per annum on a sum of rs . 1000 after 4 years ?\",\n",
    "        \"Rationale\": \"\\\"s . i . = ( 1000 * 14 * 4 ) / 100 = rs . 560 c . i . = [ 1000 * ( 1 + 14 / 100 ) 4 - 1000 ] = rs . 689 difference = ( 689 - 560 ) = rs . 129 answer : a\\\"\",\n",
    "        \"options\": \"a ) 129 , b ) 130 , c ) 124 , d ) 133 , e ) 145\",\n",
    "        \"correct\": \"a\",\n",
    "        \"annotated_formula\": \"subtract(subtract(multiply(1000, power(add(divide(14, const_100), const_1), 4)), 1000), multiply(multiply(1000, divide(14, const_100)), 4))\",\n",
    "        \"linear_formula\": \"divide(n0,const_100)|add(#0,const_1)|multiply(n1,#0)|multiply(n2,#2)|power(#1,n2)|multiply(n1,#4)|subtract(#5,n1)|subtract(#6,#3)|\",\n",
    "        \"category\": \"gain\"\n",
    "    },\n",
    "    {\n",
    "        \"Problem\": \"there are 28 stations between hyderabad and bangalore . how many second class tickets have to be printed , so that a passenger can travel from any station to any other station ?\",\n",
    "        \"Rationale\": \"\\\"the total number of stations = 30 from 30 stations we have to choose any two stations and the direction of travel ( i . e . , hyderabad to bangalore is different from bangalore to hyderabad ) in 3 \\u2070 p \\u2082 ways . 30 p \\u2082 = 30 * 29 = 870 . answer : c\\\"\",\n",
    "        \"options\": \"a ) 156 , b ) 167 , c ) 870 , d ) 352 , e ) 380\",\n",
    "        \"correct\": \"c\",\n",
    "        \"annotated_formula\": \"multiply(add(28, const_1), add(add(28, const_1), const_1))\",\n",
    "        \"linear_formula\": \"add(n0,const_1)|add(#0,const_1)|multiply(#0,#1)|\",\n",
    "        \"category\": \"physics\"\n",
    "    },\n",
    "])"
   ]
  },
  {
   "cell_type": "code",
   "execution_count": 36,
   "metadata": {},
   "outputs": [
    {
     "name": "stdout",
     "output_type": "stream",
     "text": [
      "60\n",
      "5\n",
      "0     a shopkeeper sold an article offering a disco...\n",
      "1     what will be the difference between simple an...\n",
      "2     there are 28 stations between hyderabad and b...\n",
      "Name: Problem, dtype: object\n",
      "0     a shopkeeper sold an article offering a disco...\n",
      "1     what will be the difference between simple an...\n",
      "2     there are stations between hyderabad and bang...\n",
      "Name: Problem, dtype: object\n",
      "0          [0.05, 0.311]\n",
      "1    [0.14, 1000.0, 4.0]\n",
      "2                 [28.0]\n",
      "Name: Problem, dtype: object\n",
      "(3, 60)\n",
      "[[5.00e-02 3.11e-01 0.00e+00 0.00e+00 0.00e+00]\n",
      " [1.40e-01 1.00e+03 4.00e+00 0.00e+00 0.00e+00]\n",
      " [2.80e+01 0.00e+00 0.00e+00 0.00e+00 0.00e+00]]\n",
      "[[nan]\n",
      " [nan]\n",
      " [nan]]\n"
     ]
    }
   ],
   "source": [
    "print(sequence_length)\n",
    "print(max_number_seq)\n",
    "\n",
    "# predict output -> the predict answer\n",
    "predict_output = prediction(model, tok, test_df, sequence_length, max_number_seq)\n",
    "print(predict_output)"
   ]
  },
  {
   "cell_type": "markdown",
   "metadata": {},
   "source": [
    "## 8. Calculate the distance"
   ]
  },
  {
   "cell_type": "markdown",
   "metadata": {},
   "source": [
    "#### 1) get correct answer"
   ]
  },
  {
   "cell_type": "code",
   "execution_count": 37,
   "metadata": {},
   "outputs": [
    {
     "name": "stdout",
     "output_type": "stream",
     "text": [
      "0      38 \n",
      "1     129 \n",
      "2     870 \n",
      "dtype: object\n",
      "0     38.0\n",
      "1    129.0\n",
      "2    870.0\n",
      "dtype: float64\n"
     ]
    }
   ],
   "source": [
    "cor_test_ans = get_correct_ans(test_df)\n",
    "print(cor_test_ans)\n",
    "\n",
    "num_test_ans = answers_processing(cor_test_ans)\n",
    "print(num_test_ans)"
   ]
  },
  {
   "cell_type": "markdown",
   "metadata": {},
   "source": [
    "#### 2) processing test options"
   ]
  },
  {
   "cell_type": "code",
   "execution_count": 38,
   "metadata": {},
   "outputs": [],
   "source": [
    "def get_test_options(test_df):\n",
    "    # processing the test options and separate each option\n",
    "    \n",
    "    test_options = list()\n",
    "    opts_label = ['a', 'b', 'c', 'd', 'e']\n",
    "    \n",
    "    for i in range(len(test_df['options'])):\n",
    "        options = test_df.iloc[i]['options']+\" ,\"\n",
    "        answers = list()\n",
    "        for j in opts_label:\n",
    "            index_s = options.find(j+\" ) \")+3\n",
    "            index_len = options[index_s:].find(',')\n",
    "            ans = options[index_s:index_s+index_len]\n",
    "            answers.append(ans)\n",
    "        answers = pd.Series(answers)\n",
    "        # normalizing the options\n",
    "        answers = answers_processing(answers)\n",
    "        test_options.append(answers)\n",
    "    return test_options\n"
   ]
  },
  {
   "cell_type": "code",
   "execution_count": 39,
   "metadata": {},
   "outputs": [
    {
     "name": "stdout",
     "output_type": "stream",
     "text": [
      "[0    38.000\n",
      "1    27.675\n",
      "2    30.000\n",
      "3       NaN\n",
      "4       NaN\n",
      "dtype: float64, 0    129.0\n",
      "1    130.0\n",
      "2    124.0\n",
      "3    133.0\n",
      "4    145.0\n",
      "dtype: float64, 0    156.0\n",
      "1    167.0\n",
      "2    870.0\n",
      "3    352.0\n",
      "4    380.0\n",
      "dtype: float64]\n"
     ]
    }
   ],
   "source": [
    "test_opts = get_test_options(test_df)\n",
    "print(test_opts)"
   ]
  },
  {
   "cell_type": "code",
   "execution_count": 40,
   "metadata": {},
   "outputs": [
    {
     "name": "stdout",
     "output_type": "stream",
     "text": [
      "[[nan nan nan nan nan]\n",
      " [nan nan nan nan nan]\n",
      " [nan nan nan nan nan]]\n",
      "nan\n"
     ]
    }
   ],
   "source": [
    "def get_best_ans(opts, predict_output):\n",
    "    # get the closest answer from teh options as the best answer\n",
    "    dist = np.abs(predict_output - opts)\n",
    "    print(dist)\n",
    "    \n",
    "    best_ans = np.min(dist)\n",
    "    return best_ans\n",
    "\n",
    "best_ans = get_best_ans(test_opts, predict_output)\n",
    "print(best_ans)"
   ]
  },
  {
   "cell_type": "code",
   "execution_count": null,
   "metadata": {},
   "outputs": [],
   "source": []
  },
  {
   "cell_type": "code",
   "execution_count": null,
   "metadata": {},
   "outputs": [],
   "source": []
  }
 ],
 "metadata": {
  "kernelspec": {
   "display_name": "pytorch",
   "language": "python",
   "name": "pytorch"
  },
  "language_info": {
   "codemirror_mode": {
    "name": "ipython",
    "version": 3
   },
   "file_extension": ".py",
   "mimetype": "text/x-python",
   "name": "python",
   "nbconvert_exporter": "python",
   "pygments_lexer": "ipython3",
   "version": "3.7.0"
  }
 },
 "nbformat": 4,
 "nbformat_minor": 2
}
