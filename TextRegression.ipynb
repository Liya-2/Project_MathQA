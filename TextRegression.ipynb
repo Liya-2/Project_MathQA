{
 "cells": [
  {
   "cell_type": "markdown",
   "metadata": {},
   "source": [
    "### Get the content of correct answers in the options ###"
   ]
  },
  {
   "cell_type": "code",
   "execution_count": 1,
   "metadata": {},
   "outputs": [
    {
     "name": "stdout",
     "output_type": "stream",
     "text": [
      "training problems number:  29837\n",
      "category\n",
      "gain            5120\n",
      "general        13273\n",
      "geometry        2117\n",
      "other           1814\n",
      "physics         7063\n",
      "probability      450\n",
      "Name: Problem, dtype: int64\n"
     ]
    },
    {
     "data": {
      "text/html": [
       "<div>\n",
       "<style scoped>\n",
       "    .dataframe tbody tr th:only-of-type {\n",
       "        vertical-align: middle;\n",
       "    }\n",
       "\n",
       "    .dataframe tbody tr th {\n",
       "        vertical-align: top;\n",
       "    }\n",
       "\n",
       "    .dataframe thead th {\n",
       "        text-align: right;\n",
       "    }\n",
       "</style>\n",
       "<table border=\"1\" class=\"dataframe\">\n",
       "  <thead>\n",
       "    <tr style=\"text-align: right;\">\n",
       "      <th></th>\n",
       "      <th>Problem</th>\n",
       "      <th>Rationale</th>\n",
       "      <th>options</th>\n",
       "      <th>correct</th>\n",
       "      <th>annotated_formula</th>\n",
       "      <th>linear_formula</th>\n",
       "      <th>category</th>\n",
       "    </tr>\n",
       "  </thead>\n",
       "  <tbody>\n",
       "    <tr>\n",
       "      <th>0</th>\n",
       "      <td>the banker ' s gain of a certain sum due 3 yea...</td>\n",
       "      <td>\"explanation : t = 3 years r = 10 % td = ( bg ...</td>\n",
       "      <td>a ) rs . 400 , b ) rs . 300 , c ) rs . 500 , d...</td>\n",
       "      <td>a</td>\n",
       "      <td>divide(multiply(const_100, divide(multiply(36,...</td>\n",
       "      <td>multiply(n2,const_100)|multiply(n0,n1)|divide(...</td>\n",
       "      <td>gain</td>\n",
       "    </tr>\n",
       "    <tr>\n",
       "      <th>1</th>\n",
       "      <td>average age of students of an adult school is ...</td>\n",
       "      <td>\"explanation : let the original no . of studen...</td>\n",
       "      <td>a ) 1200 , b ) 120 , c ) 360 , d ) 240 , e ) n...</td>\n",
       "      <td>d</td>\n",
       "      <td>multiply(divide(subtract(multiply(add(32, 4), ...</td>\n",
       "      <td>add(n2,n3)|multiply(n1,n2)|multiply(n1,#0)|sub...</td>\n",
       "      <td>general</td>\n",
       "    </tr>\n",
       "    <tr>\n",
       "      <th>2</th>\n",
       "      <td>sophia finished 2 / 3 of a book . she calculat...</td>\n",
       "      <td>let xx be the total number of pages in the boo...</td>\n",
       "      <td>a ) 229 , b ) 270 , c ) 877 , d ) 266 , e ) 281</td>\n",
       "      <td>b</td>\n",
       "      <td>divide(90, subtract(const_1, divide(2, 3)))</td>\n",
       "      <td>divide(n0,n1)|subtract(const_1,#0)|divide(n2,#1)</td>\n",
       "      <td>general</td>\n",
       "    </tr>\n",
       "    <tr>\n",
       "      <th>3</th>\n",
       "      <td>120 is what percent of 50 ?</td>\n",
       "      <td>\"50 * x = 120 - - &gt; x = 2.4 - - &gt; 2.4 expresse...</td>\n",
       "      <td>a ) 5 % , b ) 240 % , c ) 50 % , d ) 2 % , e )...</td>\n",
       "      <td>b</td>\n",
       "      <td>multiply(divide(120, 50), const_100)</td>\n",
       "      <td>divide(n0,n1)|multiply(#0,const_100)|</td>\n",
       "      <td>gain</td>\n",
       "    </tr>\n",
       "    <tr>\n",
       "      <th>4</th>\n",
       "      <td>there are 10 girls and 20 boys in a classroom ...</td>\n",
       "      <td>if girls is 10 and boys is 20 , then 10 / 20 ....</td>\n",
       "      <td>a ) 1 / 2 , b ) 1 / 3 , c ) 1 / 5 , d ) 10 / 3...</td>\n",
       "      <td>a</td>\n",
       "      <td>divide(10, 20)</td>\n",
       "      <td>divide(n0,n1)</td>\n",
       "      <td>other</td>\n",
       "    </tr>\n",
       "  </tbody>\n",
       "</table>\n",
       "</div>"
      ],
      "text/plain": [
       "                                             Problem  \\\n",
       "0  the banker ' s gain of a certain sum due 3 yea...   \n",
       "1  average age of students of an adult school is ...   \n",
       "2  sophia finished 2 / 3 of a book . she calculat...   \n",
       "3                        120 is what percent of 50 ?   \n",
       "4  there are 10 girls and 20 boys in a classroom ...   \n",
       "\n",
       "                                           Rationale  \\\n",
       "0  \"explanation : t = 3 years r = 10 % td = ( bg ...   \n",
       "1  \"explanation : let the original no . of studen...   \n",
       "2  let xx be the total number of pages in the boo...   \n",
       "3  \"50 * x = 120 - - > x = 2.4 - - > 2.4 expresse...   \n",
       "4  if girls is 10 and boys is 20 , then 10 / 20 ....   \n",
       "\n",
       "                                             options correct  \\\n",
       "0  a ) rs . 400 , b ) rs . 300 , c ) rs . 500 , d...       a   \n",
       "1  a ) 1200 , b ) 120 , c ) 360 , d ) 240 , e ) n...       d   \n",
       "2    a ) 229 , b ) 270 , c ) 877 , d ) 266 , e ) 281       b   \n",
       "3  a ) 5 % , b ) 240 % , c ) 50 % , d ) 2 % , e )...       b   \n",
       "4  a ) 1 / 2 , b ) 1 / 3 , c ) 1 / 5 , d ) 10 / 3...       a   \n",
       "\n",
       "                                   annotated_formula  \\\n",
       "0  divide(multiply(const_100, divide(multiply(36,...   \n",
       "1  multiply(divide(subtract(multiply(add(32, 4), ...   \n",
       "2        divide(90, subtract(const_1, divide(2, 3)))   \n",
       "3               multiply(divide(120, 50), const_100)   \n",
       "4                                     divide(10, 20)   \n",
       "\n",
       "                                      linear_formula category  \n",
       "0  multiply(n2,const_100)|multiply(n0,n1)|divide(...     gain  \n",
       "1  add(n2,n3)|multiply(n1,n2)|multiply(n1,#0)|sub...  general  \n",
       "2   divide(n0,n1)|subtract(const_1,#0)|divide(n2,#1)  general  \n",
       "3              divide(n0,n1)|multiply(#0,const_100)|     gain  \n",
       "4                                      divide(n0,n1)    other  "
      ]
     },
     "execution_count": 1,
     "metadata": {},
     "output_type": "execute_result"
    }
   ],
   "source": [
    "import pandas as pd\n",
    "import json\n",
    "\n",
    "\n",
    "# training data\n",
    "\n",
    "with open('dataset/MathQA/train.json') as f:\n",
    "    data = json.loads(f.read())\n",
    "    \n",
    "train_df = pd.DataFrame(data)\n",
    "\n",
    "print('training problems number: ', train_df['Problem'].count())\n",
    "print(train_df.groupby(['category'])['Problem'].count())\n",
    "\n",
    "train_df.head(5)"
   ]
  },
  {
   "cell_type": "code",
   "execution_count": 2,
   "metadata": {},
   "outputs": [
    {
     "name": "stdout",
     "output_type": "stream",
     "text": [
      "0    a ) rs . 400 , b ) rs . 300 , c ) rs . 500 , d...\n",
      "1    a ) 1200 , b ) 120 , c ) 360 , d ) 240 , e ) n...\n",
      "2      a ) 229 , b ) 270 , c ) 877 , d ) 266 , e ) 281\n",
      "3    a ) 5 % , b ) 240 % , c ) 50 % , d ) 2 % , e )...\n",
      "4    a ) 1 / 2 , b ) 1 / 3 , c ) 1 / 5 , d ) 10 / 3...\n",
      "Name: options, dtype: object\n",
      "Problem              the average weight of 8 person ' s increases b...\n",
      "Rationale            \"total weight increased = ( 8 x 1.5 ) kg = 6 k...\n",
      "options              a ) 81 kg , b ) 85 kg , c ) 90 kg , d ) 100 kg...\n",
      "correct                                                              a\n",
      "annotated_formula                            add(multiply(8, 1.5), 75)\n",
      "linear_formula                             multiply(n0,n1)|add(n2,#0)|\n",
      "category                                                       general\n",
      "Name: 10, dtype: object\n",
      "29837\n"
     ]
    }
   ],
   "source": [
    "print(train_df['options'][:5])\n",
    "print(train_df.iloc[10])\n",
    "print(len(train_df))"
   ]
  },
  {
   "cell_type": "code",
   "execution_count": 3,
   "metadata": {},
   "outputs": [
    {
     "name": "stdout",
     "output_type": "stream",
     "text": [
      "validation problems number:  4475\n",
      "category\n",
      "gain            743\n",
      "general        2006\n",
      "geometry        308\n",
      "other           288\n",
      "physics        1056\n",
      "probability      74\n",
      "Name: Problem, dtype: int64\n"
     ]
    },
    {
     "data": {
      "text/html": [
       "<div>\n",
       "<style scoped>\n",
       "    .dataframe tbody tr th:only-of-type {\n",
       "        vertical-align: middle;\n",
       "    }\n",
       "\n",
       "    .dataframe tbody tr th {\n",
       "        vertical-align: top;\n",
       "    }\n",
       "\n",
       "    .dataframe thead th {\n",
       "        text-align: right;\n",
       "    }\n",
       "</style>\n",
       "<table border=\"1\" class=\"dataframe\">\n",
       "  <thead>\n",
       "    <tr style=\"text-align: right;\">\n",
       "      <th></th>\n",
       "      <th>Problem</th>\n",
       "      <th>Rationale</th>\n",
       "      <th>options</th>\n",
       "      <th>correct</th>\n",
       "      <th>annotated_formula</th>\n",
       "      <th>linear_formula</th>\n",
       "      <th>category</th>\n",
       "    </tr>\n",
       "  </thead>\n",
       "  <tbody>\n",
       "    <tr>\n",
       "      <th>0</th>\n",
       "      <td>a multiple choice test consists of 4 questions...</td>\n",
       "      <td>\"5 choices for each of the 4 questions , thus ...</td>\n",
       "      <td>a ) 24 , b ) 120 , c ) 625 , d ) 720 , e ) 1024</td>\n",
       "      <td>c</td>\n",
       "      <td>power(5, 4)</td>\n",
       "      <td>power(n1,n0)|</td>\n",
       "      <td>general</td>\n",
       "    </tr>\n",
       "    <tr>\n",
       "      <th>1</th>\n",
       "      <td>a 3 - digit positive integer is chosen at rand...</td>\n",
       "      <td>p ( three odd digits ) = 5 / 9 * 5 / 10 * 5 / ...</td>\n",
       "      <td>a ) 1 / 2 , b ) 31 / 36 , c ) 49 / 54 , d ) 7 ...</td>\n",
       "      <td>b</td>\n",
       "      <td>subtract(const_1, power(divide(const_1, const_...</td>\n",
       "      <td>divide(const_1,const_2)|power(#0,n0)|subtract(...</td>\n",
       "      <td>general</td>\n",
       "    </tr>\n",
       "    <tr>\n",
       "      <th>2</th>\n",
       "      <td>if x and y are positive integers and 7 + x + y...</td>\n",
       "      <td>\"try each answer choices . for a : 7 + 3 + xy ...</td>\n",
       "      <td>a ) 3 , b ) 5 , c ) 6 , d ) 8 , e ) 9</td>\n",
       "      <td>c</td>\n",
       "      <td>add(21, const_1)</td>\n",
       "      <td>add(n1,const_1)|</td>\n",
       "      <td>general</td>\n",
       "    </tr>\n",
       "    <tr>\n",
       "      <th>3</th>\n",
       "      <td>the hcf and lcm of two numbers m and n are res...</td>\n",
       "      <td>answer we have , m x n = 6 x 210 = 1260 ∴ 1 / ...</td>\n",
       "      <td>a ) 1 / 35 , b ) 3 / 35 , c ) 5 / 37 , d ) 2 /...</td>\n",
       "      <td>d</td>\n",
       "      <td>divide(72, multiply(6, 210))</td>\n",
       "      <td>multiply(n0,n1)|divide(n2,#0)</td>\n",
       "      <td>general</td>\n",
       "    </tr>\n",
       "    <tr>\n",
       "      <th>4</th>\n",
       "      <td>in a kilometer race , a beats b by 48 meters o...</td>\n",
       "      <td>\"time taken by b run 1000 meters = ( 1000 * 12...</td>\n",
       "      <td>a ) 238 sec , b ) 190 sec , c ) 667 sec , d ) ...</td>\n",
       "      <td>a</td>\n",
       "      <td>subtract(divide(multiply(const_1, const_1000),...</td>\n",
       "      <td>divide(n0,n1)|multiply(const_1,const_1000)|div...</td>\n",
       "      <td>physics</td>\n",
       "    </tr>\n",
       "  </tbody>\n",
       "</table>\n",
       "</div>"
      ],
      "text/plain": [
       "                                             Problem  \\\n",
       "0  a multiple choice test consists of 4 questions...   \n",
       "1  a 3 - digit positive integer is chosen at rand...   \n",
       "2  if x and y are positive integers and 7 + x + y...   \n",
       "3  the hcf and lcm of two numbers m and n are res...   \n",
       "4  in a kilometer race , a beats b by 48 meters o...   \n",
       "\n",
       "                                           Rationale  \\\n",
       "0  \"5 choices for each of the 4 questions , thus ...   \n",
       "1  p ( three odd digits ) = 5 / 9 * 5 / 10 * 5 / ...   \n",
       "2  \"try each answer choices . for a : 7 + 3 + xy ...   \n",
       "3  answer we have , m x n = 6 x 210 = 1260 ∴ 1 / ...   \n",
       "4  \"time taken by b run 1000 meters = ( 1000 * 12...   \n",
       "\n",
       "                                             options correct  \\\n",
       "0    a ) 24 , b ) 120 , c ) 625 , d ) 720 , e ) 1024       c   \n",
       "1  a ) 1 / 2 , b ) 31 / 36 , c ) 49 / 54 , d ) 7 ...       b   \n",
       "2              a ) 3 , b ) 5 , c ) 6 , d ) 8 , e ) 9       c   \n",
       "3  a ) 1 / 35 , b ) 3 / 35 , c ) 5 / 37 , d ) 2 /...       d   \n",
       "4  a ) 238 sec , b ) 190 sec , c ) 667 sec , d ) ...       a   \n",
       "\n",
       "                                   annotated_formula  \\\n",
       "0                                        power(5, 4)   \n",
       "1  subtract(const_1, power(divide(const_1, const_...   \n",
       "2                                   add(21, const_1)   \n",
       "3                       divide(72, multiply(6, 210))   \n",
       "4  subtract(divide(multiply(const_1, const_1000),...   \n",
       "\n",
       "                                      linear_formula category  \n",
       "0                                      power(n1,n0)|  general  \n",
       "1  divide(const_1,const_2)|power(#0,n0)|subtract(...  general  \n",
       "2                                   add(n1,const_1)|  general  \n",
       "3                      multiply(n0,n1)|divide(n2,#0)  general  \n",
       "4  divide(n0,n1)|multiply(const_1,const_1000)|div...  physics  "
      ]
     },
     "execution_count": 3,
     "metadata": {},
     "output_type": "execute_result"
    }
   ],
   "source": [
    "# validation data\n",
    "\n",
    "with open('dataset/MathQA/dev.json') as f:\n",
    "    data = json.loads(f.read())\n",
    "    \n",
    "val_df = pd.DataFrame(data)\n",
    "\n",
    "print('validation problems number: ', val_df['Problem'].count())\n",
    "print(val_df.groupby(['category'])['Problem'].count())\n",
    "\n",
    "val_df.head(5)"
   ]
  },
  {
   "cell_type": "markdown",
   "metadata": {},
   "source": [
    "#### 1、normalization 2/3 10%\n",
    "#### 2、tokens（word + number）\n",
    "#### 3、regression"
   ]
  },
  {
   "cell_type": "code",
   "execution_count": 4,
   "metadata": {},
   "outputs": [],
   "source": [
    "import re\n",
    "\n",
    "def replace_fraction(sen):\n",
    "    # replace all string like \"2 / 3 \"\n",
    "    pattern = re.compile(r'[0-9]+\\s\\/\\s[0-9]+\\s')    \n",
    "    results = pattern.findall(sen)\n",
    "    \n",
    "    if results != None:\n",
    "        new_results = []\n",
    "        for i in results:\n",
    "            nums = i.split(' / ')\n",
    "            new_results.append(str(int(nums[0])/int(nums[1]))[:8]+' ')\n",
    "        for i in range(len(results)):\n",
    "            sen = sen.replace(results[i], new_results[i])\n",
    "    return sen\n",
    "\n",
    "def replace_percentage(sen):\n",
    "    # replace all string like \"20 %\"\n",
    "    pattern = re.compile(r'[0-9]+\\.?[0-9]+\\s%')   \n",
    "    results = pattern.findall(sen)\n",
    "    \n",
    "    if results != None:\n",
    "#         print(results)\n",
    "        new_results = []\n",
    "        for i in results:\n",
    "            nums = i.split(' ')\n",
    "            new_results.append(str(float(nums[0])/100))\n",
    "        for i in range(len(results)):\n",
    "            sen = sen.replace(results[i], new_results[i])\n",
    "    return sen\n",
    "    \n",
    "def replace_punc(sen):\n",
    "    sen = re.sub(r'\\s[^\\w\\s]\\s', ' ', sen)\n",
    "    return sen\n",
    "\n",
    "\n",
    "def problem_procession(problem):\n",
    "    problem = problem.apply(replace_fraction)\n",
    "    problem = problem.apply(replace_percentage)\n",
    "    problem = problem.apply(replace_punc)\n",
    "    return problem"
   ]
  },
  {
   "cell_type": "code",
   "execution_count": 5,
   "metadata": {},
   "outputs": [
    {
     "name": "stdout",
     "output_type": "stream",
     "text": [
      "0    the banker s gain of a certain sum due 3 years...\n",
      "1    average age of students of an adult school is ...\n",
      "2    sophia finished 0.666666 of a book she calcula...\n",
      "3                          120 is what percent of 50 ?\n",
      "4    there are 10 girls and 20 boys in a classroom ...\n",
      "Name: Problem, dtype: object\n",
      "0    a multiple choice test consists of 4 questions...\n",
      "1    a 3 digit positive integer is chosen at random...\n",
      "2    if x and y are positive integers and 7 x y xy ...\n",
      "3    the hcf and lcm of two numbers m and n are res...\n",
      "4    in a kilometer race a beats b by 48 meters or ...\n",
      "Name: Problem, dtype: object\n"
     ]
    }
   ],
   "source": [
    "train_problems = problem_procession(train_df.Problem)\n",
    "print(train_problems.head(5))\n",
    "\n",
    "val_problems = problem_procession(val_df.Problem)\n",
    "print(val_problems.head(5))"
   ]
  },
  {
   "cell_type": "code",
   "execution_count": 6,
   "metadata": {},
   "outputs": [
    {
     "name": "stdout",
     "output_type": "stream",
     "text": [
      "['0.66', '3.2549', '3', '21.5', '10', '36']\n",
      "the banker ' s gain of a certain sum due years % hence at % per annum is rs . . what is the present worth ?\n"
     ]
    }
   ],
   "source": [
    "def separate_numbers(sen):    \n",
    "    pattarn = re.compile(r'\\s[0-9]+\\.?[0-9]*\\s')\n",
    "    numbers = pattarn.findall(sen)\n",
    "    numbers = [i[1:-1] for i in numbers]\n",
    "    return numbers\n",
    "    \n",
    "def separate_text(sen):\n",
    "    pattarn = re.compile(r'\\s[0-9]+\\.?[0-9]*\\s')\n",
    "    numbers = pattarn.findall(sen)\n",
    "    for i in range(len(numbers)):\n",
    "        sen = sen.replace(numbers[i], \" \")  \n",
    "    return sen    \n",
    "\n",
    "sen = \"the banker ' s gain of a 0.66 certain 3.2549 sum due 3 years 21.5 % hence at 10 % per annum is rs . 36 . what is the present worth ?\"\n",
    "print(separate_numbers(sen))\n",
    "print(separate_text(sen))"
   ]
  },
  {
   "cell_type": "code",
   "execution_count": 7,
   "metadata": {},
   "outputs": [
    {
     "name": "stdout",
     "output_type": "stream",
     "text": [
      "0        the banker s gain of a certain sum due years h...\n",
      "1        average age of students of an adult school is ...\n",
      "2        sophia finished of a book she calculated that ...\n",
      "3                                 120 is what percent of ?\n",
      "4        there are girls and boys in a classroom what i...\n",
      "                               ...                        \n",
      "29832    a man invests some money partly in stock at an...\n",
      "29833    average of matches is how many runs one should...\n",
      "29834                          solve below question x - 23\n",
      "29835                                      calculate ? 352\n",
      "29836    7.51 7.86 8.09 8.30 7.73 7.96 a vending machin...\n",
      "Name: Problem, Length: 29837, dtype: object\n"
     ]
    }
   ],
   "source": [
    "text = train_problems.apply(separate_text)\n",
    "print(text)"
   ]
  },
  {
   "cell_type": "code",
   "execution_count": 8,
   "metadata": {},
   "outputs": [
    {
     "name": "stdout",
     "output_type": "stream",
     "text": [
      "0                                             [3, 0.1, 36]\n",
      "1                                         [40, 120, 32, 4]\n",
      "2                                           [0.666666, 90]\n",
      "3                                                     [50]\n",
      "4                                                 [10, 20]\n",
      "                               ...                        \n",
      "29832                                     [0.1, 90, 5, 90]\n",
      "29833                                          [10, 32, 6]\n",
      "29834                                               [2, 1]\n",
      "29835                                              [85184]\n",
      "29836    [8.22, 8.36, 7.83, 8.01, 8.25, 8.53, 8, 1000, ...\n",
      "Name: Problem, Length: 29837, dtype: object\n"
     ]
    }
   ],
   "source": [
    "numbers = train_problems.apply(separate_numbers)\n",
    "print(numbers)"
   ]
  },
  {
   "cell_type": "code",
   "execution_count": 9,
   "metadata": {},
   "outputs": [
    {
     "name": "stdout",
     "output_type": "stream",
     "text": [
      "the max tokens in the texts:  745\n"
     ]
    }
   ],
   "source": [
    "max_token = 0\n",
    "for t in text:\n",
    "    if len(t) > max_token:\n",
    "        max_token = len(t)\n",
    "print(\"the max tokens in the texts: \", max_token)"
   ]
  },
  {
   "cell_type": "markdown",
   "metadata": {},
   "source": [
    "### normalize the answers ###"
   ]
  },
  {
   "cell_type": "code",
   "execution_count": 10,
   "metadata": {},
   "outputs": [
    {
     "name": "stdout",
     "output_type": "stream",
     "text": [
      "0    rs . 400 \n",
      "1         240 \n",
      "2         270 \n",
      "3       240 % \n",
      "4       1 / 2 \n",
      "5         122 \n",
      "6      21.5 % \n",
      "7           3 \n",
      "8        6.25 \n",
      "9          80 \n",
      "dtype: object\n",
      "0    rs . 400 \n",
      "1         240 \n",
      "2         270 \n",
      "3         2.4 \n",
      "4         0.5 \n",
      "5         122 \n",
      "6       0.215 \n",
      "7           3 \n",
      "8        6.25 \n",
      "9          80 \n",
      "dtype: object\n"
     ]
    }
   ],
   "source": [
    "answers = list()\n",
    "\n",
    "for i in range(len(train_df)):\n",
    "    options = train_df.iloc[i]['options']\n",
    "    tab = train_df.iloc[i]['correct']\n",
    "    index_s = options.find(tab)+4\n",
    "    index_len = options[index_s:].find(',')\n",
    "    ans = options[index_s:index_s+index_len]\n",
    "    answers.append(ans)\n",
    "    \n",
    "answers = pd.Series(answers)\n",
    "print(answers.head(10))\n",
    "\n",
    "answers = answers.apply(replace_fraction)\n",
    "answers = answers.apply(replace_percentage)\n",
    "\n",
    "print(answers.head(10))"
   ]
  },
  {
   "cell_type": "markdown",
   "metadata": {},
   "source": [
    "### processing text ###"
   ]
  },
  {
   "cell_type": "code",
   "execution_count": 11,
   "metadata": {},
   "outputs": [
    {
     "name": "stdout",
     "output_type": "stream",
     "text": [
      "token vocab length: 8655\n",
      "max sequence length:  137\n",
      "[[   1 1382   42 ...    0    0    0]\n",
      " [  28  104    2 ...    0    0    0]\n",
      " [ 760    2    3 ...    0    0    0]\n",
      " ...\n",
      " [1131  719  640 ...    0    0    0]\n",
      " [ 619    0    0 ...    0    0    0]\n",
      " [ 363 4743  363 ...    0    0    0]]\n",
      "(29837, 150)\n"
     ]
    }
   ],
   "source": [
    "import tensorflow as tf\n",
    "from tensorflow.keras.preprocessing.text import Tokenizer\n",
    "from tensorflow.keras.preprocessing import sequence\n",
    "\n",
    "max_features = 5000\n",
    "embedding_dim = 128\n",
    "sequence_length = 150\n",
    "\n",
    "# build a word vocab that contains top 5000 most frequent words\n",
    "tok = Tokenizer(num_words=max_features)\n",
    "tok.fit_on_texts(text)\n",
    "\n",
    "print(\"token vocab length:\", len(tok.word_index))\n",
    "# print(tok.word_index)\n",
    "\n",
    "x_train_seq = tok.texts_to_sequences(text)\n",
    "max_seq = 0\n",
    "for i in x_train_seq:\n",
    "    if len(i) > max_seq:\n",
    "        max_seq = len(i)\n",
    "print(\"max sequence length: \", max_seq)\n",
    "\n",
    "x_train = sequence.pad_sequences(x_train_seq, maxlen=sequence_length, padding='post')\n",
    "\n",
    "print(x_train)\n",
    "print(x_train.shape)\n",
    "\n",
    "# print(tok.texts_to_sequences(train_df.Problem))"
   ]
  },
  {
   "cell_type": "markdown",
   "metadata": {},
   "source": [
    "### processing numbers ###"
   ]
  },
  {
   "cell_type": "code",
   "execution_count": 12,
   "metadata": {},
   "outputs": [
    {
     "name": "stdout",
     "output_type": "stream",
     "text": [
      "max number sequence length:  21\n",
      "0                                             [3, 0.1, 36]\n",
      "1                                         [40, 120, 32, 4]\n",
      "2                                           [0.666666, 90]\n",
      "3                                                     [50]\n",
      "4                                                 [10, 20]\n",
      "                               ...                        \n",
      "29832                                     [0.1, 90, 5, 90]\n",
      "29833                                          [10, 32, 6]\n",
      "29834                                               [2, 1]\n",
      "29835                                              [85184]\n",
      "29836    [8.22, 8.36, 7.83, 8.01, 8.25, 8.53, 8, 1000, ...\n",
      "Name: Problem, Length: 29837, dtype: object\n",
      "[[3.00000e+00 1.00000e-01 3.60000e+01 ... 0.00000e+00 0.00000e+00\n",
      "  0.00000e+00]\n",
      " [4.00000e+01 1.20000e+02 3.20000e+01 ... 0.00000e+00 0.00000e+00\n",
      "  0.00000e+00]\n",
      " [6.66666e-01 9.00000e+01 0.00000e+00 ... 0.00000e+00 0.00000e+00\n",
      "  0.00000e+00]\n",
      " ...\n",
      " [2.00000e+00 1.00000e+00 0.00000e+00 ... 0.00000e+00 0.00000e+00\n",
      "  0.00000e+00]\n",
      " [8.51840e+04 0.00000e+00 0.00000e+00 ... 0.00000e+00 0.00000e+00\n",
      "  0.00000e+00]\n",
      " [8.22000e+00 8.36000e+00 7.83000e+00 ... 0.00000e+00 0.00000e+00\n",
      "  0.00000e+00]]\n",
      "(29837, 21)\n"
     ]
    }
   ],
   "source": [
    "max_number_seq = 0\n",
    "index = 0\n",
    "for i in numbers:\n",
    "    if len(i) > max_number_seq:\n",
    "        max_number_seq = len(i)\n",
    "print(\"max number sequence length: \", max_number_seq)\n",
    "print(numbers)\n",
    "\n",
    "x_train_num = sequence.pad_sequences(numbers, dtype='float32', truncating='post', padding='post')\n",
    "print(x_train_num)\n",
    "print(x_train_num.shape)"
   ]
  },
  {
   "cell_type": "code",
   "execution_count": 13,
   "metadata": {},
   "outputs": [
    {
     "name": "stdout",
     "output_type": "stream",
     "text": [
      "(29837, 150)\n",
      "(29837, 21)\n"
     ]
    }
   ],
   "source": [
    "print(x_train.shape)\n",
    "print(x_train_num.shape)"
   ]
  },
  {
   "cell_type": "markdown",
   "metadata": {},
   "source": [
    "### processing answers ###"
   ]
  },
  {
   "cell_type": "code",
   "execution_count": 14,
   "metadata": {},
   "outputs": [
    {
     "name": "stdout",
     "output_type": "stream",
     "text": [
      "token vocab length: 3063\n",
      "max sequence length:  9\n",
      "[[   9   64    0 ...    0    0    0]\n",
      " [  84    0    0 ...    0    0    0]\n",
      " [ 146    0    0 ...    0    0    0]\n",
      " ...\n",
      " [  11    0    0 ...    0    0    0]\n",
      " [ 597    0    0 ...    0    0    0]\n",
      " [  63 3063    0 ...    0    0    0]]\n",
      "(29837, 9)\n"
     ]
    }
   ],
   "source": [
    "\n",
    "# build a word vocab that contains top  most frequent words\n",
    "tok = Tokenizer()\n",
    "tok.fit_on_texts(answers)\n",
    "\n",
    "print(\"token vocab length:\", len(tok.word_index))\n",
    "# print(tok.word_index)\n",
    "\n",
    "y_train_seq = tok.texts_to_sequences(answers)\n",
    "max_seq = 0\n",
    "for i in y_train_seq:\n",
    "    if len(i) > max_seq:\n",
    "        max_seq = len(i)\n",
    "print(\"max sequence length: \", max_seq)\n",
    "\n",
    "y_train = sequence.pad_sequences(y_train_seq, padding='post')\n",
    "\n",
    "print(y_train)\n",
    "print(y_train.shape)"
   ]
  },
  {
   "cell_type": "markdown",
   "metadata": {},
   "source": [
    "### building model ###"
   ]
  },
  {
   "cell_type": "code",
   "execution_count": 15,
   "metadata": {},
   "outputs": [],
   "source": [
    "# from tensorflow.keras.models import Sequential\n",
    "# from tensorflow.keras import layers\n",
    "\n",
    "# model = tf.keras.Sequential()\n",
    "\n",
    "# model.add(\n",
    "#     layers.Embedding(\n",
    "#         input_dim=max_features,        # the size of vocabulary\n",
    "#         input_length=sequence_length,     # Length of input sequences\n",
    "#         output_dim=32,        # dimension of the dense embedding\n",
    "#     )\n",
    "# )\n",
    "\n",
    "# model.add(\n",
    "#     layers.LSTM(\n",
    "#         unit=32,\n",
    "#     )\n",
    "# )\n",
    "\n",
    "# model.add(layers.Dropout(0.1))\n",
    "# model.add(layers.Dense(units=256, activation='relu'))\n",
    "\n",
    "# model.add(layers.Dropout(0.1))\n",
    "# model.add(layers.Dense(units=1, activation='sigmoid'))\n",
    "\n",
    "# model.compile(\n",
    "#     loss='sparse_categorical_crossentropy',\n",
    "#     optimizer='adam',\n",
    "#     metrics=['accuracy']\n",
    "# )\n"
   ]
  },
  {
   "cell_type": "code",
   "execution_count": 16,
   "metadata": {},
   "outputs": [
    {
     "name": "stdout",
     "output_type": "stream",
     "text": [
      "Model: \"model\"\n",
      "_________________________________________________________________\n",
      "Layer (type)                 Output Shape              Param #   \n",
      "=================================================================\n",
      "input_1 (InputLayer)         [(None, 150)]             0         \n",
      "_________________________________________________________________\n",
      "embedding (Embedding)        (None, 150, 128)          640000    \n",
      "_________________________________________________________________\n",
      "lstm (LSTM)                  (None, 150)               167400    \n",
      "_________________________________________________________________\n",
      "dropout (Dropout)            (None, 150)               0         \n",
      "_________________________________________________________________\n",
      "dense (Dense)                (None, 150)               22650     \n",
      "_________________________________________________________________\n",
      "concatenate (Concatenate)    (29837, 171)              0         \n",
      "_________________________________________________________________\n",
      "dense_1 (Dense)              (29837, 171)              29412     \n",
      "_________________________________________________________________\n",
      "dense_2 (Dense)              (29837, 9)                1548      \n",
      "=================================================================\n",
      "Total params: 861,010\n",
      "Trainable params: 861,010\n",
      "Non-trainable params: 0\n",
      "_________________________________________________________________\n",
      "None\n"
     ]
    }
   ],
   "source": [
    "from tensorflow.keras.models import Sequential\n",
    "from tensorflow.keras import layers\n",
    "\n",
    "inputs = tf.keras.Input(shape=(sequence_length,), dtype=\"int64\")\n",
    "\n",
    "# input_dim: the size of vocabulary\n",
    "# input_length: Length of input sequences\n",
    "# output_dim: dimension of the dense embedding\n",
    "\n",
    "x = layers.Embedding(\n",
    "    input_dim=max_features, \n",
    "    output_dim=embedding_dim,\n",
    "    input_length=sequence_length, \n",
    ")(inputs)\n",
    "\n",
    "x = layers.LSTM(units=150, activation='relu',)(x)\n",
    "\n",
    "x = layers.Dropout(0.1)(x)\n",
    "x = layers.Dense(units=150, activation='relu')(x)\n",
    "\n",
    "x = layers.Concatenate(axis=1)([x, x_train_num])\n",
    "x = layers.Dense(units=171, activation='linear')(x)\n",
    "# len(x_train) + len(x_train_num) = 150 + 21 = 171\n",
    "\n",
    "predictions = layers.Dense(9, activation='linear')(x)\n",
    "\n",
    "model = tf.keras.Model(inputs, predictions)\n",
    "\n",
    "model.compile(\n",
    "    loss='sparse_categorical_crossentropy',\n",
    "    optimizer='adam',\n",
    "    metrics=['accuracy']\n",
    ")\n",
    "\n",
    "print(model.summary())"
   ]
  },
  {
   "cell_type": "code",
   "execution_count": 17,
   "metadata": {},
   "outputs": [
    {
     "name": "stdout",
     "output_type": "stream",
     "text": [
      "(29837, 150)\n",
      "(29837, 21)\n",
      "(29837, 9)\n"
     ]
    }
   ],
   "source": [
    "print(x_train.shape)\n",
    "print(x_train_num.shape)\n",
    "print(y_train.shape)\n"
   ]
  },
  {
   "cell_type": "code",
   "execution_count": 18,
   "metadata": {},
   "outputs": [
    {
     "name": "stdout",
     "output_type": "stream",
     "text": [
      "Epoch 1/3\n"
     ]
    },
    {
     "ename": "InvalidArgumentError",
     "evalue": " Incompatible shapes: [29837,150] vs. [32,150]\n\t [[node model/dropout/dropout/Mul_1 (defined at C:\\Users\\Liang\\AppData\\Local\\Temp/ipykernel_17268/1007158877.py:8) ]] [Op:__inference_train_function_2305]\n\nFunction call stack:\ntrain_function\n",
     "output_type": "error",
     "traceback": [
      "\u001b[1;31m---------------------------------------------------------------------------\u001b[0m",
      "\u001b[1;31mInvalidArgumentError\u001b[0m                      Traceback (most recent call last)",
      "\u001b[1;32m~\\AppData\\Local\\Temp/ipykernel_17268/1007158877.py\u001b[0m in \u001b[0;36m<module>\u001b[1;34m\u001b[0m\n\u001b[0;32m      6\u001b[0m \u001b[1;31m#     batch_size=29837,\u001b[0m\u001b[1;33m\u001b[0m\u001b[1;33m\u001b[0m\u001b[0m\n\u001b[0;32m      7\u001b[0m \u001b[1;31m#     validation_split=0.2,\u001b[0m\u001b[1;33m\u001b[0m\u001b[1;33m\u001b[0m\u001b[0m\n\u001b[1;32m----> 8\u001b[1;33m     \u001b[0mepochs\u001b[0m\u001b[1;33m=\u001b[0m\u001b[0mepochs\u001b[0m\u001b[1;33m,\u001b[0m\u001b[1;33m\u001b[0m\u001b[0m\n\u001b[0m\u001b[0;32m      9\u001b[0m )\n",
      "\u001b[1;32mD:\\Program Files (x86)\\Anaconda3\\envs\\pytorch\\lib\\site-packages\\keras\\engine\\training.py\u001b[0m in \u001b[0;36mfit\u001b[1;34m(self, x, y, batch_size, epochs, verbose, callbacks, validation_split, validation_data, shuffle, class_weight, sample_weight, initial_epoch, steps_per_epoch, validation_steps, validation_batch_size, validation_freq, max_queue_size, workers, use_multiprocessing)\u001b[0m\n\u001b[0;32m   1182\u001b[0m                 _r=1):\n\u001b[0;32m   1183\u001b[0m               \u001b[0mcallbacks\u001b[0m\u001b[1;33m.\u001b[0m\u001b[0mon_train_batch_begin\u001b[0m\u001b[1;33m(\u001b[0m\u001b[0mstep\u001b[0m\u001b[1;33m)\u001b[0m\u001b[1;33m\u001b[0m\u001b[0m\n\u001b[1;32m-> 1184\u001b[1;33m               \u001b[0mtmp_logs\u001b[0m \u001b[1;33m=\u001b[0m \u001b[0mself\u001b[0m\u001b[1;33m.\u001b[0m\u001b[0mtrain_function\u001b[0m\u001b[1;33m(\u001b[0m\u001b[0miterator\u001b[0m\u001b[1;33m)\u001b[0m\u001b[1;33m\u001b[0m\u001b[0m\n\u001b[0m\u001b[0;32m   1185\u001b[0m               \u001b[1;32mif\u001b[0m \u001b[0mdata_handler\u001b[0m\u001b[1;33m.\u001b[0m\u001b[0mshould_sync\u001b[0m\u001b[1;33m:\u001b[0m\u001b[1;33m\u001b[0m\u001b[0m\n\u001b[0;32m   1186\u001b[0m                 \u001b[0mcontext\u001b[0m\u001b[1;33m.\u001b[0m\u001b[0masync_wait\u001b[0m\u001b[1;33m(\u001b[0m\u001b[1;33m)\u001b[0m\u001b[1;33m\u001b[0m\u001b[0m\n",
      "\u001b[1;32mD:\\Program Files (x86)\\Anaconda3\\envs\\pytorch\\lib\\site-packages\\tensorflow\\python\\eager\\def_function.py\u001b[0m in \u001b[0;36m__call__\u001b[1;34m(self, *args, **kwds)\u001b[0m\n\u001b[0;32m    883\u001b[0m \u001b[1;33m\u001b[0m\u001b[0m\n\u001b[0;32m    884\u001b[0m       \u001b[1;32mwith\u001b[0m \u001b[0mOptionalXlaContext\u001b[0m\u001b[1;33m(\u001b[0m\u001b[0mself\u001b[0m\u001b[1;33m.\u001b[0m\u001b[0m_jit_compile\u001b[0m\u001b[1;33m)\u001b[0m\u001b[1;33m:\u001b[0m\u001b[1;33m\u001b[0m\u001b[0m\n\u001b[1;32m--> 885\u001b[1;33m         \u001b[0mresult\u001b[0m \u001b[1;33m=\u001b[0m \u001b[0mself\u001b[0m\u001b[1;33m.\u001b[0m\u001b[0m_call\u001b[0m\u001b[1;33m(\u001b[0m\u001b[1;33m*\u001b[0m\u001b[0margs\u001b[0m\u001b[1;33m,\u001b[0m \u001b[1;33m**\u001b[0m\u001b[0mkwds\u001b[0m\u001b[1;33m)\u001b[0m\u001b[1;33m\u001b[0m\u001b[0m\n\u001b[0m\u001b[0;32m    886\u001b[0m \u001b[1;33m\u001b[0m\u001b[0m\n\u001b[0;32m    887\u001b[0m       \u001b[0mnew_tracing_count\u001b[0m \u001b[1;33m=\u001b[0m \u001b[0mself\u001b[0m\u001b[1;33m.\u001b[0m\u001b[0mexperimental_get_tracing_count\u001b[0m\u001b[1;33m(\u001b[0m\u001b[1;33m)\u001b[0m\u001b[1;33m\u001b[0m\u001b[0m\n",
      "\u001b[1;32mD:\\Program Files (x86)\\Anaconda3\\envs\\pytorch\\lib\\site-packages\\tensorflow\\python\\eager\\def_function.py\u001b[0m in \u001b[0;36m_call\u001b[1;34m(self, *args, **kwds)\u001b[0m\n\u001b[0;32m    948\u001b[0m         \u001b[1;31m# Lifting succeeded, so variables are initialized and we can run the\u001b[0m\u001b[1;33m\u001b[0m\u001b[1;33m\u001b[0m\u001b[0m\n\u001b[0;32m    949\u001b[0m         \u001b[1;31m# stateless function.\u001b[0m\u001b[1;33m\u001b[0m\u001b[1;33m\u001b[0m\u001b[0m\n\u001b[1;32m--> 950\u001b[1;33m         \u001b[1;32mreturn\u001b[0m \u001b[0mself\u001b[0m\u001b[1;33m.\u001b[0m\u001b[0m_stateless_fn\u001b[0m\u001b[1;33m(\u001b[0m\u001b[1;33m*\u001b[0m\u001b[0margs\u001b[0m\u001b[1;33m,\u001b[0m \u001b[1;33m**\u001b[0m\u001b[0mkwds\u001b[0m\u001b[1;33m)\u001b[0m\u001b[1;33m\u001b[0m\u001b[0m\n\u001b[0m\u001b[0;32m    951\u001b[0m     \u001b[1;32melse\u001b[0m\u001b[1;33m:\u001b[0m\u001b[1;33m\u001b[0m\u001b[0m\n\u001b[0;32m    952\u001b[0m       \u001b[0m_\u001b[0m\u001b[1;33m,\u001b[0m \u001b[0m_\u001b[0m\u001b[1;33m,\u001b[0m \u001b[0m_\u001b[0m\u001b[1;33m,\u001b[0m \u001b[0mfiltered_flat_args\u001b[0m \u001b[1;33m=\u001b[0m\u001b[0;31m \u001b[0m\u001b[0;31m\\\u001b[0m\u001b[1;33m\u001b[0m\u001b[0m\n",
      "\u001b[1;32mD:\\Program Files (x86)\\Anaconda3\\envs\\pytorch\\lib\\site-packages\\tensorflow\\python\\eager\\function.py\u001b[0m in \u001b[0;36m__call__\u001b[1;34m(self, *args, **kwargs)\u001b[0m\n\u001b[0;32m   3038\u001b[0m        filtered_flat_args) = self._maybe_define_function(args, kwargs)\n\u001b[0;32m   3039\u001b[0m     return graph_function._call_flat(\n\u001b[1;32m-> 3040\u001b[1;33m         filtered_flat_args, captured_inputs=graph_function.captured_inputs)  # pylint: disable=protected-access\n\u001b[0m\u001b[0;32m   3041\u001b[0m \u001b[1;33m\u001b[0m\u001b[0m\n\u001b[0;32m   3042\u001b[0m   \u001b[1;33m@\u001b[0m\u001b[0mproperty\u001b[0m\u001b[1;33m\u001b[0m\u001b[0m\n",
      "\u001b[1;32mD:\\Program Files (x86)\\Anaconda3\\envs\\pytorch\\lib\\site-packages\\tensorflow\\python\\eager\\function.py\u001b[0m in \u001b[0;36m_call_flat\u001b[1;34m(self, args, captured_inputs, cancellation_manager)\u001b[0m\n\u001b[0;32m   1962\u001b[0m       \u001b[1;31m# No tape is watching; skip to running the function.\u001b[0m\u001b[1;33m\u001b[0m\u001b[1;33m\u001b[0m\u001b[0m\n\u001b[0;32m   1963\u001b[0m       return self._build_call_outputs(self._inference_function.call(\n\u001b[1;32m-> 1964\u001b[1;33m           ctx, args, cancellation_manager=cancellation_manager))\n\u001b[0m\u001b[0;32m   1965\u001b[0m     forward_backward = self._select_forward_and_backward_functions(\n\u001b[0;32m   1966\u001b[0m         \u001b[0margs\u001b[0m\u001b[1;33m,\u001b[0m\u001b[1;33m\u001b[0m\u001b[0m\n",
      "\u001b[1;32mD:\\Program Files (x86)\\Anaconda3\\envs\\pytorch\\lib\\site-packages\\tensorflow\\python\\eager\\function.py\u001b[0m in \u001b[0;36mcall\u001b[1;34m(self, ctx, args, cancellation_manager)\u001b[0m\n\u001b[0;32m    594\u001b[0m               \u001b[0minputs\u001b[0m\u001b[1;33m=\u001b[0m\u001b[0margs\u001b[0m\u001b[1;33m,\u001b[0m\u001b[1;33m\u001b[0m\u001b[0m\n\u001b[0;32m    595\u001b[0m               \u001b[0mattrs\u001b[0m\u001b[1;33m=\u001b[0m\u001b[0mattrs\u001b[0m\u001b[1;33m,\u001b[0m\u001b[1;33m\u001b[0m\u001b[0m\n\u001b[1;32m--> 596\u001b[1;33m               ctx=ctx)\n\u001b[0m\u001b[0;32m    597\u001b[0m         \u001b[1;32melse\u001b[0m\u001b[1;33m:\u001b[0m\u001b[1;33m\u001b[0m\u001b[0m\n\u001b[0;32m    598\u001b[0m           outputs = execute.execute_with_cancellation(\n",
      "\u001b[1;32mD:\\Program Files (x86)\\Anaconda3\\envs\\pytorch\\lib\\site-packages\\tensorflow\\python\\eager\\execute.py\u001b[0m in \u001b[0;36mquick_execute\u001b[1;34m(op_name, num_outputs, inputs, attrs, ctx, name)\u001b[0m\n\u001b[0;32m     58\u001b[0m     \u001b[0mctx\u001b[0m\u001b[1;33m.\u001b[0m\u001b[0mensure_initialized\u001b[0m\u001b[1;33m(\u001b[0m\u001b[1;33m)\u001b[0m\u001b[1;33m\u001b[0m\u001b[0m\n\u001b[0;32m     59\u001b[0m     tensors = pywrap_tfe.TFE_Py_Execute(ctx._handle, device_name, op_name,\n\u001b[1;32m---> 60\u001b[1;33m                                         inputs, attrs, num_outputs)\n\u001b[0m\u001b[0;32m     61\u001b[0m   \u001b[1;32mexcept\u001b[0m \u001b[0mcore\u001b[0m\u001b[1;33m.\u001b[0m\u001b[0m_NotOkStatusException\u001b[0m \u001b[1;32mas\u001b[0m \u001b[0me\u001b[0m\u001b[1;33m:\u001b[0m\u001b[1;33m\u001b[0m\u001b[0m\n\u001b[0;32m     62\u001b[0m     \u001b[1;32mif\u001b[0m \u001b[0mname\u001b[0m \u001b[1;32mis\u001b[0m \u001b[1;32mnot\u001b[0m \u001b[1;32mNone\u001b[0m\u001b[1;33m:\u001b[0m\u001b[1;33m\u001b[0m\u001b[0m\n",
      "\u001b[1;31mInvalidArgumentError\u001b[0m:  Incompatible shapes: [29837,150] vs. [32,150]\n\t [[node model/dropout/dropout/Mul_1 (defined at C:\\Users\\Liang\\AppData\\Local\\Temp/ipykernel_17268/1007158877.py:8) ]] [Op:__inference_train_function_2305]\n\nFunction call stack:\ntrain_function\n"
     ]
    }
   ],
   "source": [
    "epochs = 3\n",
    "\n",
    "model.fit(\n",
    "    x=x_train,\n",
    "    y=y_train,\n",
    "#     batch_size=29837,\n",
    "#     validation_split=0.2,\n",
    "    epochs=epochs,\n",
    ")"
   ]
  },
  {
   "cell_type": "code",
   "execution_count": null,
   "metadata": {},
   "outputs": [],
   "source": []
  },
  {
   "cell_type": "code",
   "execution_count": null,
   "metadata": {},
   "outputs": [],
   "source": [
    "# from tensorflow.keras.layers import TextVectorization\n",
    "\n",
    "# def custom_standardization(input_data):\n",
    "#     lowercase = tf.strings.lower(input_data)\n",
    "# #     stripped_html = tf.strings.regex_replace(lowercase, \"<br />\", \" \")\n",
    "#     return lowercase\n",
    "\n",
    "\n",
    "\n",
    "# vectorize_layer = TextVectorization(\n",
    "#     standardize = custom_standardization,\n",
    "#     max_tokens=max_features,\n",
    "#     output_mode=\"int\",\n",
    "#     output_sequence_length=sequence_length,\n",
    "# )"
   ]
  },
  {
   "cell_type": "code",
   "execution_count": null,
   "metadata": {},
   "outputs": [],
   "source": [
    "# def vectorize_text(text):\n",
    "#     text = tf.expand_dims(text, -1)\n",
    "#     return vectorize_layer(text)\n",
    "# #     return tok.texts_to_sequences(text)\n",
    "\n",
    "\n",
    "# # Vectorize the data.\n",
    "# train_ds =text.map(vectorize_text)\n",
    "# # val_ds = raw_val_ds.map(vectorize_text)\n",
    "# # test_ds = raw_test_ds.map(vectorize_text)\n",
    "\n",
    "# # Do async prefetching / buffering of the data for best performance on GPU.\n",
    "# train_ds = train_ds.cache().prefetch(buffer_size=10)\n",
    "# # val_ds = val_ds.cache().prefetch(buffer_size=10)\n",
    "# # test_ds = test_ds.cache().prefetch(buffer_size=10)"
   ]
  },
  {
   "cell_type": "code",
   "execution_count": null,
   "metadata": {},
   "outputs": [],
   "source": []
  },
  {
   "cell_type": "code",
   "execution_count": null,
   "metadata": {},
   "outputs": [],
   "source": []
  },
  {
   "cell_type": "code",
   "execution_count": null,
   "metadata": {},
   "outputs": [],
   "source": []
  }
 ],
 "metadata": {
  "kernelspec": {
   "display_name": "pytorch",
   "language": "python",
   "name": "pytorch"
  },
  "language_info": {
   "codemirror_mode": {
    "name": "ipython",
    "version": 3
   },
   "file_extension": ".py",
   "mimetype": "text/x-python",
   "name": "python",
   "nbconvert_exporter": "python",
   "pygments_lexer": "ipython3",
   "version": "3.7.0"
  }
 },
 "nbformat": 4,
 "nbformat_minor": 2
}
