{
 "cells": [
  {
   "cell_type": "markdown",
   "metadata": {},
   "source": [
    "### Get the content of correct answers in the options ###"
   ]
  },
  {
   "cell_type": "code",
   "execution_count": 1,
   "metadata": {},
   "outputs": [
    {
     "name": "stdout",
     "output_type": "stream",
     "text": [
      "training problems number:  29837\n",
      "category\n",
      "gain            5120\n",
      "general        13273\n",
      "geometry        2117\n",
      "other           1814\n",
      "physics         7063\n",
      "probability      450\n",
      "Name: Problem, dtype: int64\n"
     ]
    },
    {
     "data": {
      "text/html": [
       "<div>\n",
       "<style scoped>\n",
       "    .dataframe tbody tr th:only-of-type {\n",
       "        vertical-align: middle;\n",
       "    }\n",
       "\n",
       "    .dataframe tbody tr th {\n",
       "        vertical-align: top;\n",
       "    }\n",
       "\n",
       "    .dataframe thead th {\n",
       "        text-align: right;\n",
       "    }\n",
       "</style>\n",
       "<table border=\"1\" class=\"dataframe\">\n",
       "  <thead>\n",
       "    <tr style=\"text-align: right;\">\n",
       "      <th></th>\n",
       "      <th>Problem</th>\n",
       "      <th>Rationale</th>\n",
       "      <th>options</th>\n",
       "      <th>correct</th>\n",
       "      <th>annotated_formula</th>\n",
       "      <th>linear_formula</th>\n",
       "      <th>category</th>\n",
       "    </tr>\n",
       "  </thead>\n",
       "  <tbody>\n",
       "    <tr>\n",
       "      <th>0</th>\n",
       "      <td>the banker ' s gain of a certain sum due 3 yea...</td>\n",
       "      <td>\"explanation : t = 3 years r = 10 % td = ( bg ...</td>\n",
       "      <td>a ) rs . 400 , b ) rs . 300 , c ) rs . 500 , d...</td>\n",
       "      <td>a</td>\n",
       "      <td>divide(multiply(const_100, divide(multiply(36,...</td>\n",
       "      <td>multiply(n2,const_100)|multiply(n0,n1)|divide(...</td>\n",
       "      <td>gain</td>\n",
       "    </tr>\n",
       "    <tr>\n",
       "      <th>1</th>\n",
       "      <td>average age of students of an adult school is ...</td>\n",
       "      <td>\"explanation : let the original no . of studen...</td>\n",
       "      <td>a ) 1200 , b ) 120 , c ) 360 , d ) 240 , e ) n...</td>\n",
       "      <td>d</td>\n",
       "      <td>multiply(divide(subtract(multiply(add(32, 4), ...</td>\n",
       "      <td>add(n2,n3)|multiply(n1,n2)|multiply(n1,#0)|sub...</td>\n",
       "      <td>general</td>\n",
       "    </tr>\n",
       "    <tr>\n",
       "      <th>2</th>\n",
       "      <td>sophia finished 2 / 3 of a book . she calculat...</td>\n",
       "      <td>let xx be the total number of pages in the boo...</td>\n",
       "      <td>a ) 229 , b ) 270 , c ) 877 , d ) 266 , e ) 281</td>\n",
       "      <td>b</td>\n",
       "      <td>divide(90, subtract(const_1, divide(2, 3)))</td>\n",
       "      <td>divide(n0,n1)|subtract(const_1,#0)|divide(n2,#1)</td>\n",
       "      <td>general</td>\n",
       "    </tr>\n",
       "    <tr>\n",
       "      <th>3</th>\n",
       "      <td>120 is what percent of 50 ?</td>\n",
       "      <td>\"50 * x = 120 - - &gt; x = 2.4 - - &gt; 2.4 expresse...</td>\n",
       "      <td>a ) 5 % , b ) 240 % , c ) 50 % , d ) 2 % , e )...</td>\n",
       "      <td>b</td>\n",
       "      <td>multiply(divide(120, 50), const_100)</td>\n",
       "      <td>divide(n0,n1)|multiply(#0,const_100)|</td>\n",
       "      <td>gain</td>\n",
       "    </tr>\n",
       "    <tr>\n",
       "      <th>4</th>\n",
       "      <td>there are 10 girls and 20 boys in a classroom ...</td>\n",
       "      <td>if girls is 10 and boys is 20 , then 10 / 20 ....</td>\n",
       "      <td>a ) 1 / 2 , b ) 1 / 3 , c ) 1 / 5 , d ) 10 / 3...</td>\n",
       "      <td>a</td>\n",
       "      <td>divide(10, 20)</td>\n",
       "      <td>divide(n0,n1)</td>\n",
       "      <td>other</td>\n",
       "    </tr>\n",
       "  </tbody>\n",
       "</table>\n",
       "</div>"
      ],
      "text/plain": [
       "                                             Problem  \\\n",
       "0  the banker ' s gain of a certain sum due 3 yea...   \n",
       "1  average age of students of an adult school is ...   \n",
       "2  sophia finished 2 / 3 of a book . she calculat...   \n",
       "3                        120 is what percent of 50 ?   \n",
       "4  there are 10 girls and 20 boys in a classroom ...   \n",
       "\n",
       "                                           Rationale  \\\n",
       "0  \"explanation : t = 3 years r = 10 % td = ( bg ...   \n",
       "1  \"explanation : let the original no . of studen...   \n",
       "2  let xx be the total number of pages in the boo...   \n",
       "3  \"50 * x = 120 - - > x = 2.4 - - > 2.4 expresse...   \n",
       "4  if girls is 10 and boys is 20 , then 10 / 20 ....   \n",
       "\n",
       "                                             options correct  \\\n",
       "0  a ) rs . 400 , b ) rs . 300 , c ) rs . 500 , d...       a   \n",
       "1  a ) 1200 , b ) 120 , c ) 360 , d ) 240 , e ) n...       d   \n",
       "2    a ) 229 , b ) 270 , c ) 877 , d ) 266 , e ) 281       b   \n",
       "3  a ) 5 % , b ) 240 % , c ) 50 % , d ) 2 % , e )...       b   \n",
       "4  a ) 1 / 2 , b ) 1 / 3 , c ) 1 / 5 , d ) 10 / 3...       a   \n",
       "\n",
       "                                   annotated_formula  \\\n",
       "0  divide(multiply(const_100, divide(multiply(36,...   \n",
       "1  multiply(divide(subtract(multiply(add(32, 4), ...   \n",
       "2        divide(90, subtract(const_1, divide(2, 3)))   \n",
       "3               multiply(divide(120, 50), const_100)   \n",
       "4                                     divide(10, 20)   \n",
       "\n",
       "                                      linear_formula category  \n",
       "0  multiply(n2,const_100)|multiply(n0,n1)|divide(...     gain  \n",
       "1  add(n2,n3)|multiply(n1,n2)|multiply(n1,#0)|sub...  general  \n",
       "2   divide(n0,n1)|subtract(const_1,#0)|divide(n2,#1)  general  \n",
       "3              divide(n0,n1)|multiply(#0,const_100)|     gain  \n",
       "4                                      divide(n0,n1)    other  "
      ]
     },
     "execution_count": 1,
     "metadata": {},
     "output_type": "execute_result"
    }
   ],
   "source": [
    "import pandas as pd\n",
    "import numpy as np\n",
    "import json\n",
    "\n",
    "\n",
    "# training data\n",
    "\n",
    "with open('dataset/MathQA/train.json') as f:\n",
    "    data = json.loads(f.read())\n",
    "    \n",
    "train_df = pd.DataFrame(data)\n",
    "\n",
    "print('training problems number: ', train_df['Problem'].count())\n",
    "print(train_df.groupby(['category'])['Problem'].count())\n",
    "\n",
    "train_df.head(5)"
   ]
  },
  {
   "cell_type": "code",
   "execution_count": 2,
   "metadata": {},
   "outputs": [],
   "source": [
    "# remove the problems that contain option \"none of these\"\n",
    "\n",
    "train_df = train_df[~train_df['options'].str.contains('none')]\n",
    "train_df = train_df[~train_df['options'].str.contains('none of these')]\n",
    "train_df = train_df.reset_index(drop=True)"
   ]
  },
  {
   "cell_type": "code",
   "execution_count": 3,
   "metadata": {},
   "outputs": [
    {
     "name": "stdout",
     "output_type": "stream",
     "text": [
      "0      a ) 229 , b ) 270 , c ) 877 , d ) 266 , e ) 281\n",
      "1    a ) 5 % , b ) 240 % , c ) 50 % , d ) 2 % , e )...\n",
      "2    a ) 1 / 2 , b ) 1 / 3 , c ) 1 / 5 , d ) 10 / 3...\n",
      "3        a ) 122 , b ) 150 , c ) 100 , d ) 80 , e ) 50\n",
      "4    a ) 21.4 % , b ) 21.5 % , c ) 21.6 % , d ) 21....\n",
      "Name: options, dtype: object\n",
      "Problem              the average of 15 result is 60 . average of th...\n",
      "Rationale            \"sum of all the 13 results = 15 * 60 = 900 sum...\n",
      "options                 a ) 35 , b ) 200 , c ) 150 , d ) 250 , e ) 300\n",
      "correct                                                              b\n",
      "annotated_formula    subtract(add(multiply(10, 10), multiply(10, 80...\n",
      "linear_formula       multiply(n2,n3)|multiply(n2,n5)|multiply(n0,n1...\n",
      "category                                                       general\n",
      "Name: 10, dtype: object\n",
      "27393\n"
     ]
    }
   ],
   "source": [
    "print(train_df['options'][:5])\n",
    "print(train_df.iloc[10])\n",
    "print(len(train_df))"
   ]
  },
  {
   "cell_type": "code",
   "execution_count": 4,
   "metadata": {
    "scrolled": true
   },
   "outputs": [
    {
     "name": "stdout",
     "output_type": "stream",
     "text": [
      "validation problems number:  4475\n",
      "category\n",
      "gain            743\n",
      "general        2006\n",
      "geometry        308\n",
      "other           288\n",
      "physics        1056\n",
      "probability      74\n",
      "Name: Problem, dtype: int64\n"
     ]
    },
    {
     "data": {
      "text/html": [
       "<div>\n",
       "<style scoped>\n",
       "    .dataframe tbody tr th:only-of-type {\n",
       "        vertical-align: middle;\n",
       "    }\n",
       "\n",
       "    .dataframe tbody tr th {\n",
       "        vertical-align: top;\n",
       "    }\n",
       "\n",
       "    .dataframe thead th {\n",
       "        text-align: right;\n",
       "    }\n",
       "</style>\n",
       "<table border=\"1\" class=\"dataframe\">\n",
       "  <thead>\n",
       "    <tr style=\"text-align: right;\">\n",
       "      <th></th>\n",
       "      <th>Problem</th>\n",
       "      <th>Rationale</th>\n",
       "      <th>options</th>\n",
       "      <th>correct</th>\n",
       "      <th>annotated_formula</th>\n",
       "      <th>linear_formula</th>\n",
       "      <th>category</th>\n",
       "    </tr>\n",
       "  </thead>\n",
       "  <tbody>\n",
       "    <tr>\n",
       "      <th>0</th>\n",
       "      <td>a multiple choice test consists of 4 questions...</td>\n",
       "      <td>\"5 choices for each of the 4 questions , thus ...</td>\n",
       "      <td>a ) 24 , b ) 120 , c ) 625 , d ) 720 , e ) 1024</td>\n",
       "      <td>c</td>\n",
       "      <td>power(5, 4)</td>\n",
       "      <td>power(n1,n0)|</td>\n",
       "      <td>general</td>\n",
       "    </tr>\n",
       "    <tr>\n",
       "      <th>1</th>\n",
       "      <td>a 3 - digit positive integer is chosen at rand...</td>\n",
       "      <td>p ( three odd digits ) = 5 / 9 * 5 / 10 * 5 / ...</td>\n",
       "      <td>a ) 1 / 2 , b ) 31 / 36 , c ) 49 / 54 , d ) 7 ...</td>\n",
       "      <td>b</td>\n",
       "      <td>subtract(const_1, power(divide(const_1, const_...</td>\n",
       "      <td>divide(const_1,const_2)|power(#0,n0)|subtract(...</td>\n",
       "      <td>general</td>\n",
       "    </tr>\n",
       "    <tr>\n",
       "      <th>2</th>\n",
       "      <td>if x and y are positive integers and 7 + x + y...</td>\n",
       "      <td>\"try each answer choices . for a : 7 + 3 + xy ...</td>\n",
       "      <td>a ) 3 , b ) 5 , c ) 6 , d ) 8 , e ) 9</td>\n",
       "      <td>c</td>\n",
       "      <td>add(21, const_1)</td>\n",
       "      <td>add(n1,const_1)|</td>\n",
       "      <td>general</td>\n",
       "    </tr>\n",
       "    <tr>\n",
       "      <th>3</th>\n",
       "      <td>the hcf and lcm of two numbers m and n are res...</td>\n",
       "      <td>answer we have , m x n = 6 x 210 = 1260 ∴ 1 / ...</td>\n",
       "      <td>a ) 1 / 35 , b ) 3 / 35 , c ) 5 / 37 , d ) 2 /...</td>\n",
       "      <td>d</td>\n",
       "      <td>divide(72, multiply(6, 210))</td>\n",
       "      <td>multiply(n0,n1)|divide(n2,#0)</td>\n",
       "      <td>general</td>\n",
       "    </tr>\n",
       "    <tr>\n",
       "      <th>4</th>\n",
       "      <td>in a kilometer race , a beats b by 48 meters o...</td>\n",
       "      <td>\"time taken by b run 1000 meters = ( 1000 * 12...</td>\n",
       "      <td>a ) 238 sec , b ) 190 sec , c ) 667 sec , d ) ...</td>\n",
       "      <td>a</td>\n",
       "      <td>subtract(divide(multiply(const_1, const_1000),...</td>\n",
       "      <td>divide(n0,n1)|multiply(const_1,const_1000)|div...</td>\n",
       "      <td>physics</td>\n",
       "    </tr>\n",
       "  </tbody>\n",
       "</table>\n",
       "</div>"
      ],
      "text/plain": [
       "                                             Problem  \\\n",
       "0  a multiple choice test consists of 4 questions...   \n",
       "1  a 3 - digit positive integer is chosen at rand...   \n",
       "2  if x and y are positive integers and 7 + x + y...   \n",
       "3  the hcf and lcm of two numbers m and n are res...   \n",
       "4  in a kilometer race , a beats b by 48 meters o...   \n",
       "\n",
       "                                           Rationale  \\\n",
       "0  \"5 choices for each of the 4 questions , thus ...   \n",
       "1  p ( three odd digits ) = 5 / 9 * 5 / 10 * 5 / ...   \n",
       "2  \"try each answer choices . for a : 7 + 3 + xy ...   \n",
       "3  answer we have , m x n = 6 x 210 = 1260 ∴ 1 / ...   \n",
       "4  \"time taken by b run 1000 meters = ( 1000 * 12...   \n",
       "\n",
       "                                             options correct  \\\n",
       "0    a ) 24 , b ) 120 , c ) 625 , d ) 720 , e ) 1024       c   \n",
       "1  a ) 1 / 2 , b ) 31 / 36 , c ) 49 / 54 , d ) 7 ...       b   \n",
       "2              a ) 3 , b ) 5 , c ) 6 , d ) 8 , e ) 9       c   \n",
       "3  a ) 1 / 35 , b ) 3 / 35 , c ) 5 / 37 , d ) 2 /...       d   \n",
       "4  a ) 238 sec , b ) 190 sec , c ) 667 sec , d ) ...       a   \n",
       "\n",
       "                                   annotated_formula  \\\n",
       "0                                        power(5, 4)   \n",
       "1  subtract(const_1, power(divide(const_1, const_...   \n",
       "2                                   add(21, const_1)   \n",
       "3                       divide(72, multiply(6, 210))   \n",
       "4  subtract(divide(multiply(const_1, const_1000),...   \n",
       "\n",
       "                                      linear_formula category  \n",
       "0                                      power(n1,n0)|  general  \n",
       "1  divide(const_1,const_2)|power(#0,n0)|subtract(...  general  \n",
       "2                                   add(n1,const_1)|  general  \n",
       "3                      multiply(n0,n1)|divide(n2,#0)  general  \n",
       "4  divide(n0,n1)|multiply(const_1,const_1000)|div...  physics  "
      ]
     },
     "execution_count": 4,
     "metadata": {},
     "output_type": "execute_result"
    }
   ],
   "source": [
    "# validation data\n",
    "\n",
    "with open('dataset/MathQA/dev.json') as f:\n",
    "    data = json.loads(f.read())\n",
    "    \n",
    "val_df = pd.DataFrame(data)\n",
    "\n",
    "print('validation problems number: ', val_df['Problem'].count())\n",
    "print(val_df.groupby(['category'])['Problem'].count())\n",
    "\n",
    "val_df.head(5)"
   ]
  },
  {
   "cell_type": "markdown",
   "metadata": {},
   "source": [
    "#### 1、normalization 30^10 2/3 10% 5:8\n",
    "#### 2、tokens（word + number）\n",
    "#### 3、regression"
   ]
  },
  {
   "cell_type": "code",
   "execution_count": 5,
   "metadata": {},
   "outputs": [],
   "source": [
    "import re\n",
    "\n",
    "def replace_fraction(sen):\n",
    "    # replace all string like \"2 / 3 \"\n",
    "    pattern = re.compile(r'[0-9]+\\s\\/\\s[0-9]+\\s')    \n",
    "    results = pattern.findall(sen)\n",
    "    \n",
    "    if results != None:\n",
    "        new_results = []\n",
    "        for i in results:\n",
    "            nums = i.split(' / ')\n",
    "            new_results.append(str(int(nums[0])/int(nums[1]))[:8]+' ')\n",
    "        for i in range(len(results)):\n",
    "            sen = sen.replace(results[i], new_results[i])\n",
    "    return sen\n",
    "\n",
    "def replace_percentage(sen):\n",
    "    # replace all string like \"20 %\"\n",
    "    pattern = re.compile(r'[0-9]+\\.?[0-9]+\\s%')   \n",
    "    results = pattern.findall(sen)\n",
    "    \n",
    "    if results != None:\n",
    "        new_results = []\n",
    "        for i in results:\n",
    "            nums = i.split(' ')\n",
    "            new_results.append(str(round(float(nums[0])/100, 4)))\n",
    "        for i in range(len(results)):\n",
    "            sen = sen.replace(results[i], new_results[i])\n",
    "    return sen\n",
    "\n",
    "def replace_ratio(sen):\n",
    "    # replace all string like \" 2 : 3\" \"0.5 : 0.33 : 0.25\"\n",
    "    pattern = re.compile(r'[0-9]+\\.?[0-9]*\\s\\:\\s[0-9]+\\.?[0-9]*')\n",
    "    results = pattern.findall(sen)\n",
    "    \n",
    "    if results != None:\n",
    "        new_results = []\n",
    "        for i in results:\n",
    "            nums = i.split(' : ')\n",
    "            new_results.append(str(round(float(nums[0])/(float(nums[0])+float(nums[1])), 4)))\n",
    "        for i in range(len(results)):\n",
    "            sen = sen.replace(results[i], new_results[i])\n",
    "    return sen\n",
    "\n",
    "def replace_power(sen):\n",
    "    # replace all string like \"  30 ^ 10 \"\n",
    "    pass\n",
    "    return sen\n",
    "        \n",
    "def replace_punc(sen):\n",
    "    # replace punctuation like \"'\" \".\" \"|\"\n",
    "    sen = re.sub(r'\\s[^\\w\\s]\\s', ' ', sen)\n",
    "    return sen\n",
    "\n",
    "def problem_procession(problem):\n",
    "    problem = problem.apply(replace_power)\n",
    "    problem = problem.apply(replace_fraction)\n",
    "    problem = problem.apply(replace_percentage)\n",
    "    problem = problem.apply(replace_ratio)\n",
    "    problem = problem.apply(replace_punc)\n",
    "    \n",
    "    return problem"
   ]
  },
  {
   "cell_type": "code",
   "execution_count": 6,
   "metadata": {},
   "outputs": [
    {
     "name": "stdout",
     "output_type": "stream",
     "text": [
      "0    sophia finished 0.666666 of a book she calcula...\n",
      "1                          120 is what percent of 50 ?\n",
      "2    there are 10 girls and 20 boys in a classroom ...\n",
      "3    an empty fuel tank with a capacity of 218 gall...\n",
      "4    an article is bought for rs 823 and sold for r...\n",
      "Name: Problem, dtype: object\n",
      "0    a multiple choice test consists of 4 questions...\n",
      "1    a 3 digit positive integer is chosen at random...\n",
      "2    if x and y are positive integers and 7 x y xy ...\n",
      "3    the hcf and lcm of two numbers m and n are res...\n",
      "4    in a kilometer race a beats b by 48 meters or ...\n",
      "Name: Problem, dtype: object\n"
     ]
    }
   ],
   "source": [
    "train_problems = problem_procession(train_df.Problem)\n",
    "print(train_problems[:5])\n",
    "\n",
    "val_problems = problem_procession(val_df.Problem)\n",
    "print(val_problems.head(5))"
   ]
  },
  {
   "cell_type": "code",
   "execution_count": 7,
   "metadata": {},
   "outputs": [],
   "source": [
    "def separate_numbers(sen):    \n",
    "    pattarn = re.compile(r'[0-9]+\\.?[0-9]*')\n",
    "    numbers = pattarn.findall(sen)\n",
    "    numbers = [float(i) for i in numbers]\n",
    "    return numbers\n",
    "    \n",
    "def separate_text(sen):\n",
    "    pattarn = re.compile(r'[0-9]+\\.?[0-9]*\\s')\n",
    "    numbers = pattarn.findall(sen)\n",
    "    for i in range(len(numbers)):\n",
    "        sen = sen.replace(numbers[i], \"\")\n",
    "    return sen    \n"
   ]
  },
  {
   "cell_type": "code",
   "execution_count": 8,
   "metadata": {},
   "outputs": [
    {
     "name": "stdout",
     "output_type": "stream",
     "text": [
      "the banker s 0.2727 gain of a 0.66 certain 3.2549 sum due 3 years 0.215 hence 0.3846 at 0.1 per annum is rs 36 what is the present worth ?\n",
      "[0.2727, 0.66, 3.2549, 3.0, 0.215, 0.3846, 0.1, 36.0]\n",
      "the banker s gain of a certain sum due years hence at per annum is rs what is the present worth ?\n"
     ]
    }
   ],
   "source": [
    "# example sentence\n",
    "sen = \"the banker ' s 3 : 8 gain of a 0.66 certain 3.2549 sum due 3 years 21.5 % hence 5 : 8 at 10 % per annum is rs . 36 . what is the present worth ?\"\n",
    "sen = replace_power(sen)\n",
    "sen = replace_fraction(sen)\n",
    "sen = replace_percentage(sen)\n",
    "sen = replace_ratio(sen)\n",
    "sen = replace_punc(sen)\n",
    "print(sen)\n",
    "print(separate_numbers(sen))\n",
    "print(separate_text(sen))"
   ]
  },
  {
   "cell_type": "code",
   "execution_count": 9,
   "metadata": {},
   "outputs": [
    {
     "name": "stdout",
     "output_type": "stream",
     "text": [
      "0        sophia finished of a book she calculated that ...\n",
      "1                                     is what percent of ?\n",
      "2        there are girls and boys in a classroom what i...\n",
      "3        an empty fuel tank with a capacity of gallons ...\n",
      "4        an article is bought for rs and sold for rs fi...\n",
      "                               ...                        \n",
      "27388    a man sitting in a train which is traveling at...\n",
      "27389    average of matches is how many runs one should...\n",
      "27390                          solve below question x - 23\n",
      "27391                                      calculate ? 352\n",
      "27392    a vending machine is designed to dispense ounc...\n",
      "Name: Problem, Length: 27393, dtype: object\n"
     ]
    }
   ],
   "source": [
    "text = train_problems.apply(separate_text)\n",
    "print(text)"
   ]
  },
  {
   "cell_type": "code",
   "execution_count": 10,
   "metadata": {},
   "outputs": [
    {
     "name": "stdout",
     "output_type": "stream",
     "text": [
      "0                                         [0.666666, 90.0]\n",
      "1                                            [120.0, 50.0]\n",
      "2                                             [10.0, 20.0]\n",
      "3                                [218.0, 0.12, 0.16, 30.0]\n",
      "4                                          [823.0, 1000.0]\n",
      "                               ...                        \n",
      "27388                                  [55.0, 10.0, 320.0]\n",
      "27389                                    [10.0, 32.0, 6.0]\n",
      "27390                                     [2.0, 1.0, 23.0]\n",
      "27391                                     [85184.0, 352.0]\n",
      "27392    [7.51, 8.22, 7.86, 8.36, 8.09, 7.83, 8.3, 8.01...\n",
      "Name: Problem, Length: 27393, dtype: object\n"
     ]
    }
   ],
   "source": [
    "numbers = train_problems.apply(separate_numbers)\n",
    "print(numbers)"
   ]
  },
  {
   "cell_type": "code",
   "execution_count": 11,
   "metadata": {},
   "outputs": [
    {
     "name": "stdout",
     "output_type": "stream",
     "text": [
      "the max tokens in the texts:  745\n"
     ]
    }
   ],
   "source": [
    "max_token = 0\n",
    "for t in text:\n",
    "    if len(t) > max_token:\n",
    "        max_token = len(t)\n",
    "print(\"the max tokens in the texts: \", max_token)"
   ]
  },
  {
   "cell_type": "markdown",
   "metadata": {},
   "source": [
    "### normalize the answers ###"
   ]
  },
  {
   "cell_type": "code",
   "execution_count": 12,
   "metadata": {},
   "outputs": [
    {
     "name": "stdout",
     "output_type": "stream",
     "text": [
      "0            270 \n",
      "1          240 % \n",
      "2          1 / 2 \n",
      "3            122 \n",
      "4         21.5 % \n",
      "5              3 \n",
      "6           6.25 \n",
      "7             80 \n",
      "8          81 kg \n",
      "9             60 \n",
      "10           200 \n",
      "11         s . 16\n",
      "12         $ 360 \n",
      "13        30 % . \n",
      "14           220 \n",
      "15         113 % \n",
      "16           945 \n",
      "17            33 \n",
      "18         3 / 5 \n",
      "19        $ 1.62 \n",
      "20            20 \n",
      "21         150 % \n",
      "22          1900 \n",
      "23          43 % \n",
      "24            32 \n",
      "25            54 \n",
      "26            22 \n",
      "27        4.17 % \n",
      "28           126 \n",
      "29            42 \n",
      "30           450 \n",
      "31            28 \n",
      "32        32.5 % \n",
      "33          2788 \n",
      "34     390 miles \n",
      "35            21 \n",
      "36             2 \n",
      "37             7 \n",
      "38            40 \n",
      "39         1 : 4 \n",
      "40         200 % \n",
      "41      3.5 kmph \n",
      "42    18.25 days \n",
      "43         $ 375 \n",
      "44            30 \n",
      "45         3 : 2 \n",
      "46            14 \n",
      "47    20 minutes \n",
      "48          35 % \n",
      "49             2 \n",
      "dtype: object\n",
      "0      270.0000\n",
      "1        2.4000\n",
      "2        0.5000\n",
      "3      122.0000\n",
      "4        0.2150\n",
      "5        3.0000\n",
      "6        6.2500\n",
      "7       80.0000\n",
      "8       81.0000\n",
      "9       60.0000\n",
      "10     200.0000\n",
      "11      16.0000\n",
      "12     360.0000\n",
      "13       0.3000\n",
      "14     220.0000\n",
      "15       1.1300\n",
      "16     945.0000\n",
      "17      33.0000\n",
      "18       0.6000\n",
      "19       1.6200\n",
      "20      20.0000\n",
      "21       1.5000\n",
      "22    1900.0000\n",
      "23       0.4300\n",
      "24      32.0000\n",
      "25      54.0000\n",
      "26      22.0000\n",
      "27       0.0417\n",
      "28     126.0000\n",
      "29      42.0000\n",
      "30     450.0000\n",
      "31      28.0000\n",
      "32       0.3250\n",
      "33    2788.0000\n",
      "34     390.0000\n",
      "35      21.0000\n",
      "36       2.0000\n",
      "37       7.0000\n",
      "38      40.0000\n",
      "39       0.2000\n",
      "40       2.0000\n",
      "41       3.5000\n",
      "42      18.2500\n",
      "43     375.0000\n",
      "44      30.0000\n",
      "45       0.6000\n",
      "46      14.0000\n",
      "47      20.0000\n",
      "48       0.3500\n",
      "49       2.0000\n",
      "dtype: float64\n"
     ]
    }
   ],
   "source": [
    "answers = list()\n",
    "\n",
    "for i in range(len(train_df)):\n",
    "    options = train_df.iloc[i]['options']+\" ,\"\n",
    "    tab = train_df.iloc[i]['correct']\n",
    "    index_s = options.find(tab+\" ) \")+4\n",
    "    index_len = options[index_s:].find(',')\n",
    "    ans = options[index_s:index_s+index_len]\n",
    "    answers.append(ans)\n",
    "    \n",
    "answers = pd.Series(answers)\n",
    "print(answers.head(50))\n",
    "\n",
    "answers = answers.apply(replace_power)\n",
    "answers = answers.apply(replace_fraction)\n",
    "answers = answers.apply(replace_percentage)\n",
    "answers = answers.apply(replace_ratio)\n",
    "\n",
    "def separate_ans_numbers(sen):    \n",
    "#     pattarn = re.compile(r'[0-9]+\\.?[0-9]*')\n",
    "#     numbers = pattarn.findall(sen)\n",
    "    numbers = re.search(r'[0-9]+\\.?[0-9]*', sen)\n",
    "    if numbers:\n",
    "        numbers = numbers.group()\n",
    "    #     print(sen)\n",
    "    #     print(numbers)\n",
    "        return float(numbers)\n",
    "    else:\n",
    "        return 999999999999999\n",
    "\n",
    "# print(answers.head(50))\n",
    "answers = answers.apply(separate_ans_numbers)\n",
    "\n",
    "print(answers.head(50))"
   ]
  },
  {
   "cell_type": "markdown",
   "metadata": {},
   "source": [
    "### processing text ###"
   ]
  },
  {
   "cell_type": "code",
   "execution_count": 13,
   "metadata": {},
   "outputs": [
    {
     "name": "stdout",
     "output_type": "stream",
     "text": [
      "token vocab length: 8527\n",
      "max sequence length:  137\n",
      "[[ 737    2    3 ...    0    0    0]\n",
      " [   4    8   27 ...    0    0    0]\n",
      " [  68   12  328 ...    0    0    0]\n",
      " ...\n",
      " [1145  712  594 ...    0    0    0]\n",
      " [ 645    0    0 ...    0    0    0]\n",
      " [   3  191    4 ...    0    0    0]]\n",
      "(27393, 137)\n"
     ]
    }
   ],
   "source": [
    "import tensorflow as tf\n",
    "from tensorflow.keras.preprocessing.text import Tokenizer\n",
    "from tensorflow.keras.preprocessing import sequence\n",
    "\n",
    "max_features = 5000\n",
    "embedding_dim = 128\n",
    "sequence_length = 137\n",
    "\n",
    "# build a word vocab that contains top 5000 most frequent words\n",
    "tok = Tokenizer(num_words=max_features)\n",
    "tok.fit_on_texts(text)\n",
    "\n",
    "print(\"token vocab length:\", len(tok.word_index))\n",
    "# print(tok.word_index)\n",
    "\n",
    "# get the length and max length of text sequence in each sentence\n",
    "x_train_seq = tok.texts_to_sequences(text)\n",
    "seq_length = list()\n",
    "max_seq = 0\n",
    "for i in x_train_seq:\n",
    "    seq_length.append(len(i))\n",
    "max_seq = max(seq_length)\n",
    "print(\"max sequence length: \", max_seq)\n",
    "\n",
    "x_train = sequence.pad_sequences(x_train_seq, maxlen=sequence_length, padding='post')\n",
    "\n",
    "print(x_train)\n",
    "print(x_train.shape)\n",
    "\n",
    "# print(tok.texts_to_sequences(train_df.Problem))"
   ]
  },
  {
   "cell_type": "code",
   "execution_count": 14,
   "metadata": {},
   "outputs": [
    {
     "data": {
      "image/png": "[encoded data removed]",
      "text/plain": [
       "<Figure size 432x288 with 1 Axes>"
      ]
     },
     "metadata": {
      "needs_background": "light"
     },
     "output_type": "display_data"
    }
   ],
   "source": [
    "# get the distribution of the length of sequence in each sentence text\n",
    "import matplotlib.pyplot as plt\n",
    "\n",
    "plt.title(\"The distribution of the length of each sentence text\")\n",
    "plt.hist(seq_length, bins=20)\n",
    "plt.xticks(np.arange(0, 150, 20))\n",
    "plt.show()"
   ]
  },
  {
   "cell_type": "code",
   "execution_count": 15,
   "metadata": {},
   "outputs": [
    {
     "name": "stdout",
     "output_type": "stream",
     "text": [
      "[[ 737.    2.    3. ...    0.    0.    0.]\n",
      " [   4.    8.   27. ...    0.    0.    0.]\n",
      " [  68.   12.  328. ...    0.    0.    0.]\n",
      " ...\n",
      " [1145.  712.  594. ...    0.    0.    0.]\n",
      " [ 645.    0.    0. ...    0.    0.    0.]\n",
      " [   3.  191.    4. ...    0.    0.    0.]]\n",
      "(27393, 137)\n"
     ]
    }
   ],
   "source": [
    "# pad sequence (get the first 80 text sequence)\n",
    "sequence_length = 137\n",
    "x_train= sequence.pad_sequences(x_train_seq, dtype='float32', truncating='post', padding='post')\n",
    "x_train= x_train[:, :sequence_length]\n",
    "\n",
    "print(x_train)\n",
    "print(x_train.shape)"
   ]
  },
  {
   "cell_type": "markdown",
   "metadata": {},
   "source": [
    "### processing numbers ###"
   ]
  },
  {
   "cell_type": "code",
   "execution_count": 16,
   "metadata": {},
   "outputs": [
    {
     "name": "stdout",
     "output_type": "stream",
     "text": [
      "max number sequence length:  22\n"
     ]
    }
   ],
   "source": [
    "# the counts of the numbers in each sentence, get the distribution\n",
    "\n",
    "max_number_seq = 0\n",
    "num_seq_length = list()\n",
    "for i in numbers:\n",
    "    num_seq_length.append(len(i))\n",
    "max_number_seq = max(num_seq_length)\n",
    "print(\"max number sequence length: \", max_number_seq)\n"
   ]
  },
  {
   "cell_type": "code",
   "execution_count": 17,
   "metadata": {},
   "outputs": [
    {
     "data": {
      "image/png": "[encoded data removed]",
      "text/plain": [
       "<Figure size 432x288 with 1 Axes>"
      ]
     },
     "metadata": {
      "needs_background": "light"
     },
     "output_type": "display_data"
    }
   ],
   "source": [
    "# get the distribution of the count of the nubmers\n",
    "import matplotlib.pyplot as plt\n",
    "\n",
    "plt.title(\"The distribution of the count of nubmers in each sentence\")\n",
    "plt.hist(num_seq_length, bins=max_number_seq)\n",
    "plt.xticks(np.arange(max_number_seq))\n",
    "plt.show()"
   ]
  },
  {
   "cell_type": "code",
   "execution_count": 18,
   "metadata": {},
   "outputs": [
    {
     "name": "stdout",
     "output_type": "stream",
     "text": [
      "[[6.66666e-01 9.00000e+01 0.00000e+00 0.00000e+00 0.00000e+00]\n",
      " [1.20000e+02 5.00000e+01 0.00000e+00 0.00000e+00 0.00000e+00]\n",
      " [1.00000e+01 2.00000e+01 0.00000e+00 0.00000e+00 0.00000e+00]\n",
      " ...\n",
      " [2.00000e+00 1.00000e+00 2.30000e+01 0.00000e+00 0.00000e+00]\n",
      " [8.51840e+04 3.52000e+02 0.00000e+00 0.00000e+00 0.00000e+00]\n",
      " [7.51000e+00 8.22000e+00 7.86000e+00 8.36000e+00 8.09000e+00]]\n",
      "(27393, 5)\n"
     ]
    }
   ],
   "source": [
    "# pad sequence (get the first 5 nubmers)\n",
    "max_number_seq = 5\n",
    "x_train_num = sequence.pad_sequences(numbers, dtype='float32', truncating='post', padding='post')\n",
    "x_train_num = x_train_num[:, :max_number_seq]\n",
    "\n",
    "print(x_train_num)\n",
    "print(x_train_num.shape)"
   ]
  },
  {
   "cell_type": "markdown",
   "metadata": {},
   "source": [
    "### processing answers ###"
   ]
  },
  {
   "cell_type": "code",
   "execution_count": 19,
   "metadata": {},
   "outputs": [],
   "source": [
    "\n",
    "# # build a word vocab that contains top  most frequent words\n",
    "# tok = Tokenizer()\n",
    "# tok.fit_on_texts(answers)\n",
    "\n",
    "# print(\"token vocab length:\", len(tok.word_index))\n",
    "# # print(tok.word_index)\n",
    "\n",
    "# y_train_seq = tok.texts_to_sequences(answers)\n",
    "# max_seq = 0\n",
    "# for i in y_train_seq:\n",
    "#     if len(i) > max_seq:\n",
    "#         max_seq = len(i)\n",
    "# print(\"max sequence length: \", max_seq)\n",
    "\n",
    "# y_train = sequence.pad_sequences(y_train_seq, padding='post')\n",
    "\n",
    "# print(y_train)\n",
    "# print(y_train.shape)"
   ]
  },
  {
   "cell_type": "code",
   "execution_count": 20,
   "metadata": {},
   "outputs": [
    {
     "name": "stdout",
     "output_type": "stream",
     "text": [
      "648 999999999999999.0\n",
      "705 999999999999999.0\n",
      "1580 999999999999999.0\n",
      "2534 999999999999999.0\n",
      "3027 999999999999999.0\n",
      "3643 999999999999999.0\n",
      "4232 999999999999999.0\n",
      "4523 999999999999999.0\n",
      "4688 999999999999999.0\n",
      "5406 999999999999999.0\n",
      "5453 999999999999999.0\n",
      "5475 999999999999999.0\n",
      "5479 999999999999999.0\n",
      "5979 999999999999999.0\n",
      "6101 999999999999999.0\n",
      "6179 999999999999999.0\n",
      "6795 999999999999999.0\n",
      "7098 999999999999999.0\n",
      "7997 999999999999999.0\n",
      "7998 999999999999999.0\n",
      "8708 999999999999999.0\n",
      "9258 999999999999999.0\n",
      "9560 999999999999999.0\n",
      "9697 999999999999999.0\n",
      "10297 999999999999999.0\n",
      "10510 999999999999999.0\n",
      "10680 999999999999999.0\n",
      "10764 999999999999999.0\n",
      "10782 999999999999999.0\n",
      "11058 999999999999999.0\n",
      "11231 999999999999999.0\n",
      "11335 999999999999999.0\n",
      "12311 999999999999999.0\n",
      "14551 999999999999999.0\n",
      "14580 999999999999999.0\n",
      "14669 999999999999999.0\n",
      "14949 999999999999999.0\n",
      "15192 999999999999999.0\n",
      "15300 999999999999999.0\n",
      "15596 999999999999999.0\n",
      "15875 999999999999999.0\n",
      "16216 999999999999999.0\n",
      "16220 999999999999999.0\n",
      "17158 999999999999999.0\n",
      "18092 999999999999999.0\n",
      "18240 999999999999999.0\n",
      "18978 999999999999999.0\n",
      "18993 999999999999999.0\n",
      "19360 999999999999999.0\n",
      "19658 999999999999999.0\n",
      "19702 999999999999999.0\n",
      "19995 999999999999999.0\n",
      "20047 999999999999999.0\n",
      "21451 999999999999999.0\n",
      "21954 999999999999999.0\n",
      "22086 999999999999999.0\n",
      "22484 999999999999999.0\n",
      "22590 999999999999999.0\n",
      "22835 999999999999999.0\n",
      "23403 999999999999999.0\n",
      "23472 999999999999999.0\n",
      "25350 999999999999999.0\n",
      "26137 999999999999999.0\n",
      "26170 999999999999999.0\n",
      "26485 999999999999999.0\n",
      "26581 999999999999999.0\n",
      "26957 999999999999999.0\n",
      "27042 999999999999999.0\n",
      "27090 999999999999999.0\n",
      "27197 999999999999999.0\n",
      "27392 999999999999999.0\n"
     ]
    }
   ],
   "source": [
    "y_train = answers\n",
    "\n",
    "for i in range(len(y_train)):\n",
    "    a = y_train.iloc[i]\n",
    "    if a == 999999999999999:\n",
    "        print(i, a)\n",
    "    "
   ]
  },
  {
   "cell_type": "code",
   "execution_count": 21,
   "metadata": {},
   "outputs": [
    {
     "name": "stdout",
     "output_type": "stream",
     "text": [
      "if n 8 9 8 what is the units digit of n ?\n",
      "0.0\n",
      "0.0\n"
     ]
    }
   ],
   "source": [
    "print(train_problems[319])\n",
    "print(answers[319])\n",
    "print(y_train[319])"
   ]
  },
  {
   "cell_type": "code",
   "execution_count": 22,
   "metadata": {},
   "outputs": [],
   "source": [
    "# Load Glove vectors\n",
    "\n",
    "import numpy as np\n",
    "\n",
    "def create_embedding_matrix(filepath, word_index, embedding_dim):\n",
    "    vocab_size = len(word_index) + 1  # Adding again 1 because of reserved 0 index\n",
    "    embedding_matrix = np.zeros((vocab_size, embedding_dim))\n",
    "\n",
    "    with open(filepath, errors='ignore') as f:\n",
    "        for line in f:\n",
    "            word, *vector = line.split()\n",
    "            if word in word_index:\n",
    "                idx = word_index[word] \n",
    "                embedding_matrix[idx] = np.array(\n",
    "                    vector, dtype=np.float32)[:embedding_dim]\n",
    "\n",
    "    return embedding_matrix\n",
    "\n",
    "embedding_dim = 300\n",
    "glove_vec_file = 'dataset/glove.6B.300d.txt'\n",
    "embedding_matrix = create_embedding_matrix(glove_vec_file, tok.word_index, embedding_dim)"
   ]
  },
  {
   "cell_type": "code",
   "execution_count": 23,
   "metadata": {},
   "outputs": [
    {
     "name": "stdout",
     "output_type": "stream",
     "text": [
      "8528\n",
      "7484\n",
      "0.8775797373358349\n"
     ]
    }
   ],
   "source": [
    "vocab_size = len(tok.word_index) + 1\n",
    "print(vocab_size)\n",
    "nonzero_elements = np.count_nonzero(np.count_nonzero(embedding_matrix, axis=1))\n",
    "print(nonzero_elements)\n",
    "print(nonzero_elements / vocab_size)"
   ]
  },
  {
   "cell_type": "markdown",
   "metadata": {},
   "source": [
    "### building model ###"
   ]
  },
  {
   "cell_type": "code",
   "execution_count": 24,
   "metadata": {},
   "outputs": [
    {
     "name": "stdout",
     "output_type": "stream",
     "text": [
      "Model: \"model\"\n",
      "__________________________________________________________________________________________________\n",
      "Layer (type)                    Output Shape         Param #     Connected to                     \n",
      "==================================================================================================\n",
      "input_1 (InputLayer)            [(None, 137)]        0                                            \n",
      "__________________________________________________________________________________________________\n",
      "embedding (Embedding)           (None, 137, 300)     2558400     input_1[0][0]                    \n",
      "__________________________________________________________________________________________________\n",
      "lstm (LSTM)                     (None, 32)           42624       embedding[0][0]                  \n",
      "__________________________________________________________________________________________________\n",
      "dropout (Dropout)               (None, 32)           0           lstm[0][0]                       \n",
      "__________________________________________________________________________________________________\n",
      "dense (Dense)                   (None, 16)           528         dropout[0][0]                    \n",
      "__________________________________________________________________________________________________\n",
      "input_3 (InputLayer)            [(None, 5)]          0                                            \n",
      "__________________________________________________________________________________________________\n",
      "concatenate (Concatenate)       (None, 21)           0           dense[0][0]                      \n",
      "                                                                 input_3[0][0]                    \n",
      "__________________________________________________________________________________________________\n",
      "dense_1 (Dense)                 (None, 1)            22          concatenate[0][0]                \n",
      "==================================================================================================\n",
      "Total params: 2,601,574\n",
      "Trainable params: 43,174\n",
      "Non-trainable params: 2,558,400\n",
      "__________________________________________________________________________________________________\n"
     ]
    }
   ],
   "source": [
    "LSTM_DIM = 32\n",
    "DROPOUT = 0.1\n",
    "ACTIVATION = 'relu'\n",
    "OPTIMIZER = 'adam'\n",
    "LOSS = 'mean_squared_error'\n",
    "HIDDEN_DIM = 16\n",
    "\n",
    "from keras import layers\n",
    "from keras.models import Sequential, Model\n",
    "from keras.layers import Dense, Dropout, Flatten, Embedding, LSTM, Bidirectional, Input\n",
    "from keras.layers.merge import concatenate\n",
    "\n",
    "def buildModel(vsize, input_dim, maxlen, emb_matrix, maxnumbers):\n",
    "\n",
    "    text_input = Input(shape=(maxlen, ))     \n",
    "    numerical_input = Input(shape=(maxnumbers, ))\n",
    "    \n",
    "    emb = Embedding(input_dim=vsize, \n",
    "                   output_dim=input_dim, \n",
    "                   weights=[emb_matrix],\n",
    "                   trainable=False)(text_input)\n",
    "    \n",
    "    z = LSTM(LSTM_DIM)(emb)\n",
    "    z = Dropout(DROPOUT)(z)\n",
    "    z = Dense(HIDDEN_DIM, activation=ACTIVATION)(z)\n",
    "    \n",
    "    numerical_input = Input(shape=(maxnumbers, ))\n",
    "    \n",
    "    merged = concatenate([z, numerical_input])    \n",
    "    predictions = Dense(1, activation='linear')(merged)\n",
    "    \n",
    "    model = Model([text_input, numerical_input], outputs=predictions)\n",
    "    \n",
    "    model.compile(optimizer=OPTIMIZER,\n",
    "                  loss = LOSS,\n",
    "                  metrics=[tf.keras.metrics.RootMeanSquaredError(name='rmse')])\n",
    "    \n",
    "    return model\n",
    "\n",
    "model = buildModel(vocab_size, embedding_dim, sequence_length, embedding_matrix, max_number_seq)\n",
    "model.summary()"
   ]
  },
  {
   "cell_type": "code",
   "execution_count": 25,
   "metadata": {},
   "outputs": [],
   "source": [
    "# from tensorflow.keras.models import Sequential\n",
    "# from tensorflow.keras import layers\n",
    "\n",
    "# inputs = tf.keras.Input(shape=(sequence_length,), dtype=\"int64\")\n",
    "\n",
    "# # input_dim: the size of vocabulary\n",
    "# # input_length: Length of input sequences\n",
    "# # output_dim: dimension of the dense embedding\n",
    "\n",
    "# x = layers.Embedding(\n",
    "#     input_dim=max_features, \n",
    "#     output_dim=embedding_dim,\n",
    "#     input_length=sequence_length, \n",
    "# )(inputs)\n",
    "\n",
    "# x = layers.LSTM(units=150, activation='relu',)(x)\n",
    "\n",
    "# x = layers.Dropout(0.1)(x)\n",
    "# x = layers.Dense(units=150, activation='relu')(x)\n",
    "\n",
    "# x = layers.Concatenate(axis=1)([x, x_train_num])\n",
    "# x = layers.Dense(units=171, activation='linear')(x)\n",
    "# # len(x_train) + len(x_train_num) = 150 + 21 = 171\n",
    "\n",
    "# predictions = layers.Dense(9, activation='linear')(x)\n",
    "\n",
    "# model = tf.keras.Model(inputs, predictions)\n",
    "\n",
    "# model.compile(\n",
    "#     loss='sparse_categorical_crossentropy',\n",
    "#     optimizer='adam',\n",
    "#     metrics=['accuracy']\n",
    "# )\n",
    "\n",
    "# print(model.summary())"
   ]
  },
  {
   "cell_type": "code",
   "execution_count": 26,
   "metadata": {},
   "outputs": [
    {
     "name": "stdout",
     "output_type": "stream",
     "text": [
      "(27393, 137)\n",
      "(27393, 5)\n",
      "(27393,)\n"
     ]
    }
   ],
   "source": [
    "print(x_train.shape)\n",
    "print(x_train_num.shape)\n",
    "print(y_train.shape)\n"
   ]
  },
  {
   "cell_type": "code",
   "execution_count": 27,
   "metadata": {},
   "outputs": [
    {
     "name": "stdout",
     "output_type": "stream",
     "text": [
      "494/494 [==============================] - 33s 64ms/step - loss: nan - rmse: nan - val_loss: nan - val_rmse: nan\n"
     ]
    },
    {
     "data": {
      "text/plain": [
       "<keras.callbacks.History at 0x2030b505470>"
      ]
     },
     "execution_count": 27,
     "metadata": {},
     "output_type": "execute_result"
    }
   ],
   "source": [
    "EPOCHS = 1\n",
    "\n",
    "model.fit(\n",
    "    x=[x_train, x_train_num],\n",
    "    y=y_train,\n",
    "    batch_size=50,\n",
    "    validation_split=0.1,\n",
    "    epochs=EPOCHS,\n",
    ")"
   ]
  },
  {
   "cell_type": "code",
   "execution_count": 28,
   "metadata": {},
   "outputs": [],
   "source": [
    "# model.evaluate(test_ds)"
   ]
  },
  {
   "cell_type": "code",
   "execution_count": null,
   "metadata": {},
   "outputs": [],
   "source": []
  },
  {
   "cell_type": "code",
   "execution_count": null,
   "metadata": {},
   "outputs": [],
   "source": []
  },
  {
   "cell_type": "code",
   "execution_count": null,
   "metadata": {},
   "outputs": [],
   "source": []
  }
 ],
 "metadata": {
  "kernelspec": {
   "display_name": "pytorch",
   "language": "python",
   "name": "pytorch"
  },
  "language_info": {
   "codemirror_mode": {
    "name": "ipython",
    "version": 3
   },
   "file_extension": ".py",
   "mimetype": "text/x-python",
   "name": "python",
   "nbconvert_exporter": "python",
   "pygments_lexer": "ipython3",
   "version": "3.7.0"
  }
 },
 "nbformat": 4,
 "nbformat_minor": 2
}
