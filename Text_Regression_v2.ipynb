{
 "cells": [
  {
   "cell_type": "code",
   "execution_count": 1,
   "metadata": {},
   "outputs": [],
   "source": [
    "import pandas as pd\n",
    "import numpy as np\n",
    "import json\n",
    "\n",
    "\n",
    "def get_options(df):\n",
    "    # get the content of the options from the dataset\n",
    "    opt_label = ['a', 'b', 'c', 'd', 'e']\n",
    "    opts = list()\n",
    "    for i in range(len(df)):\n",
    "        options = df.iloc[i]['options']+\" ,\"\n",
    "        answers = list()\n",
    "        for label in opt_label:\n",
    "            index_s = options.find(label+\" ) \")+3\n",
    "            index_len = options[index_s:].find(',')\n",
    "            ans = options[index_s:index_s+index_len]\n",
    "            answers.append(ans)\n",
    "        opts.append(list(answers))\n",
    "    opts = pd.DataFrame(opts, columns=['option_'+l for l in opt_label])\n",
    "    return opts\n",
    "    \n",
    "def get_data(filepath):\n",
    "    \n",
    "    with open(filepath) as f:\n",
    "        data = json.loads(f.read())\n",
    "    \n",
    "    df = pd.DataFrame(data)\n",
    "    opts = get_options(df)\n",
    "    new_data = df[['Problem', 'correct', 'category']].join(opts)\n",
    "    return new_data\n"
   ]
  },
  {
   "cell_type": "markdown",
   "metadata": {},
   "source": [
    "## 1. Get the dataset ##"
   ]
  },
  {
   "cell_type": "code",
   "execution_count": 2,
   "metadata": {},
   "outputs": [
    {
     "data": {
      "text/html": [
       "<div>\n",
       "<style scoped>\n",
       "    .dataframe tbody tr th:only-of-type {\n",
       "        vertical-align: middle;\n",
       "    }\n",
       "\n",
       "    .dataframe tbody tr th {\n",
       "        vertical-align: top;\n",
       "    }\n",
       "\n",
       "    .dataframe thead th {\n",
       "        text-align: right;\n",
       "    }\n",
       "</style>\n",
       "<table border=\"1\" class=\"dataframe\">\n",
       "  <thead>\n",
       "    <tr style=\"text-align: right;\">\n",
       "      <th></th>\n",
       "      <th>Problem</th>\n",
       "      <th>correct</th>\n",
       "      <th>category</th>\n",
       "      <th>option_a</th>\n",
       "      <th>option_b</th>\n",
       "      <th>option_c</th>\n",
       "      <th>option_d</th>\n",
       "      <th>option_e</th>\n",
       "    </tr>\n",
       "  </thead>\n",
       "  <tbody>\n",
       "    <tr>\n",
       "      <th>0</th>\n",
       "      <td>the banker ' s gain of a certain sum due 3 yea...</td>\n",
       "      <td>a</td>\n",
       "      <td>gain</td>\n",
       "      <td>rs . 400</td>\n",
       "      <td>rs . 300</td>\n",
       "      <td>rs . 500</td>\n",
       "      <td>rs . 350</td>\n",
       "      <td>none of these</td>\n",
       "    </tr>\n",
       "    <tr>\n",
       "      <th>1</th>\n",
       "      <td>average age of students of an adult school is ...</td>\n",
       "      <td>d</td>\n",
       "      <td>general</td>\n",
       "      <td>1200</td>\n",
       "      <td>120</td>\n",
       "      <td>360</td>\n",
       "      <td>240</td>\n",
       "      <td>none of these</td>\n",
       "    </tr>\n",
       "    <tr>\n",
       "      <th>2</th>\n",
       "      <td>sophia finished 2 / 3 of a book . she calculat...</td>\n",
       "      <td>b</td>\n",
       "      <td>general</td>\n",
       "      <td>229</td>\n",
       "      <td>270</td>\n",
       "      <td>877</td>\n",
       "      <td>266</td>\n",
       "      <td>281</td>\n",
       "    </tr>\n",
       "    <tr>\n",
       "      <th>3</th>\n",
       "      <td>120 is what percent of 50 ?</td>\n",
       "      <td>b</td>\n",
       "      <td>gain</td>\n",
       "      <td>5 %</td>\n",
       "      <td>240 %</td>\n",
       "      <td>50 %</td>\n",
       "      <td>2 %</td>\n",
       "      <td>500 %</td>\n",
       "    </tr>\n",
       "    <tr>\n",
       "      <th>4</th>\n",
       "      <td>there are 10 girls and 20 boys in a classroom ...</td>\n",
       "      <td>a</td>\n",
       "      <td>other</td>\n",
       "      <td>1 / 2</td>\n",
       "      <td>1 / 3</td>\n",
       "      <td>1 / 5</td>\n",
       "      <td>10 / 30</td>\n",
       "      <td>2 / 5</td>\n",
       "    </tr>\n",
       "    <tr>\n",
       "      <th>...</th>\n",
       "      <td>...</td>\n",
       "      <td>...</td>\n",
       "      <td>...</td>\n",
       "      <td>...</td>\n",
       "      <td>...</td>\n",
       "      <td>...</td>\n",
       "      <td>...</td>\n",
       "      <td>...</td>\n",
       "    </tr>\n",
       "    <tr>\n",
       "      <th>29832</th>\n",
       "      <td>a man invests some money partly in 10 % stock ...</td>\n",
       "      <td>a</td>\n",
       "      <td>other</td>\n",
       "      <td>1 : 2</td>\n",
       "      <td>3 : 5</td>\n",
       "      <td>4 : 5</td>\n",
       "      <td>16 : 15</td>\n",
       "      <td>none</td>\n",
       "    </tr>\n",
       "    <tr>\n",
       "      <th>29833</th>\n",
       "      <td>average of 10 matches is 32 , how many runs on...</td>\n",
       "      <td>d</td>\n",
       "      <td>general</td>\n",
       "      <td>a ) 70</td>\n",
       "      <td>b ) 76</td>\n",
       "      <td>c ) 78</td>\n",
       "      <td>d ) 98</td>\n",
       "      <td>e ) 88</td>\n",
       "    </tr>\n",
       "    <tr>\n",
       "      <th>29834</th>\n",
       "      <td>solve below question 2 x + 1 = - 23</td>\n",
       "      <td>c</td>\n",
       "      <td>general</td>\n",
       "      <td>- 8</td>\n",
       "      <td>- 9</td>\n",
       "      <td>- 12</td>\n",
       "      <td>- 4</td>\n",
       "      <td>12</td>\n",
       "    </tr>\n",
       "    <tr>\n",
       "      <th>29835</th>\n",
       "      <td>calculate 85184 ÷ ? = 352</td>\n",
       "      <td>b</td>\n",
       "      <td>general</td>\n",
       "      <td>241</td>\n",
       "      <td>242</td>\n",
       "      <td>244</td>\n",
       "      <td>247</td>\n",
       "      <td>240</td>\n",
       "    </tr>\n",
       "    <tr>\n",
       "      <th>29836</th>\n",
       "      <td>7.51 8.22 7.86 8.36 8.09 7.83 8.30 8.01 7.73 8...</td>\n",
       "      <td>e</td>\n",
       "      <td>general</td>\n",
       "      <td>four</td>\n",
       "      <td>six</td>\n",
       "      <td>nine</td>\n",
       "      <td>ten</td>\n",
       "      <td>twelve</td>\n",
       "    </tr>\n",
       "  </tbody>\n",
       "</table>\n",
       "<p>29837 rows × 8 columns</p>\n",
       "</div>"
      ],
      "text/plain": [
       "                                                 Problem correct category  \\\n",
       "0      the banker ' s gain of a certain sum due 3 yea...       a     gain   \n",
       "1      average age of students of an adult school is ...       d  general   \n",
       "2      sophia finished 2 / 3 of a book . she calculat...       b  general   \n",
       "3                            120 is what percent of 50 ?       b     gain   \n",
       "4      there are 10 girls and 20 boys in a classroom ...       a    other   \n",
       "...                                                  ...     ...      ...   \n",
       "29832  a man invests some money partly in 10 % stock ...       a    other   \n",
       "29833  average of 10 matches is 32 , how many runs on...       d  general   \n",
       "29834                solve below question 2 x + 1 = - 23       c  general   \n",
       "29835                          calculate 85184 ÷ ? = 352       b  general   \n",
       "29836  7.51 8.22 7.86 8.36 8.09 7.83 8.30 8.01 7.73 8...       e  general   \n",
       "\n",
       "         option_a    option_b    option_c    option_d         option_e  \n",
       "0       rs . 400    rs . 300    rs . 500    rs . 350    none of these   \n",
       "1           1200         120         360         240    none of these   \n",
       "2            229         270         877         266              281   \n",
       "3            5 %       240 %        50 %         2 %            500 %   \n",
       "4          1 / 2       1 / 3       1 / 5     10 / 30            2 / 5   \n",
       "...           ...         ...         ...         ...              ...  \n",
       "29832      1 : 2       3 : 5       4 : 5     16 : 15             none   \n",
       "29833     a ) 70      b ) 76      c ) 78      d ) 98           e ) 88   \n",
       "29834        - 8         - 9        - 12         - 4               12   \n",
       "29835        241         242         244         247              240   \n",
       "29836       four         six        nine         ten           twelve   \n",
       "\n",
       "[29837 rows x 8 columns]"
      ]
     },
     "execution_count": 2,
     "metadata": {},
     "output_type": "execute_result"
    }
   ],
   "source": [
    "filepath = 'dataset/MathQA/train.json'\n",
    "train_df = get_data(filepath)\n",
    "train_df"
   ]
  },
  {
   "cell_type": "markdown",
   "metadata": {},
   "source": [
    "## 2. Normalization"
   ]
  },
  {
   "cell_type": "markdown",
   "metadata": {},
   "source": [
    "#### 1) normalizing functions: 30^10 2/3 10% 5:8"
   ]
  },
  {
   "cell_type": "code",
   "execution_count": 3,
   "metadata": {},
   "outputs": [],
   "source": [
    "import re\n",
    "\n",
    "# def remove_quotes(sen):\n",
    "#     return sen[2:-2]\n",
    "\n",
    "def add_space(sen):\n",
    "    return \" \"+sen+\" \"\n",
    "\n",
    "def replace_fraction(sen):\n",
    "    # replace all string like \"2 / 3 \"\n",
    "    pattern = re.compile(r'[0-9]+\\s\\/\\s[0-9]+\\s')    \n",
    "    results = pattern.findall(sen)\n",
    "    \n",
    "    if results != None:\n",
    "        new_results = []\n",
    "        for i in results:\n",
    "            nums = i.split(' / ')\n",
    "            if int(nums[1]) != 0:\n",
    "                new_results.append(str(int(nums[0])/int(nums[1]))[:8]+' ')\n",
    "            else:\n",
    "                new_results.append(str(np.NaN))\n",
    "        for i in range(len(results)):\n",
    "            sen = sen.replace(results[i], new_results[i])\n",
    "    return sen\n",
    "\n",
    "def replace_percentage(sen):\n",
    "    # replace all string like \"20 %\"\n",
    "    pattern = re.compile(r'[0-9]+\\.?[0-9]*\\s%')   \n",
    "    results = pattern.findall(sen)\n",
    "    \n",
    "    if results != None:\n",
    "        new_results = []\n",
    "        for i in results:\n",
    "            nums = i.split(' ')\n",
    "            new_results.append(str(round(float(nums[0])/100, 4)))\n",
    "        for i in range(len(results)):\n",
    "            sen = sen.replace(results[i], new_results[i])\n",
    "    return sen\n",
    "\n",
    "def replace_ratio(sen):\n",
    "    # replace all string like \" 2 : 3\" \"0.5 : 0.33 : 0.25\"\n",
    "    pattern = re.compile(r'[0-9]+\\.?[0-9]*\\s\\:\\s[0-9]+\\.?[0-9]*')\n",
    "    results = pattern.findall(sen)\n",
    "    \n",
    "    if results != None:\n",
    "        new_results = []\n",
    "        for i in results:\n",
    "            nums = i.split(' : ')\n",
    "            new_results.append(str(round(float(nums[0])/(float(nums[0])+float(nums[1])), 4)))\n",
    "        for i in range(len(results)):\n",
    "            sen = sen.replace(results[i], new_results[i])\n",
    "    return sen\n",
    "\n",
    "def replace_power(sen):\n",
    "    # replace all string like \"  30 ^ 10 \"\n",
    "    pass\n",
    "    return sen\n",
    "\n",
    "def replace_numword(sen):\n",
    "    sen = sen.replace(' one ', ' 1 ')\n",
    "    sen = sen.replace(' two ', ' 2 ')\n",
    "    sen = sen.replace(' three ', ' 3 ')\n",
    "    sen = sen.replace(' four ', ' 4 ')\n",
    "    sen = sen.replace(' five ', ' 5 ')\n",
    "    sen = sen.replace(' six ', ' 6 ')\n",
    "    sen = sen.replace(' seven ', ' 7 ')\n",
    "    sen = sen.replace(' eight ', ' 8 ')\n",
    "    sen = sen.replace(' nine ', ' 9 ')\n",
    "    sen = sen.replace(' ten ', ' 10 ')\n",
    "    sen = sen.replace(' eleven ', ' 11 ')\n",
    "    sen = sen.replace(' twelve ', ' 12 ')\n",
    "    sen = sen.replace(' thirteen ', ' 13 ')\n",
    "    sen = sen.replace(' fourteen ', ' 14 ')\n",
    "    return sen\n",
    "\n",
    "def replace_minus(sen):\n",
    "    # replace all string like \"- 20.5\"\n",
    "    pattern = re.compile(r'\\-\\s[0-9]+\\.?[0-9]*')   \n",
    "    results = pattern.findall(sen)\n",
    "    \n",
    "    if results != None:\n",
    "        for i in results:\n",
    "            sen = sen.replace(i, i.replace(\" \", \"\", 1))\n",
    "    return sen\n",
    "    \n",
    "def replace_punc(sen):\n",
    "    # replace punctuation like \"'\" \".\" \"|\"\n",
    "    sen = re.sub(r'\\s[^\\w\\s]\\s', ' ', sen)\n",
    "    return sen\n"
   ]
  },
  {
   "cell_type": "markdown",
   "metadata": {},
   "source": [
    "#### 2) normalise options"
   ]
  },
  {
   "cell_type": "code",
   "execution_count": 4,
   "metadata": {},
   "outputs": [],
   "source": [
    "def answers_processing(answers):    \n",
    "    # normalizing the correct answers\n",
    "    # get the correct answers array that may contain NaN\n",
    "    \n",
    "    answers = answers.apply(replace_power)\n",
    "    answers = answers.apply(replace_fraction)\n",
    "    answers = answers.apply(replace_percentage)\n",
    "    answers = answers.apply(replace_ratio)\n",
    "    answers = answers.apply(replace_numword)\n",
    "    answers = answers.apply(replace_minus)\n",
    "\n",
    "    def separate_ans_numbers(sen):\n",
    "        numbers = re.search(r'\\-?[0-9]+\\.?[0-9]*', sen)\n",
    "        if numbers:\n",
    "            numbers = numbers.group()\n",
    "            return round(float(numbers), 4)\n",
    "        else:\n",
    "            return \n",
    "    answers = answers.apply(separate_ans_numbers)\n",
    "    return answers"
   ]
  },
  {
   "cell_type": "code",
   "execution_count": 5,
   "metadata": {},
   "outputs": [
    {
     "data": {
      "text/html": [
       "<div>\n",
       "<style scoped>\n",
       "    .dataframe tbody tr th:only-of-type {\n",
       "        vertical-align: middle;\n",
       "    }\n",
       "\n",
       "    .dataframe tbody tr th {\n",
       "        vertical-align: top;\n",
       "    }\n",
       "\n",
       "    .dataframe thead th {\n",
       "        text-align: right;\n",
       "    }\n",
       "</style>\n",
       "<table border=\"1\" class=\"dataframe\">\n",
       "  <thead>\n",
       "    <tr style=\"text-align: right;\">\n",
       "      <th></th>\n",
       "      <th>Problem</th>\n",
       "      <th>correct</th>\n",
       "      <th>category</th>\n",
       "      <th>option_a</th>\n",
       "      <th>option_b</th>\n",
       "      <th>option_c</th>\n",
       "      <th>option_d</th>\n",
       "      <th>option_e</th>\n",
       "    </tr>\n",
       "  </thead>\n",
       "  <tbody>\n",
       "    <tr>\n",
       "      <th>4005</th>\n",
       "      <td>three 6 faced dice are thrown together . the p...</td>\n",
       "      <td>b</td>\n",
       "      <td>probability</td>\n",
       "      <td>5 / 0</td>\n",
       "      <td>5 / 9</td>\n",
       "      <td>5 / 1</td>\n",
       "      <td>5 / 3</td>\n",
       "      <td>5 / 6</td>\n",
       "    </tr>\n",
       "  </tbody>\n",
       "</table>\n",
       "</div>"
      ],
      "text/plain": [
       "                                                Problem correct     category  \\\n",
       "4005  three 6 faced dice are thrown together . the p...       b  probability   \n",
       "\n",
       "     option_a option_b option_c option_d option_e  \n",
       "4005   5 / 0    5 / 9    5 / 1    5 / 3    5 / 6   "
      ]
     },
     "execution_count": 5,
     "metadata": {},
     "output_type": "execute_result"
    }
   ],
   "source": [
    "train_df[train_df.option_a.str.contains(' 5 / 0')]"
   ]
  },
  {
   "cell_type": "code",
   "execution_count": 6,
   "metadata": {},
   "outputs": [],
   "source": [
    "# replace correct label\n",
    "def num_label(s):\n",
    "    if s == 'a':\n",
    "        return 0\n",
    "    elif s == 'b':\n",
    "        return 1\n",
    "    elif s == 'c':\n",
    "        return 2\n",
    "    elif s == 'd':\n",
    "        return 3\n",
    "    else:\n",
    "        return 4\n",
    "    \n",
    "def sum_norm(train_df):\n",
    "    norm_train_df = train_df.copy()\n",
    "    # standardise all the options\n",
    "    for i in range(5):\n",
    "        norm_train_df.iloc[:, 3+i] = answers_processing(norm_train_df.iloc[:, 3+i])\n",
    "    \n",
    "    # normalise all the options\n",
    "    option_df = pd.DataFrame(norm_train_df.iloc[:, 3:8])\n",
    "    opt_sum = option_df.sum(axis=1)\n",
    "    norm_train_df.iloc[:, 3:8] = option_df.div(opt_sum, axis=0)\n",
    "        \n",
    "    norm_train_df['correct'] = norm_train_df['correct'].apply(num_label)\n",
    "\n",
    "    return norm_train_df\n",
    "        "
   ]
  },
  {
   "cell_type": "code",
   "execution_count": 7,
   "metadata": {},
   "outputs": [
    {
     "data": {
      "text/html": [
       "<div>\n",
       "<style scoped>\n",
       "    .dataframe tbody tr th:only-of-type {\n",
       "        vertical-align: middle;\n",
       "    }\n",
       "\n",
       "    .dataframe tbody tr th {\n",
       "        vertical-align: top;\n",
       "    }\n",
       "\n",
       "    .dataframe thead th {\n",
       "        text-align: right;\n",
       "    }\n",
       "</style>\n",
       "<table border=\"1\" class=\"dataframe\">\n",
       "  <thead>\n",
       "    <tr style=\"text-align: right;\">\n",
       "      <th></th>\n",
       "      <th>Problem</th>\n",
       "      <th>correct</th>\n",
       "      <th>category</th>\n",
       "      <th>option_a</th>\n",
       "      <th>option_b</th>\n",
       "      <th>option_c</th>\n",
       "      <th>option_d</th>\n",
       "      <th>option_e</th>\n",
       "    </tr>\n",
       "  </thead>\n",
       "  <tbody>\n",
       "    <tr>\n",
       "      <th>0</th>\n",
       "      <td>the banker ' s gain of a certain sum due 3 yea...</td>\n",
       "      <td>0</td>\n",
       "      <td>gain</td>\n",
       "      <td>0.258065</td>\n",
       "      <td>0.193548</td>\n",
       "      <td>0.322581</td>\n",
       "      <td>0.225806</td>\n",
       "      <td>NaN</td>\n",
       "    </tr>\n",
       "    <tr>\n",
       "      <th>1</th>\n",
       "      <td>average age of students of an adult school is ...</td>\n",
       "      <td>3</td>\n",
       "      <td>general</td>\n",
       "      <td>0.625000</td>\n",
       "      <td>0.062500</td>\n",
       "      <td>0.187500</td>\n",
       "      <td>0.125000</td>\n",
       "      <td>NaN</td>\n",
       "    </tr>\n",
       "    <tr>\n",
       "      <th>2</th>\n",
       "      <td>sophia finished 2 / 3 of a book . she calculat...</td>\n",
       "      <td>1</td>\n",
       "      <td>general</td>\n",
       "      <td>0.119085</td>\n",
       "      <td>0.140406</td>\n",
       "      <td>0.456058</td>\n",
       "      <td>0.138326</td>\n",
       "      <td>0.146126</td>\n",
       "    </tr>\n",
       "    <tr>\n",
       "      <th>3</th>\n",
       "      <td>120 is what percent of 50 ?</td>\n",
       "      <td>1</td>\n",
       "      <td>gain</td>\n",
       "      <td>0.006274</td>\n",
       "      <td>0.301129</td>\n",
       "      <td>0.062735</td>\n",
       "      <td>0.002509</td>\n",
       "      <td>0.627353</td>\n",
       "    </tr>\n",
       "    <tr>\n",
       "      <th>4</th>\n",
       "      <td>there are 10 girls and 20 boys in a classroom ...</td>\n",
       "      <td>0</td>\n",
       "      <td>other</td>\n",
       "      <td>0.283030</td>\n",
       "      <td>0.188667</td>\n",
       "      <td>0.113212</td>\n",
       "      <td>0.188667</td>\n",
       "      <td>0.226424</td>\n",
       "    </tr>\n",
       "    <tr>\n",
       "      <th>...</th>\n",
       "      <td>...</td>\n",
       "      <td>...</td>\n",
       "      <td>...</td>\n",
       "      <td>...</td>\n",
       "      <td>...</td>\n",
       "      <td>...</td>\n",
       "      <td>...</td>\n",
       "      <td>...</td>\n",
       "    </tr>\n",
       "    <tr>\n",
       "      <th>29832</th>\n",
       "      <td>a man invests some money partly in 10 % stock ...</td>\n",
       "      <td>0</td>\n",
       "      <td>other</td>\n",
       "      <td>0.199724</td>\n",
       "      <td>0.224712</td>\n",
       "      <td>0.266299</td>\n",
       "      <td>0.309264</td>\n",
       "      <td>NaN</td>\n",
       "    </tr>\n",
       "    <tr>\n",
       "      <th>29833</th>\n",
       "      <td>average of 10 matches is 32 , how many runs on...</td>\n",
       "      <td>3</td>\n",
       "      <td>general</td>\n",
       "      <td>0.170732</td>\n",
       "      <td>0.185366</td>\n",
       "      <td>0.190244</td>\n",
       "      <td>0.239024</td>\n",
       "      <td>0.214634</td>\n",
       "    </tr>\n",
       "    <tr>\n",
       "      <th>29834</th>\n",
       "      <td>solve below question 2 x + 1 = - 23</td>\n",
       "      <td>2</td>\n",
       "      <td>general</td>\n",
       "      <td>0.380952</td>\n",
       "      <td>0.428571</td>\n",
       "      <td>0.571429</td>\n",
       "      <td>0.190476</td>\n",
       "      <td>-0.571429</td>\n",
       "    </tr>\n",
       "    <tr>\n",
       "      <th>29835</th>\n",
       "      <td>calculate 85184 ÷ ? = 352</td>\n",
       "      <td>1</td>\n",
       "      <td>general</td>\n",
       "      <td>0.198517</td>\n",
       "      <td>0.199341</td>\n",
       "      <td>0.200988</td>\n",
       "      <td>0.203460</td>\n",
       "      <td>0.197694</td>\n",
       "    </tr>\n",
       "    <tr>\n",
       "      <th>29836</th>\n",
       "      <td>7.51 8.22 7.86 8.36 8.09 7.83 8.30 8.01 7.73 8...</td>\n",
       "      <td>4</td>\n",
       "      <td>general</td>\n",
       "      <td>0.097561</td>\n",
       "      <td>0.146341</td>\n",
       "      <td>0.219512</td>\n",
       "      <td>0.243902</td>\n",
       "      <td>0.292683</td>\n",
       "    </tr>\n",
       "  </tbody>\n",
       "</table>\n",
       "<p>29837 rows × 8 columns</p>\n",
       "</div>"
      ],
      "text/plain": [
       "                                                 Problem  correct category  \\\n",
       "0      the banker ' s gain of a certain sum due 3 yea...        0     gain   \n",
       "1      average age of students of an adult school is ...        3  general   \n",
       "2      sophia finished 2 / 3 of a book . she calculat...        1  general   \n",
       "3                            120 is what percent of 50 ?        1     gain   \n",
       "4      there are 10 girls and 20 boys in a classroom ...        0    other   \n",
       "...                                                  ...      ...      ...   \n",
       "29832  a man invests some money partly in 10 % stock ...        0    other   \n",
       "29833  average of 10 matches is 32 , how many runs on...        3  general   \n",
       "29834                solve below question 2 x + 1 = - 23        2  general   \n",
       "29835                          calculate 85184 ÷ ? = 352        1  general   \n",
       "29836  7.51 8.22 7.86 8.36 8.09 7.83 8.30 8.01 7.73 8...        4  general   \n",
       "\n",
       "       option_a  option_b  option_c  option_d  option_e  \n",
       "0      0.258065  0.193548  0.322581  0.225806       NaN  \n",
       "1      0.625000  0.062500  0.187500  0.125000       NaN  \n",
       "2      0.119085  0.140406  0.456058  0.138326  0.146126  \n",
       "3      0.006274  0.301129  0.062735  0.002509  0.627353  \n",
       "4      0.283030  0.188667  0.113212  0.188667  0.226424  \n",
       "...         ...       ...       ...       ...       ...  \n",
       "29832  0.199724  0.224712  0.266299  0.309264       NaN  \n",
       "29833  0.170732  0.185366  0.190244  0.239024  0.214634  \n",
       "29834  0.380952  0.428571  0.571429  0.190476 -0.571429  \n",
       "29835  0.198517  0.199341  0.200988  0.203460  0.197694  \n",
       "29836  0.097561  0.146341  0.219512  0.243902  0.292683  \n",
       "\n",
       "[29837 rows x 8 columns]"
      ]
     },
     "execution_count": 7,
     "metadata": {},
     "output_type": "execute_result"
    }
   ],
   "source": [
    "norm_train_df = sum_norm(train_df)\n",
    "norm_train_df"
   ]
  },
  {
   "cell_type": "markdown",
   "metadata": {},
   "source": [
    "## 3. Get the content of correct answers from the options "
   ]
  },
  {
   "cell_type": "code",
   "execution_count": 8,
   "metadata": {},
   "outputs": [
    {
     "name": "stdout",
     "output_type": "stream",
     "text": [
      "(29669, 8)\n",
      "(29669,)\n"
     ]
    },
    {
     "data": {
      "text/html": [
       "<div>\n",
       "<style scoped>\n",
       "    .dataframe tbody tr th:only-of-type {\n",
       "        vertical-align: middle;\n",
       "    }\n",
       "\n",
       "    .dataframe tbody tr th {\n",
       "        vertical-align: top;\n",
       "    }\n",
       "\n",
       "    .dataframe thead th {\n",
       "        text-align: right;\n",
       "    }\n",
       "</style>\n",
       "<table border=\"1\" class=\"dataframe\">\n",
       "  <thead>\n",
       "    <tr style=\"text-align: right;\">\n",
       "      <th></th>\n",
       "      <th>Problem</th>\n",
       "      <th>correct</th>\n",
       "      <th>category</th>\n",
       "      <th>option_a</th>\n",
       "      <th>option_b</th>\n",
       "      <th>option_c</th>\n",
       "      <th>option_d</th>\n",
       "      <th>option_e</th>\n",
       "    </tr>\n",
       "  </thead>\n",
       "  <tbody>\n",
       "    <tr>\n",
       "      <th>0</th>\n",
       "      <td>the banker ' s gain of a certain sum due 3 yea...</td>\n",
       "      <td>0</td>\n",
       "      <td>gain</td>\n",
       "      <td>0.258065</td>\n",
       "      <td>0.193548</td>\n",
       "      <td>0.322581</td>\n",
       "      <td>0.225806</td>\n",
       "      <td>NaN</td>\n",
       "    </tr>\n",
       "    <tr>\n",
       "      <th>1</th>\n",
       "      <td>average age of students of an adult school is ...</td>\n",
       "      <td>3</td>\n",
       "      <td>general</td>\n",
       "      <td>0.625000</td>\n",
       "      <td>0.062500</td>\n",
       "      <td>0.187500</td>\n",
       "      <td>0.125000</td>\n",
       "      <td>NaN</td>\n",
       "    </tr>\n",
       "    <tr>\n",
       "      <th>2</th>\n",
       "      <td>sophia finished 2 / 3 of a book . she calculat...</td>\n",
       "      <td>1</td>\n",
       "      <td>general</td>\n",
       "      <td>0.119085</td>\n",
       "      <td>0.140406</td>\n",
       "      <td>0.456058</td>\n",
       "      <td>0.138326</td>\n",
       "      <td>0.146126</td>\n",
       "    </tr>\n",
       "    <tr>\n",
       "      <th>3</th>\n",
       "      <td>120 is what percent of 50 ?</td>\n",
       "      <td>1</td>\n",
       "      <td>gain</td>\n",
       "      <td>0.006274</td>\n",
       "      <td>0.301129</td>\n",
       "      <td>0.062735</td>\n",
       "      <td>0.002509</td>\n",
       "      <td>0.627353</td>\n",
       "    </tr>\n",
       "    <tr>\n",
       "      <th>4</th>\n",
       "      <td>there are 10 girls and 20 boys in a classroom ...</td>\n",
       "      <td>0</td>\n",
       "      <td>other</td>\n",
       "      <td>0.283030</td>\n",
       "      <td>0.188667</td>\n",
       "      <td>0.113212</td>\n",
       "      <td>0.188667</td>\n",
       "      <td>0.226424</td>\n",
       "    </tr>\n",
       "    <tr>\n",
       "      <th>...</th>\n",
       "      <td>...</td>\n",
       "      <td>...</td>\n",
       "      <td>...</td>\n",
       "      <td>...</td>\n",
       "      <td>...</td>\n",
       "      <td>...</td>\n",
       "      <td>...</td>\n",
       "      <td>...</td>\n",
       "    </tr>\n",
       "    <tr>\n",
       "      <th>29664</th>\n",
       "      <td>a man invests some money partly in 10 % stock ...</td>\n",
       "      <td>0</td>\n",
       "      <td>other</td>\n",
       "      <td>0.199724</td>\n",
       "      <td>0.224712</td>\n",
       "      <td>0.266299</td>\n",
       "      <td>0.309264</td>\n",
       "      <td>NaN</td>\n",
       "    </tr>\n",
       "    <tr>\n",
       "      <th>29665</th>\n",
       "      <td>average of 10 matches is 32 , how many runs on...</td>\n",
       "      <td>3</td>\n",
       "      <td>general</td>\n",
       "      <td>0.170732</td>\n",
       "      <td>0.185366</td>\n",
       "      <td>0.190244</td>\n",
       "      <td>0.239024</td>\n",
       "      <td>0.214634</td>\n",
       "    </tr>\n",
       "    <tr>\n",
       "      <th>29666</th>\n",
       "      <td>solve below question 2 x + 1 = - 23</td>\n",
       "      <td>2</td>\n",
       "      <td>general</td>\n",
       "      <td>0.380952</td>\n",
       "      <td>0.428571</td>\n",
       "      <td>0.571429</td>\n",
       "      <td>0.190476</td>\n",
       "      <td>-0.571429</td>\n",
       "    </tr>\n",
       "    <tr>\n",
       "      <th>29667</th>\n",
       "      <td>calculate 85184 ÷ ? = 352</td>\n",
       "      <td>1</td>\n",
       "      <td>general</td>\n",
       "      <td>0.198517</td>\n",
       "      <td>0.199341</td>\n",
       "      <td>0.200988</td>\n",
       "      <td>0.203460</td>\n",
       "      <td>0.197694</td>\n",
       "    </tr>\n",
       "    <tr>\n",
       "      <th>29668</th>\n",
       "      <td>7.51 8.22 7.86 8.36 8.09 7.83 8.30 8.01 7.73 8...</td>\n",
       "      <td>4</td>\n",
       "      <td>general</td>\n",
       "      <td>0.097561</td>\n",
       "      <td>0.146341</td>\n",
       "      <td>0.219512</td>\n",
       "      <td>0.243902</td>\n",
       "      <td>0.292683</td>\n",
       "    </tr>\n",
       "  </tbody>\n",
       "</table>\n",
       "<p>29669 rows × 8 columns</p>\n",
       "</div>"
      ],
      "text/plain": [
       "                                                 Problem  correct category  \\\n",
       "0      the banker ' s gain of a certain sum due 3 yea...        0     gain   \n",
       "1      average age of students of an adult school is ...        3  general   \n",
       "2      sophia finished 2 / 3 of a book . she calculat...        1  general   \n",
       "3                            120 is what percent of 50 ?        1     gain   \n",
       "4      there are 10 girls and 20 boys in a classroom ...        0    other   \n",
       "...                                                  ...      ...      ...   \n",
       "29664  a man invests some money partly in 10 % stock ...        0    other   \n",
       "29665  average of 10 matches is 32 , how many runs on...        3  general   \n",
       "29666                solve below question 2 x + 1 = - 23        2  general   \n",
       "29667                          calculate 85184 ÷ ? = 352        1  general   \n",
       "29668  7.51 8.22 7.86 8.36 8.09 7.83 8.30 8.01 7.73 8...        4  general   \n",
       "\n",
       "       option_a  option_b  option_c  option_d  option_e  \n",
       "0      0.258065  0.193548  0.322581  0.225806       NaN  \n",
       "1      0.625000  0.062500  0.187500  0.125000       NaN  \n",
       "2      0.119085  0.140406  0.456058  0.138326  0.146126  \n",
       "3      0.006274  0.301129  0.062735  0.002509  0.627353  \n",
       "4      0.283030  0.188667  0.113212  0.188667  0.226424  \n",
       "...         ...       ...       ...       ...       ...  \n",
       "29664  0.199724  0.224712  0.266299  0.309264       NaN  \n",
       "29665  0.170732  0.185366  0.190244  0.239024  0.214634  \n",
       "29666  0.380952  0.428571  0.571429  0.190476 -0.571429  \n",
       "29667  0.198517  0.199341  0.200988  0.203460  0.197694  \n",
       "29668  0.097561  0.146341  0.219512  0.243902  0.292683  \n",
       "\n",
       "[29669 rows x 8 columns]"
      ]
     },
     "execution_count": 8,
     "metadata": {},
     "output_type": "execute_result"
    }
   ],
   "source": [
    "# get the subset that the correct answer is not NaN\n",
    "ans = np.empty((norm_train_df.shape[0], 1))\n",
    "for i in range(len(norm_train_df)):\n",
    "    ans[i] = norm_train_df.iloc[i, 3+norm_train_df.iloc[i, 1]]\n",
    "\n",
    "sub_train_df = norm_train_df[~np.isnan(ans)].reset_index(drop=True)\n",
    "print(sub_train_df.shape)\n",
    "\n",
    "ans_train = ans[~np.isnan(ans)]\n",
    "print(ans_train.shape)\n",
    "\n",
    "sub_train_df"
   ]
  },
  {
   "cell_type": "code",
   "execution_count": 9,
   "metadata": {},
   "outputs": [
    {
     "name": "stdout",
     "output_type": "stream",
     "text": [
      "(29669,)\n"
     ]
    },
    {
     "data": {
      "text/plain": [
       "array([0.25806452, 0.125     , 0.14040562, ..., 0.57142857, 0.19934102,\n",
       "       0.29268293])"
      ]
     },
     "execution_count": 9,
     "metadata": {},
     "output_type": "execute_result"
    }
   ],
   "source": [
    "print(ans_train.shape)\n",
    "ans_train"
   ]
  },
  {
   "cell_type": "markdown",
   "metadata": {},
   "source": [
    "## 4. Processing the problems and separate the text and numbers"
   ]
  },
  {
   "cell_type": "markdown",
   "metadata": {},
   "source": [
    "#### 1) normalize the numbers and remove the punctuations"
   ]
  },
  {
   "cell_type": "code",
   "execution_count": 10,
   "metadata": {},
   "outputs": [],
   "source": [
    "def problem_processing(problem):\n",
    "    # processing the problems and normalize the numbers in the problem\n",
    "    problem = problem.apply(add_space)\n",
    "    problem = problem.apply(replace_power)\n",
    "    problem = problem.apply(replace_fraction)\n",
    "    problem = problem.apply(replace_percentage)\n",
    "    problem = problem.apply(replace_ratio)\n",
    "    problem = problem.apply(replace_numword)\n",
    "    problem = problem.apply(replace_minus)\n",
    "    problem = problem.apply(replace_punc)\n",
    "    return problem\n",
    "\n",
    "train_problems = problem_processing(sub_train_df['Problem'])"
   ]
  },
  {
   "cell_type": "code",
   "execution_count": 11,
   "metadata": {},
   "outputs": [
    {
     "name": "stdout",
     "output_type": "stream",
     "text": [
      " if the simple interest on a sum of money for 2 years at 0.05 per annum is rs 58 what is the compound interest on the same sum at the rate and for the same time \n"
     ]
    }
   ],
   "source": [
    "print(train_problems[28691])"
   ]
  },
  {
   "cell_type": "markdown",
   "metadata": {},
   "source": [
    "#### 2) separate text and numbers in problems"
   ]
  },
  {
   "cell_type": "code",
   "execution_count": 12,
   "metadata": {},
   "outputs": [
    {
     "name": "stdout",
     "output_type": "stream",
     "text": [
      "0         the banker s gain of a certain sum due years ...\n",
      "1         average age of students of an adult school is...\n",
      "2         sophia finished of a book she calculated that...\n",
      "3                                      is what percent of \n",
      "4         there are girls and boys in a classroom what ...\n",
      "                               ...                        \n",
      "29664     a man invests some money partly in stock at a...\n",
      "29665     average of matches is how many runs should sh...\n",
      "29666                              solve below question x \n",
      "29667                                         calculate ? \n",
      "29668     a vending machine is designed to dispense oun...\n",
      "Name: Problem, Length: 29669, dtype: object\n",
      "0                                         [3.0, 0.1, 36.0]\n",
      "1                                 [40.0, 120.0, 32.0, 4.0]\n",
      "2                                           [0.6667, 90.0]\n",
      "3                                            [120.0, 50.0]\n",
      "4                                             [10.0, 20.0]\n",
      "                               ...                        \n",
      "29664                              [0.1, 90.0, 0.05, 90.0]\n",
      "29665                               [10.0, 32.0, 1.0, 6.0]\n",
      "29666                                           [2.0, 1.0]\n",
      "29667                                     [85184.0, 352.0]\n",
      "29668    [7.51, 7.86, 8.09, 8.3, 7.73, 7.96, 8.0, 1000....\n",
      "Name: Problem, Length: 29669, dtype: object\n"
     ]
    }
   ],
   "source": [
    "def separate_numbers(sen):    \n",
    "    pattarn = re.compile(r'\\s\\-?[0-9]+\\.?[0-9]*\\s')\n",
    "    numbers = pattarn.findall(sen)\n",
    "    numbers = np.array([round(float(i), 4) for i in numbers])\n",
    "    return numbers\n",
    "    \n",
    "def separate_text(sen):\n",
    "    pattarn = re.compile(r'\\-?[0-9]+\\.?[0-9]*')\n",
    "    numbers = pattarn.findall(sen)\n",
    "    for i in numbers:\n",
    "        sen = sen.replace(\" \"+i+\" \", \" \")\n",
    "    return sen    \n",
    "\n",
    "text = train_problems.apply(separate_text)\n",
    "print(text)\n",
    "\n",
    "numbers = train_problems.apply(separate_numbers)\n",
    "print(numbers)"
   ]
  },
  {
   "cell_type": "markdown",
   "metadata": {},
   "source": [
    "## 4. Processing"
   ]
  },
  {
   "cell_type": "markdown",
   "metadata": {},
   "source": [
    "### processing text ###"
   ]
  },
  {
   "cell_type": "code",
   "execution_count": 13,
   "metadata": {},
   "outputs": [
    {
     "name": "stdout",
     "output_type": "stream",
     "text": [
      "the max tokens in the texts:  745\n"
     ]
    }
   ],
   "source": [
    "max_token = 0\n",
    "for t in text:\n",
    "    if len(t) > max_token:\n",
    "        max_token = len(t)\n",
    "print(\"the max tokens in the texts: \", max_token)"
   ]
  },
  {
   "cell_type": "code",
   "execution_count": 14,
   "metadata": {},
   "outputs": [
    {
     "name": "stdout",
     "output_type": "stream",
     "text": [
      "token vocab length: 8096\n",
      "max sequence length:  136\n"
     ]
    }
   ],
   "source": [
    "import tensorflow as tf\n",
    "from tensorflow.keras.preprocessing.text import Tokenizer\n",
    "from tensorflow.keras.preprocessing import sequence\n",
    "\n",
    "max_features = 5000\n",
    "\n",
    "# build a word vocab that contains top 5000 most frequent words\n",
    "tok = Tokenizer(num_words=max_features)\n",
    "tok.fit_on_texts(text)\n",
    "\n",
    "print(\"token vocab length:\", len(tok.word_index))\n",
    "# print(tok.word_index)\n",
    "\n",
    "x_train_seq = tok.texts_to_sequences(text)\n",
    "\n",
    "# get the length and max length of text sequence in each sentence\n",
    "seq_length = list()\n",
    "max_seq = 0\n",
    "for i in x_train_seq:\n",
    "    seq_length.append(len(i))\n",
    "max_seq = max(seq_length)\n",
    "print(\"max sequence length: \", max_seq)\n"
   ]
  },
  {
   "cell_type": "code",
   "execution_count": 15,
   "metadata": {},
   "outputs": [
    {
     "data": {
      "image/png": "[encoded data removed]",
      "text/plain": [
       "<Figure size 432x288 with 1 Axes>"
      ]
     },
     "metadata": {
      "needs_background": "light"
     },
     "output_type": "display_data"
    }
   ],
   "source": [
    "# get the distribution of the length of sequence in each sentence text\n",
    "import matplotlib.pyplot as plt\n",
    "\n",
    "plt.title(\"The distribution of the length of sequences in each sentence text\")\n",
    "plt.hist(seq_length, bins=20)\n",
    "plt.xticks(np.arange(0, 150, 20))\n",
    "plt.show()"
   ]
  },
  {
   "cell_type": "code",
   "execution_count": 16,
   "metadata": {},
   "outputs": [
    {
     "name": "stdout",
     "output_type": "stream",
     "text": [
      "[[   1 1351   40 ...    0    0    0]\n",
      " [  27  102    2 ...    0    0    0]\n",
      " [ 741    2    3 ...    0    0    0]\n",
      " ...\n",
      " [1108  704  621 ...    0    0    0]\n",
      " [ 601    0    0 ...    0    0    0]\n",
      " [   3  201    4 ...    2    1 1360]]\n",
      "(29669, 60)\n",
      "int32\n"
     ]
    }
   ],
   "source": [
    "# pad sequence (get the first 60/80 text sequence)\n",
    "sequence_length = 60\n",
    "\n",
    "# normalize the sequences\n",
    "# x_train_norm = sum_norm(x_train_seq)\n",
    "\n",
    "x_train= sequence.pad_sequences(x_train_seq, maxlen=sequence_length, truncating='post', padding='post')\n",
    "x_train= x_train[:, :sequence_length]\n",
    "\n",
    "print(x_train)\n",
    "print(x_train.shape)\n",
    "print(x_train.dtype)"
   ]
  },
  {
   "cell_type": "markdown",
   "metadata": {},
   "source": [
    "### processing numbers ###"
   ]
  },
  {
   "cell_type": "code",
   "execution_count": 17,
   "metadata": {},
   "outputs": [
    {
     "name": "stdout",
     "output_type": "stream",
     "text": [
      "max number sequence length:  23\n"
     ]
    }
   ],
   "source": [
    "# the counts of the numbers in each sentence, get the distribution\n",
    "\n",
    "max_number_seq = 0\n",
    "num_seq_length = list()\n",
    "for i in numbers:\n",
    "    num_seq_length.append(len(i))\n",
    "max_number_seq = max(num_seq_length)\n",
    "print(\"max number sequence length: \", max_number_seq)\n"
   ]
  },
  {
   "cell_type": "code",
   "execution_count": 18,
   "metadata": {},
   "outputs": [
    {
     "data": {
      "image/png": "[encoded data removed]",
      "text/plain": [
       "<Figure size 432x288 with 1 Axes>"
      ]
     },
     "metadata": {
      "needs_background": "light"
     },
     "output_type": "display_data"
    }
   ],
   "source": [
    "# get the distribution of the count of the nubmers\n",
    "import matplotlib.pyplot as plt\n",
    "\n",
    "plt.title(\"The distribution of the count of nubmers in each sentence\")\n",
    "plt.hist(num_seq_length, bins=max_number_seq)\n",
    "plt.xticks(np.arange(max_number_seq))\n",
    "plt.show()"
   ]
  },
  {
   "cell_type": "code",
   "execution_count": 19,
   "metadata": {},
   "outputs": [
    {
     "name": "stdout",
     "output_type": "stream",
     "text": [
      "[[3.0000e+00 1.0000e-01 3.6000e+01 0.0000e+00 0.0000e+00]\n",
      " [4.0000e+01 1.2000e+02 3.2000e+01 4.0000e+00 0.0000e+00]\n",
      " [6.6670e-01 9.0000e+01 0.0000e+00 0.0000e+00 0.0000e+00]\n",
      " ...\n",
      " [2.0000e+00 1.0000e+00 0.0000e+00 0.0000e+00 0.0000e+00]\n",
      " [8.5184e+04 3.5200e+02 0.0000e+00 0.0000e+00 0.0000e+00]\n",
      " [7.5100e+00 7.8600e+00 8.0900e+00 8.3000e+00 7.7300e+00]]\n",
      "(29669, 5)\n",
      "float32\n"
     ]
    }
   ],
   "source": [
    "# pad sequence (get the first 5 nubmers)\n",
    "max_number_seq = 5\n",
    "x_train_num = sequence.pad_sequences(numbers, dtype='float32', truncating='post', padding='post')\n",
    "x_train_num = x_train_num[:, :max_number_seq]\n",
    "\n",
    "print(x_train_num)\n",
    "print(x_train_num.shape)\n",
    "print(x_train_num.dtype)"
   ]
  },
  {
   "cell_type": "code",
   "execution_count": 20,
   "metadata": {},
   "outputs": [],
   "source": [
    "y_train = ans_train"
   ]
  },
  {
   "cell_type": "markdown",
   "metadata": {},
   "source": [
    "## 5. Model"
   ]
  },
  {
   "cell_type": "code",
   "execution_count": 21,
   "metadata": {},
   "outputs": [],
   "source": [
    "# Load Glove vectors\n",
    "\n",
    "import numpy as np\n",
    "\n",
    "def create_embedding_matrix(filepath, word_index, embedding_dim):\n",
    "    vocab_size = len(word_index) + 1  # Adding again 1 because of reserved 0 index\n",
    "    embedding_matrix = np.zeros((vocab_size, embedding_dim))\n",
    "\n",
    "    with open(filepath, errors='ignore') as f:\n",
    "        for line in f:\n",
    "            word, *vector = line.split()\n",
    "            if word in word_index:\n",
    "                idx = word_index[word] \n",
    "                embedding_matrix[idx] = np.array(vector, dtype=np.float32)[:embedding_dim]\n",
    "\n",
    "    return embedding_matrix\n",
    "\n",
    "embedding_dim = 300\n",
    "glove_vec_file = 'dataset/glove.6B.300d.txt'\n",
    "embedding_matrix = create_embedding_matrix(glove_vec_file, tok.word_index, embedding_dim)"
   ]
  },
  {
   "cell_type": "code",
   "execution_count": 22,
   "metadata": {},
   "outputs": [
    {
     "data": {
      "text/plain": [
       "array([[ 0.        ,  0.        ,  0.        , ...,  0.        ,\n",
       "         0.        ,  0.        ],\n",
       "       [ 0.04656   ,  0.21318001, -0.0074364 , ...,  0.0090611 ,\n",
       "        -0.20988999,  0.053913  ],\n",
       "       [-0.076947  , -0.021211  ,  0.21270999, ...,  0.18351001,\n",
       "        -0.29183   , -0.046533  ],\n",
       "       ...,\n",
       "       [ 0.        ,  0.        ,  0.        , ...,  0.        ,\n",
       "         0.        ,  0.        ],\n",
       "       [-0.36386001, -0.19165   ,  0.1198    , ..., -0.41835001,\n",
       "         0.14703   , -0.21657   ],\n",
       "       [-0.56441998, -0.056414  ,  0.28173   , ..., -0.28823999,\n",
       "        -0.28601   , -0.13467   ]])"
      ]
     },
     "execution_count": 22,
     "metadata": {},
     "output_type": "execute_result"
    }
   ],
   "source": [
    "embedding_matrix"
   ]
  },
  {
   "cell_type": "code",
   "execution_count": 23,
   "metadata": {},
   "outputs": [
    {
     "name": "stdout",
     "output_type": "stream",
     "text": [
      "8097\n",
      "7572\n",
      "0.9351611708040015\n"
     ]
    }
   ],
   "source": [
    "vocab_size = len(tok.word_index) + 1\n",
    "print(vocab_size)\n",
    "nonzero_elements = np.count_nonzero(np.count_nonzero(embedding_matrix, axis=1))\n",
    "print(nonzero_elements)\n",
    "print(nonzero_elements / vocab_size)"
   ]
  },
  {
   "cell_type": "code",
   "execution_count": 24,
   "metadata": {},
   "outputs": [
    {
     "data": {
      "text/plain": [
       "(8097, 300)"
      ]
     },
     "execution_count": 24,
     "metadata": {},
     "output_type": "execute_result"
    }
   ],
   "source": [
    "embedding_matrix.shape"
   ]
  },
  {
   "cell_type": "markdown",
   "metadata": {},
   "source": [
    "### building model ###"
   ]
  },
  {
   "cell_type": "code",
   "execution_count": 25,
   "metadata": {},
   "outputs": [
    {
     "name": "stdout",
     "output_type": "stream",
     "text": [
      "Model: \"model\"\n",
      "__________________________________________________________________________________________________\n",
      "Layer (type)                    Output Shape         Param #     Connected to                     \n",
      "==================================================================================================\n",
      "input_1 (InputLayer)            [(None, 60)]         0                                            \n",
      "__________________________________________________________________________________________________\n",
      "embedding (Embedding)           (None, 60, 300)      2429100     input_1[0][0]                    \n",
      "__________________________________________________________________________________________________\n",
      "lstm (LSTM)                     (None, 16)           20288       embedding[0][0]                  \n",
      "__________________________________________________________________________________________________\n",
      "dropout (Dropout)               (None, 16)           0           lstm[0][0]                       \n",
      "__________________________________________________________________________________________________\n",
      "dense (Dense)                   (None, 8)            136         dropout[0][0]                    \n",
      "__________________________________________________________________________________________________\n",
      "input_3 (InputLayer)            [(None, 5)]          0                                            \n",
      "__________________________________________________________________________________________________\n",
      "concatenate (Concatenate)       (None, 13)           0           dense[0][0]                      \n",
      "                                                                 input_3[0][0]                    \n",
      "__________________________________________________________________________________________________\n",
      "dense_1 (Dense)                 (None, 1)            14          concatenate[0][0]                \n",
      "==================================================================================================\n",
      "Total params: 2,449,538\n",
      "Trainable params: 20,438\n",
      "Non-trainable params: 2,429,100\n",
      "__________________________________________________________________________________________________\n"
     ]
    }
   ],
   "source": [
    "LSTM_DIM = 16\n",
    "DROPOUT = 0.1\n",
    "ACTIVATION = 'relu'\n",
    "OPTIMIZER = 'adam'\n",
    "LOSS = 'mean_squared_error'\n",
    "HIDDEN_DIM = 8\n",
    "\n",
    "from keras import layers\n",
    "from keras.models import Sequential, Model\n",
    "from keras.layers import Dense, Dropout, Flatten, Embedding, LSTM, Bidirectional, Input\n",
    "from keras.layers.merge import concatenate\n",
    "\n",
    "def buildModel(vsize, input_dim, maxlen, emb_matrix, maxnumbers):\n",
    "\n",
    "    text_input = Input(shape=(maxlen, ))     \n",
    "    numerical_input = Input(shape=(maxnumbers, ))\n",
    "    \n",
    "    emb = Embedding(input_dim=vsize, \n",
    "                   output_dim=input_dim, \n",
    "                   weights=[emb_matrix],\n",
    "                   trainable=False)(text_input)\n",
    "    \n",
    "    z = LSTM(LSTM_DIM)(emb)\n",
    "    z = Dropout(DROPOUT)(z)\n",
    "    z = Dense(HIDDEN_DIM, activation=ACTIVATION)(z)\n",
    "    \n",
    "    numerical_input = Input(shape=(maxnumbers, ))\n",
    "    \n",
    "    merged = concatenate([z, numerical_input])    \n",
    "    predictions = Dense(1, activation='linear')(merged)\n",
    "    \n",
    "    model = Model([text_input, numerical_input], outputs=predictions)\n",
    "    \n",
    "    model.compile(optimizer=OPTIMIZER,\n",
    "                  loss = LOSS,\n",
    "                  metrics=[tf.keras.metrics.RootMeanSquaredError(name='rmse')])\n",
    "    \n",
    "    return model\n",
    "\n",
    "model = buildModel(vocab_size, embedding_dim, sequence_length, embedding_matrix, max_number_seq)\n",
    "model.summary()"
   ]
  },
  {
   "cell_type": "code",
   "execution_count": 26,
   "metadata": {},
   "outputs": [
    {
     "name": "stdout",
     "output_type": "stream",
     "text": [
      "(29669, 60)\n",
      "(29669, 5)\n",
      "(29669,)\n",
      "[[   1 1351   40  343    2    3   65   57  401   49  950   10   25  217\n",
      "     4   22    8    4    1  251  434    0    0    0    0    0    0    0\n",
      "     0    0    0    0    0    0    0    0    0    0    0    0    0    0\n",
      "     0    0    0    0    0    0    0    0    0    0    0    0    0    0\n",
      "     0    0    0    0]\n",
      " [  27  102    2   80    2   38 2468  240    4   49  131   80  243   27\n",
      "   102    4   49  734    1  240   45    3  445    1   27  102    4  406\n",
      "    12   49   30    1   19    2   80    2    1  240   71 2281    2    1\n",
      "   131   80    0    0    0    0    0    0    0    0    0    0    0    0\n",
      "     0    0    0    0]\n",
      " [ 741    2    3  355  112  942   15  112  741   61  649   34  112   60\n",
      "  4132    7  710   11   62    4  141  355    0    0    0    0    0    0\n",
      "     0    0    0    0    0    0    0    0    0    0    0    0    0    0\n",
      "     0    0    0    0    0    0    0    0    0    0    0    0    0    0\n",
      "     0    0    0    0]\n",
      " [   4    8   29    2    0    0    0    0    0    0    0    0    0    0\n",
      "     0    0    0    0    0    0    0    0    0    0    0    0    0    0\n",
      "     0    0    0    0    0    0    0    0    0    0    0    0    0    0\n",
      "     0    0    0    0    0    0    0    0    0    0    0    0    0    0\n",
      "     0    0    0    0]\n",
      " [  68   13  317    5  205    6    3 3304    8    4    1   46    2  317\n",
      "     7  205    0    0    0    0    0    0    0    0    0    0    0    0\n",
      "     0    0    0    0    0    0    0    0    0    0    0    0    0    0\n",
      "     0    0    0    0    0    0    0    0    0    0    0    0    0    0\n",
      "     0    0    0    0]]\n",
      "[[3.000e+00 1.000e-01 3.600e+01 0.000e+00 0.000e+00]\n",
      " [4.000e+01 1.200e+02 3.200e+01 4.000e+00 0.000e+00]\n",
      " [6.667e-01 9.000e+01 0.000e+00 0.000e+00 0.000e+00]\n",
      " [1.200e+02 5.000e+01 0.000e+00 0.000e+00 0.000e+00]\n",
      " [1.000e+01 2.000e+01 0.000e+00 0.000e+00 0.000e+00]]\n",
      "[0.25806452 0.125      0.14040562 0.30112923 0.28302955]\n"
     ]
    }
   ],
   "source": [
    "print(x_train.shape)\n",
    "print(x_train_num.shape)\n",
    "print(y_train.shape)\n",
    "\n",
    "print(x_train[:5])\n",
    "print(x_train_num[:5])\n",
    "print(y_train[:5])"
   ]
  },
  {
   "cell_type": "code",
   "execution_count": 27,
   "metadata": {},
   "outputs": [
    {
     "name": "stdout",
     "output_type": "stream",
     "text": [
      "535/535 [==============================] - 11s 18ms/step - loss: nan - rmse: nan - val_loss: nan - val_rmse: nan\n"
     ]
    },
    {
     "data": {
      "text/plain": [
       "<keras.callbacks.History at 0x131721e5160>"
      ]
     },
     "execution_count": 27,
     "metadata": {},
     "output_type": "execute_result"
    }
   ],
   "source": [
    "EPOCHS = 1\n",
    "\n",
    "model.fit(\n",
    "    x=[x_train, x_train_num],\n",
    "    y=y_train,\n",
    "    batch_size=50,\n",
    "    validation_split=0.1,\n",
    "    epochs=EPOCHS,\n",
    ")"
   ]
  },
  {
   "cell_type": "code",
   "execution_count": 31,
   "metadata": {},
   "outputs": [
    {
     "data": {
      "text/plain": [
       "array([0.25806452, 0.125     , 0.14040562, ..., 0.57142857, 0.19934102,\n",
       "       0.29268293])"
      ]
     },
     "execution_count": 31,
     "metadata": {},
     "output_type": "execute_result"
    }
   ],
   "source": [
    "y_train"
   ]
  },
  {
   "cell_type": "code",
   "execution_count": null,
   "metadata": {},
   "outputs": [],
   "source": []
  }
 ],
 "metadata": {
  "kernelspec": {
   "display_name": "pytorch",
   "language": "python",
   "name": "pytorch"
  },
  "language_info": {
   "codemirror_mode": {
    "name": "ipython",
    "version": 3
   },
   "file_extension": ".py",
   "mimetype": "text/x-python",
   "name": "python",
   "nbconvert_exporter": "python",
   "pygments_lexer": "ipython3",
   "version": "3.7.0"
  }
 },
 "nbformat": 4,
 "nbformat_minor": 2
}
